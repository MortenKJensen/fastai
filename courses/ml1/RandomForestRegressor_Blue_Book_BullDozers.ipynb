{
 "cells": [
  {
   "cell_type": "markdown",
   "metadata": {},
   "source": [
    "# RandomForestRegressor with the Blue Book for Bulldozers"
   ]
  },
  {
   "cell_type": "markdown",
   "metadata": {},
   "source": [
    "We will be looking at the Blue Book for Bulldozers Kaggle Competition: \"The goal of the contest is to predict the sale price of a particular piece of heavy equiment at auction based on it's usage, equipment type, and configuration. The data is sourced from auction result postings and includes information on usage and equipment configurations.\"\n",
    "This is a very common type of dataset and prediciton problem, and similar to what you may see in your project or workplace.\n",
    "\n",
    "https://www.kaggle.com/c/bluebook-for-bulldozers"
   ]
  },
  {
   "cell_type": "markdown",
   "metadata": {},
   "source": [
    "Using a Random Forest Regressor from the sklearn library and the fastai library, we will predict the price."
   ]
  },
  {
   "cell_type": "markdown",
   "metadata": {},
   "source": [
    "#### Initialisation"
   ]
  },
  {
   "cell_type": "code",
   "execution_count": 192,
   "metadata": {},
   "outputs": [
    {
     "name": "stdout",
     "output_type": "stream",
     "text": [
      "The autoreload extension is already loaded. To reload it, use:\n",
      "  %reload_ext autoreload\n"
     ]
    }
   ],
   "source": [
    "%load_ext autoreload\n",
    "%autoreload 2\n",
    "\n",
    "%matplotlib inline"
   ]
  },
  {
   "cell_type": "code",
   "execution_count": 193,
   "metadata": {},
   "outputs": [],
   "source": [
    "from fastai.imports import *\n",
    "from fastai.structured import *\n",
    "\n",
    "from pandas_summary import DataFrameSummary\n",
    "from sklearn.ensemble import RandomForestRegressor, RandomForestClassifier\n",
    "from IPython.display import display\n",
    "\n",
    "from sklearn import datasets, linear_model\n",
    "from sklearn import metrics"
   ]
  },
  {
   "cell_type": "markdown",
   "metadata": {},
   "source": [
    "### The data"
   ]
  },
  {
   "cell_type": "markdown",
   "metadata": {},
   "source": [
    "Set the path to the folder containing the data set"
   ]
  },
  {
   "cell_type": "code",
   "execution_count": 3,
   "metadata": {},
   "outputs": [],
   "source": [
    "Mac = \"yes\""
   ]
  },
  {
   "cell_type": "code",
   "execution_count": 19,
   "metadata": {},
   "outputs": [],
   "source": [
    "if Mac == \"yes\":\n",
    "    PATH = \"/Users/mortenjensen/fastai/data/bulldozer/above100mb/\"\n",
    "else:\n",
    "    PATH = \"/home/ubuntu/fastai/data/bulldozer/\"\n",
    "    "
   ]
  },
  {
   "cell_type": "markdown",
   "metadata": {},
   "source": [
    "Using pandas the .csv file is read to a dataframe. Columns containing dates should be included in \"parse_dates=\""
   ]
  },
  {
   "cell_type": "code",
   "execution_count": 21,
   "metadata": {},
   "outputs": [],
   "source": [
    "df_raw = pd.read_csv(f'{PATH}Train.csv', low_memory=False, \n",
    "                     parse_dates=[\"saledate\"])"
   ]
  },
  {
   "cell_type": "markdown",
   "metadata": {},
   "source": [
    "The bull book data set contains 401125 rows of observations and 53-1 features."
   ]
  },
  {
   "cell_type": "code",
   "execution_count": 22,
   "metadata": {},
   "outputs": [
    {
     "data": {
      "text/plain": [
       "(401125, 53)"
      ]
     },
     "execution_count": 22,
     "metadata": {},
     "output_type": "execute_result"
    }
   ],
   "source": [
    "df_raw.shape"
   ]
  },
  {
   "cell_type": "markdown",
   "metadata": {},
   "source": [
    "To inspect the dateframe, we define a function to display a maximum of 1000 elements in each direction:"
   ]
  },
  {
   "cell_type": "code",
   "execution_count": 23,
   "metadata": {},
   "outputs": [],
   "source": [
    "def display_all(df):\n",
    "    with pd.option_context(\"display.max_rows\", 1000, \"display.max_columns\", 1000): \n",
    "        display(df)"
   ]
  },
  {
   "cell_type": "markdown",
   "metadata": {},
   "source": [
    "#### Display the dataframe"
   ]
  },
  {
   "cell_type": "code",
   "execution_count": 24,
   "metadata": {},
   "outputs": [
    {
     "data": {
      "text/html": [
       "<div>\n",
       "<style scoped>\n",
       "    .dataframe tbody tr th:only-of-type {\n",
       "        vertical-align: middle;\n",
       "    }\n",
       "\n",
       "    .dataframe tbody tr th {\n",
       "        vertical-align: top;\n",
       "    }\n",
       "\n",
       "    .dataframe thead th {\n",
       "        text-align: right;\n",
       "    }\n",
       "</style>\n",
       "<table border=\"1\" class=\"dataframe\">\n",
       "  <thead>\n",
       "    <tr style=\"text-align: right;\">\n",
       "      <th></th>\n",
       "      <th>SalesID</th>\n",
       "      <th>SalePrice</th>\n",
       "      <th>MachineID</th>\n",
       "      <th>ModelID</th>\n",
       "      <th>datasource</th>\n",
       "      <th>auctioneerID</th>\n",
       "      <th>YearMade</th>\n",
       "      <th>MachineHoursCurrentMeter</th>\n",
       "      <th>UsageBand</th>\n",
       "      <th>saledate</th>\n",
       "      <th>fiModelDesc</th>\n",
       "      <th>fiBaseModel</th>\n",
       "      <th>fiSecondaryDesc</th>\n",
       "      <th>fiModelSeries</th>\n",
       "      <th>fiModelDescriptor</th>\n",
       "      <th>ProductSize</th>\n",
       "      <th>fiProductClassDesc</th>\n",
       "      <th>state</th>\n",
       "      <th>ProductGroup</th>\n",
       "      <th>ProductGroupDesc</th>\n",
       "      <th>Drive_System</th>\n",
       "      <th>Enclosure</th>\n",
       "      <th>Forks</th>\n",
       "      <th>Pad_Type</th>\n",
       "      <th>Ride_Control</th>\n",
       "      <th>Stick</th>\n",
       "      <th>Transmission</th>\n",
       "      <th>Turbocharged</th>\n",
       "      <th>Blade_Extension</th>\n",
       "      <th>Blade_Width</th>\n",
       "      <th>Enclosure_Type</th>\n",
       "      <th>Engine_Horsepower</th>\n",
       "      <th>Hydraulics</th>\n",
       "      <th>Pushblock</th>\n",
       "      <th>Ripper</th>\n",
       "      <th>Scarifier</th>\n",
       "      <th>Tip_Control</th>\n",
       "      <th>Tire_Size</th>\n",
       "      <th>Coupler</th>\n",
       "      <th>Coupler_System</th>\n",
       "      <th>Grouser_Tracks</th>\n",
       "      <th>Hydraulics_Flow</th>\n",
       "      <th>Track_Type</th>\n",
       "      <th>Undercarriage_Pad_Width</th>\n",
       "      <th>Stick_Length</th>\n",
       "      <th>Thumb</th>\n",
       "      <th>Pattern_Changer</th>\n",
       "      <th>Grouser_Type</th>\n",
       "      <th>Backhoe_Mounting</th>\n",
       "      <th>Blade_Type</th>\n",
       "      <th>Travel_Controls</th>\n",
       "      <th>Differential_Type</th>\n",
       "      <th>Steering_Controls</th>\n",
       "    </tr>\n",
       "  </thead>\n",
       "  <tbody>\n",
       "    <tr>\n",
       "      <th>0</th>\n",
       "      <td>1139246</td>\n",
       "      <td>66000</td>\n",
       "      <td>999089</td>\n",
       "      <td>3157</td>\n",
       "      <td>121</td>\n",
       "      <td>3.0</td>\n",
       "      <td>2004</td>\n",
       "      <td>68.0</td>\n",
       "      <td>Low</td>\n",
       "      <td>2006-11-16</td>\n",
       "      <td>521D</td>\n",
       "      <td>521</td>\n",
       "      <td>D</td>\n",
       "      <td>NaN</td>\n",
       "      <td>NaN</td>\n",
       "      <td>NaN</td>\n",
       "      <td>Wheel Loader - 110.0 to 120.0 Horsepower</td>\n",
       "      <td>Alabama</td>\n",
       "      <td>WL</td>\n",
       "      <td>Wheel Loader</td>\n",
       "      <td>NaN</td>\n",
       "      <td>EROPS w AC</td>\n",
       "      <td>None or Unspecified</td>\n",
       "      <td>NaN</td>\n",
       "      <td>None or Unspecified</td>\n",
       "      <td>NaN</td>\n",
       "      <td>NaN</td>\n",
       "      <td>NaN</td>\n",
       "      <td>NaN</td>\n",
       "      <td>NaN</td>\n",
       "      <td>NaN</td>\n",
       "      <td>NaN</td>\n",
       "      <td>2 Valve</td>\n",
       "      <td>NaN</td>\n",
       "      <td>NaN</td>\n",
       "      <td>NaN</td>\n",
       "      <td>NaN</td>\n",
       "      <td>None or Unspecified</td>\n",
       "      <td>None or Unspecified</td>\n",
       "      <td>NaN</td>\n",
       "      <td>NaN</td>\n",
       "      <td>NaN</td>\n",
       "      <td>NaN</td>\n",
       "      <td>NaN</td>\n",
       "      <td>NaN</td>\n",
       "      <td>NaN</td>\n",
       "      <td>NaN</td>\n",
       "      <td>NaN</td>\n",
       "      <td>NaN</td>\n",
       "      <td>NaN</td>\n",
       "      <td>NaN</td>\n",
       "      <td>Standard</td>\n",
       "      <td>Conventional</td>\n",
       "    </tr>\n",
       "    <tr>\n",
       "      <th>1</th>\n",
       "      <td>1139248</td>\n",
       "      <td>57000</td>\n",
       "      <td>117657</td>\n",
       "      <td>77</td>\n",
       "      <td>121</td>\n",
       "      <td>3.0</td>\n",
       "      <td>1996</td>\n",
       "      <td>4640.0</td>\n",
       "      <td>Low</td>\n",
       "      <td>2004-03-26</td>\n",
       "      <td>950FII</td>\n",
       "      <td>950</td>\n",
       "      <td>F</td>\n",
       "      <td>II</td>\n",
       "      <td>NaN</td>\n",
       "      <td>Medium</td>\n",
       "      <td>Wheel Loader - 150.0 to 175.0 Horsepower</td>\n",
       "      <td>North Carolina</td>\n",
       "      <td>WL</td>\n",
       "      <td>Wheel Loader</td>\n",
       "      <td>NaN</td>\n",
       "      <td>EROPS w AC</td>\n",
       "      <td>None or Unspecified</td>\n",
       "      <td>NaN</td>\n",
       "      <td>None or Unspecified</td>\n",
       "      <td>NaN</td>\n",
       "      <td>NaN</td>\n",
       "      <td>NaN</td>\n",
       "      <td>NaN</td>\n",
       "      <td>NaN</td>\n",
       "      <td>NaN</td>\n",
       "      <td>NaN</td>\n",
       "      <td>2 Valve</td>\n",
       "      <td>NaN</td>\n",
       "      <td>NaN</td>\n",
       "      <td>NaN</td>\n",
       "      <td>NaN</td>\n",
       "      <td>23.5</td>\n",
       "      <td>None or Unspecified</td>\n",
       "      <td>NaN</td>\n",
       "      <td>NaN</td>\n",
       "      <td>NaN</td>\n",
       "      <td>NaN</td>\n",
       "      <td>NaN</td>\n",
       "      <td>NaN</td>\n",
       "      <td>NaN</td>\n",
       "      <td>NaN</td>\n",
       "      <td>NaN</td>\n",
       "      <td>NaN</td>\n",
       "      <td>NaN</td>\n",
       "      <td>NaN</td>\n",
       "      <td>Standard</td>\n",
       "      <td>Conventional</td>\n",
       "    </tr>\n",
       "    <tr>\n",
       "      <th>2</th>\n",
       "      <td>1139249</td>\n",
       "      <td>10000</td>\n",
       "      <td>434808</td>\n",
       "      <td>7009</td>\n",
       "      <td>121</td>\n",
       "      <td>3.0</td>\n",
       "      <td>2001</td>\n",
       "      <td>2838.0</td>\n",
       "      <td>High</td>\n",
       "      <td>2004-02-26</td>\n",
       "      <td>226</td>\n",
       "      <td>226</td>\n",
       "      <td>NaN</td>\n",
       "      <td>NaN</td>\n",
       "      <td>NaN</td>\n",
       "      <td>NaN</td>\n",
       "      <td>Skid Steer Loader - 1351.0 to 1601.0 Lb Operat...</td>\n",
       "      <td>New York</td>\n",
       "      <td>SSL</td>\n",
       "      <td>Skid Steer Loaders</td>\n",
       "      <td>NaN</td>\n",
       "      <td>OROPS</td>\n",
       "      <td>None or Unspecified</td>\n",
       "      <td>NaN</td>\n",
       "      <td>NaN</td>\n",
       "      <td>NaN</td>\n",
       "      <td>NaN</td>\n",
       "      <td>NaN</td>\n",
       "      <td>NaN</td>\n",
       "      <td>NaN</td>\n",
       "      <td>NaN</td>\n",
       "      <td>NaN</td>\n",
       "      <td>Auxiliary</td>\n",
       "      <td>NaN</td>\n",
       "      <td>NaN</td>\n",
       "      <td>NaN</td>\n",
       "      <td>NaN</td>\n",
       "      <td>NaN</td>\n",
       "      <td>None or Unspecified</td>\n",
       "      <td>None or Unspecified</td>\n",
       "      <td>None or Unspecified</td>\n",
       "      <td>Standard</td>\n",
       "      <td>NaN</td>\n",
       "      <td>NaN</td>\n",
       "      <td>NaN</td>\n",
       "      <td>NaN</td>\n",
       "      <td>NaN</td>\n",
       "      <td>NaN</td>\n",
       "      <td>NaN</td>\n",
       "      <td>NaN</td>\n",
       "      <td>NaN</td>\n",
       "      <td>NaN</td>\n",
       "      <td>NaN</td>\n",
       "    </tr>\n",
       "    <tr>\n",
       "      <th>3</th>\n",
       "      <td>1139251</td>\n",
       "      <td>38500</td>\n",
       "      <td>1026470</td>\n",
       "      <td>332</td>\n",
       "      <td>121</td>\n",
       "      <td>3.0</td>\n",
       "      <td>2001</td>\n",
       "      <td>3486.0</td>\n",
       "      <td>High</td>\n",
       "      <td>2011-05-19</td>\n",
       "      <td>PC120-6E</td>\n",
       "      <td>PC120</td>\n",
       "      <td>NaN</td>\n",
       "      <td>-6E</td>\n",
       "      <td>NaN</td>\n",
       "      <td>Small</td>\n",
       "      <td>Hydraulic Excavator, Track - 12.0 to 14.0 Metr...</td>\n",
       "      <td>Texas</td>\n",
       "      <td>TEX</td>\n",
       "      <td>Track Excavators</td>\n",
       "      <td>NaN</td>\n",
       "      <td>EROPS w AC</td>\n",
       "      <td>NaN</td>\n",
       "      <td>NaN</td>\n",
       "      <td>NaN</td>\n",
       "      <td>NaN</td>\n",
       "      <td>NaN</td>\n",
       "      <td>NaN</td>\n",
       "      <td>NaN</td>\n",
       "      <td>NaN</td>\n",
       "      <td>NaN</td>\n",
       "      <td>NaN</td>\n",
       "      <td>2 Valve</td>\n",
       "      <td>NaN</td>\n",
       "      <td>NaN</td>\n",
       "      <td>NaN</td>\n",
       "      <td>NaN</td>\n",
       "      <td>NaN</td>\n",
       "      <td>None or Unspecified</td>\n",
       "      <td>NaN</td>\n",
       "      <td>NaN</td>\n",
       "      <td>NaN</td>\n",
       "      <td>NaN</td>\n",
       "      <td>NaN</td>\n",
       "      <td>NaN</td>\n",
       "      <td>NaN</td>\n",
       "      <td>NaN</td>\n",
       "      <td>NaN</td>\n",
       "      <td>NaN</td>\n",
       "      <td>NaN</td>\n",
       "      <td>NaN</td>\n",
       "      <td>NaN</td>\n",
       "      <td>NaN</td>\n",
       "    </tr>\n",
       "    <tr>\n",
       "      <th>4</th>\n",
       "      <td>1139253</td>\n",
       "      <td>11000</td>\n",
       "      <td>1057373</td>\n",
       "      <td>17311</td>\n",
       "      <td>121</td>\n",
       "      <td>3.0</td>\n",
       "      <td>2007</td>\n",
       "      <td>722.0</td>\n",
       "      <td>Medium</td>\n",
       "      <td>2009-07-23</td>\n",
       "      <td>S175</td>\n",
       "      <td>S175</td>\n",
       "      <td>NaN</td>\n",
       "      <td>NaN</td>\n",
       "      <td>NaN</td>\n",
       "      <td>NaN</td>\n",
       "      <td>Skid Steer Loader - 1601.0 to 1751.0 Lb Operat...</td>\n",
       "      <td>New York</td>\n",
       "      <td>SSL</td>\n",
       "      <td>Skid Steer Loaders</td>\n",
       "      <td>NaN</td>\n",
       "      <td>EROPS</td>\n",
       "      <td>None or Unspecified</td>\n",
       "      <td>NaN</td>\n",
       "      <td>NaN</td>\n",
       "      <td>NaN</td>\n",
       "      <td>NaN</td>\n",
       "      <td>NaN</td>\n",
       "      <td>NaN</td>\n",
       "      <td>NaN</td>\n",
       "      <td>NaN</td>\n",
       "      <td>NaN</td>\n",
       "      <td>Auxiliary</td>\n",
       "      <td>NaN</td>\n",
       "      <td>NaN</td>\n",
       "      <td>NaN</td>\n",
       "      <td>NaN</td>\n",
       "      <td>NaN</td>\n",
       "      <td>None or Unspecified</td>\n",
       "      <td>None or Unspecified</td>\n",
       "      <td>None or Unspecified</td>\n",
       "      <td>Standard</td>\n",
       "      <td>NaN</td>\n",
       "      <td>NaN</td>\n",
       "      <td>NaN</td>\n",
       "      <td>NaN</td>\n",
       "      <td>NaN</td>\n",
       "      <td>NaN</td>\n",
       "      <td>NaN</td>\n",
       "      <td>NaN</td>\n",
       "      <td>NaN</td>\n",
       "      <td>NaN</td>\n",
       "      <td>NaN</td>\n",
       "    </tr>\n",
       "  </tbody>\n",
       "</table>\n",
       "</div>"
      ],
      "text/plain": [
       "   SalesID  SalePrice  MachineID  ModelID  datasource  auctioneerID  YearMade  \\\n",
       "0  1139246      66000     999089     3157         121           3.0      2004   \n",
       "1  1139248      57000     117657       77         121           3.0      1996   \n",
       "2  1139249      10000     434808     7009         121           3.0      2001   \n",
       "3  1139251      38500    1026470      332         121           3.0      2001   \n",
       "4  1139253      11000    1057373    17311         121           3.0      2007   \n",
       "\n",
       "   MachineHoursCurrentMeter UsageBand   saledate fiModelDesc fiBaseModel  \\\n",
       "0                      68.0       Low 2006-11-16        521D         521   \n",
       "1                    4640.0       Low 2004-03-26      950FII         950   \n",
       "2                    2838.0      High 2004-02-26         226         226   \n",
       "3                    3486.0      High 2011-05-19    PC120-6E       PC120   \n",
       "4                     722.0    Medium 2009-07-23        S175        S175   \n",
       "\n",
       "  fiSecondaryDesc fiModelSeries fiModelDescriptor ProductSize  \\\n",
       "0               D           NaN               NaN         NaN   \n",
       "1               F            II               NaN      Medium   \n",
       "2             NaN           NaN               NaN         NaN   \n",
       "3             NaN           -6E               NaN       Small   \n",
       "4             NaN           NaN               NaN         NaN   \n",
       "\n",
       "                                  fiProductClassDesc           state  \\\n",
       "0           Wheel Loader - 110.0 to 120.0 Horsepower         Alabama   \n",
       "1           Wheel Loader - 150.0 to 175.0 Horsepower  North Carolina   \n",
       "2  Skid Steer Loader - 1351.0 to 1601.0 Lb Operat...        New York   \n",
       "3  Hydraulic Excavator, Track - 12.0 to 14.0 Metr...           Texas   \n",
       "4  Skid Steer Loader - 1601.0 to 1751.0 Lb Operat...        New York   \n",
       "\n",
       "  ProductGroup    ProductGroupDesc Drive_System   Enclosure  \\\n",
       "0           WL        Wheel Loader          NaN  EROPS w AC   \n",
       "1           WL        Wheel Loader          NaN  EROPS w AC   \n",
       "2          SSL  Skid Steer Loaders          NaN       OROPS   \n",
       "3          TEX    Track Excavators          NaN  EROPS w AC   \n",
       "4          SSL  Skid Steer Loaders          NaN       EROPS   \n",
       "\n",
       "                 Forks Pad_Type         Ride_Control Stick Transmission  \\\n",
       "0  None or Unspecified      NaN  None or Unspecified   NaN          NaN   \n",
       "1  None or Unspecified      NaN  None or Unspecified   NaN          NaN   \n",
       "2  None or Unspecified      NaN                  NaN   NaN          NaN   \n",
       "3                  NaN      NaN                  NaN   NaN          NaN   \n",
       "4  None or Unspecified      NaN                  NaN   NaN          NaN   \n",
       "\n",
       "  Turbocharged Blade_Extension Blade_Width Enclosure_Type Engine_Horsepower  \\\n",
       "0          NaN             NaN         NaN            NaN               NaN   \n",
       "1          NaN             NaN         NaN            NaN               NaN   \n",
       "2          NaN             NaN         NaN            NaN               NaN   \n",
       "3          NaN             NaN         NaN            NaN               NaN   \n",
       "4          NaN             NaN         NaN            NaN               NaN   \n",
       "\n",
       "  Hydraulics Pushblock Ripper Scarifier Tip_Control            Tire_Size  \\\n",
       "0    2 Valve       NaN    NaN       NaN         NaN  None or Unspecified   \n",
       "1    2 Valve       NaN    NaN       NaN         NaN                 23.5   \n",
       "2  Auxiliary       NaN    NaN       NaN         NaN                  NaN   \n",
       "3    2 Valve       NaN    NaN       NaN         NaN                  NaN   \n",
       "4  Auxiliary       NaN    NaN       NaN         NaN                  NaN   \n",
       "\n",
       "               Coupler       Coupler_System       Grouser_Tracks  \\\n",
       "0  None or Unspecified                  NaN                  NaN   \n",
       "1  None or Unspecified                  NaN                  NaN   \n",
       "2  None or Unspecified  None or Unspecified  None or Unspecified   \n",
       "3  None or Unspecified                  NaN                  NaN   \n",
       "4  None or Unspecified  None or Unspecified  None or Unspecified   \n",
       "\n",
       "  Hydraulics_Flow Track_Type Undercarriage_Pad_Width Stick_Length Thumb  \\\n",
       "0             NaN        NaN                     NaN          NaN   NaN   \n",
       "1             NaN        NaN                     NaN          NaN   NaN   \n",
       "2        Standard        NaN                     NaN          NaN   NaN   \n",
       "3             NaN        NaN                     NaN          NaN   NaN   \n",
       "4        Standard        NaN                     NaN          NaN   NaN   \n",
       "\n",
       "  Pattern_Changer Grouser_Type Backhoe_Mounting Blade_Type Travel_Controls  \\\n",
       "0             NaN          NaN              NaN        NaN             NaN   \n",
       "1             NaN          NaN              NaN        NaN             NaN   \n",
       "2             NaN          NaN              NaN        NaN             NaN   \n",
       "3             NaN          NaN              NaN        NaN             NaN   \n",
       "4             NaN          NaN              NaN        NaN             NaN   \n",
       "\n",
       "  Differential_Type Steering_Controls  \n",
       "0          Standard      Conventional  \n",
       "1          Standard      Conventional  \n",
       "2               NaN               NaN  \n",
       "3               NaN               NaN  \n",
       "4               NaN               NaN  "
      ]
     },
     "metadata": {},
     "output_type": "display_data"
    }
   ],
   "source": [
    "display_all(df_raw.head())"
   ]
  },
  {
   "cell_type": "code",
   "execution_count": 25,
   "metadata": {},
   "outputs": [
    {
     "data": {
      "text/html": [
       "<div>\n",
       "<style scoped>\n",
       "    .dataframe tbody tr th:only-of-type {\n",
       "        vertical-align: middle;\n",
       "    }\n",
       "\n",
       "    .dataframe tbody tr th {\n",
       "        vertical-align: top;\n",
       "    }\n",
       "\n",
       "    .dataframe thead th {\n",
       "        text-align: right;\n",
       "    }\n",
       "</style>\n",
       "<table border=\"1\" class=\"dataframe\">\n",
       "  <thead>\n",
       "    <tr style=\"text-align: right;\">\n",
       "      <th></th>\n",
       "      <th>SalesID</th>\n",
       "      <th>SalePrice</th>\n",
       "      <th>MachineID</th>\n",
       "      <th>ModelID</th>\n",
       "      <th>datasource</th>\n",
       "      <th>auctioneerID</th>\n",
       "      <th>YearMade</th>\n",
       "      <th>MachineHoursCurrentMeter</th>\n",
       "      <th>UsageBand</th>\n",
       "      <th>saledate</th>\n",
       "      <th>fiModelDesc</th>\n",
       "      <th>fiBaseModel</th>\n",
       "      <th>fiSecondaryDesc</th>\n",
       "      <th>fiModelSeries</th>\n",
       "      <th>fiModelDescriptor</th>\n",
       "      <th>ProductSize</th>\n",
       "      <th>fiProductClassDesc</th>\n",
       "      <th>state</th>\n",
       "      <th>ProductGroup</th>\n",
       "      <th>ProductGroupDesc</th>\n",
       "      <th>Drive_System</th>\n",
       "      <th>Enclosure</th>\n",
       "      <th>Forks</th>\n",
       "      <th>Pad_Type</th>\n",
       "      <th>Ride_Control</th>\n",
       "      <th>Stick</th>\n",
       "      <th>Transmission</th>\n",
       "      <th>Turbocharged</th>\n",
       "      <th>Blade_Extension</th>\n",
       "      <th>Blade_Width</th>\n",
       "      <th>Enclosure_Type</th>\n",
       "      <th>Engine_Horsepower</th>\n",
       "      <th>Hydraulics</th>\n",
       "      <th>Pushblock</th>\n",
       "      <th>Ripper</th>\n",
       "      <th>Scarifier</th>\n",
       "      <th>Tip_Control</th>\n",
       "      <th>Tire_Size</th>\n",
       "      <th>Coupler</th>\n",
       "      <th>Coupler_System</th>\n",
       "      <th>Grouser_Tracks</th>\n",
       "      <th>Hydraulics_Flow</th>\n",
       "      <th>Track_Type</th>\n",
       "      <th>Undercarriage_Pad_Width</th>\n",
       "      <th>Stick_Length</th>\n",
       "      <th>Thumb</th>\n",
       "      <th>Pattern_Changer</th>\n",
       "      <th>Grouser_Type</th>\n",
       "      <th>Backhoe_Mounting</th>\n",
       "      <th>Blade_Type</th>\n",
       "      <th>Travel_Controls</th>\n",
       "      <th>Differential_Type</th>\n",
       "      <th>Steering_Controls</th>\n",
       "    </tr>\n",
       "  </thead>\n",
       "  <tbody>\n",
       "    <tr>\n",
       "      <th>count</th>\n",
       "      <td>4.011250e+05</td>\n",
       "      <td>401125.000000</td>\n",
       "      <td>4.011250e+05</td>\n",
       "      <td>401125.000000</td>\n",
       "      <td>401125.000000</td>\n",
       "      <td>380989.000000</td>\n",
       "      <td>401125.000000</td>\n",
       "      <td>1.427650e+05</td>\n",
       "      <td>69639</td>\n",
       "      <td>401125</td>\n",
       "      <td>401125</td>\n",
       "      <td>401125</td>\n",
       "      <td>263934</td>\n",
       "      <td>56908</td>\n",
       "      <td>71919</td>\n",
       "      <td>190350</td>\n",
       "      <td>401125</td>\n",
       "      <td>401125</td>\n",
       "      <td>401125</td>\n",
       "      <td>401125</td>\n",
       "      <td>104361</td>\n",
       "      <td>400800</td>\n",
       "      <td>192077</td>\n",
       "      <td>79134</td>\n",
       "      <td>148606</td>\n",
       "      <td>79134</td>\n",
       "      <td>183230</td>\n",
       "      <td>79134</td>\n",
       "      <td>25219</td>\n",
       "      <td>25219</td>\n",
       "      <td>25219</td>\n",
       "      <td>25219</td>\n",
       "      <td>320570</td>\n",
       "      <td>25219</td>\n",
       "      <td>104137</td>\n",
       "      <td>25230</td>\n",
       "      <td>25219</td>\n",
       "      <td>94718</td>\n",
       "      <td>213952</td>\n",
       "      <td>43458</td>\n",
       "      <td>43362</td>\n",
       "      <td>43362</td>\n",
       "      <td>99153</td>\n",
       "      <td>99872</td>\n",
       "      <td>99218</td>\n",
       "      <td>99288</td>\n",
       "      <td>99218</td>\n",
       "      <td>99153</td>\n",
       "      <td>78672</td>\n",
       "      <td>79833</td>\n",
       "      <td>79834</td>\n",
       "      <td>69411</td>\n",
       "      <td>69369</td>\n",
       "    </tr>\n",
       "    <tr>\n",
       "      <th>unique</th>\n",
       "      <td>NaN</td>\n",
       "      <td>NaN</td>\n",
       "      <td>NaN</td>\n",
       "      <td>NaN</td>\n",
       "      <td>NaN</td>\n",
       "      <td>NaN</td>\n",
       "      <td>NaN</td>\n",
       "      <td>NaN</td>\n",
       "      <td>3</td>\n",
       "      <td>3919</td>\n",
       "      <td>4999</td>\n",
       "      <td>1950</td>\n",
       "      <td>175</td>\n",
       "      <td>122</td>\n",
       "      <td>139</td>\n",
       "      <td>6</td>\n",
       "      <td>74</td>\n",
       "      <td>53</td>\n",
       "      <td>6</td>\n",
       "      <td>6</td>\n",
       "      <td>4</td>\n",
       "      <td>6</td>\n",
       "      <td>2</td>\n",
       "      <td>4</td>\n",
       "      <td>3</td>\n",
       "      <td>2</td>\n",
       "      <td>8</td>\n",
       "      <td>2</td>\n",
       "      <td>2</td>\n",
       "      <td>6</td>\n",
       "      <td>3</td>\n",
       "      <td>2</td>\n",
       "      <td>12</td>\n",
       "      <td>2</td>\n",
       "      <td>4</td>\n",
       "      <td>2</td>\n",
       "      <td>3</td>\n",
       "      <td>17</td>\n",
       "      <td>3</td>\n",
       "      <td>2</td>\n",
       "      <td>2</td>\n",
       "      <td>3</td>\n",
       "      <td>2</td>\n",
       "      <td>19</td>\n",
       "      <td>29</td>\n",
       "      <td>3</td>\n",
       "      <td>3</td>\n",
       "      <td>3</td>\n",
       "      <td>2</td>\n",
       "      <td>10</td>\n",
       "      <td>7</td>\n",
       "      <td>4</td>\n",
       "      <td>5</td>\n",
       "    </tr>\n",
       "    <tr>\n",
       "      <th>top</th>\n",
       "      <td>NaN</td>\n",
       "      <td>NaN</td>\n",
       "      <td>NaN</td>\n",
       "      <td>NaN</td>\n",
       "      <td>NaN</td>\n",
       "      <td>NaN</td>\n",
       "      <td>NaN</td>\n",
       "      <td>NaN</td>\n",
       "      <td>Medium</td>\n",
       "      <td>2009-02-16 00:00:00</td>\n",
       "      <td>310G</td>\n",
       "      <td>580</td>\n",
       "      <td>C</td>\n",
       "      <td>II</td>\n",
       "      <td>L</td>\n",
       "      <td>Medium</td>\n",
       "      <td>Backhoe Loader - 14.0 to 15.0 Ft Standard Digg...</td>\n",
       "      <td>Florida</td>\n",
       "      <td>TEX</td>\n",
       "      <td>Track Excavators</td>\n",
       "      <td>Two Wheel Drive</td>\n",
       "      <td>OROPS</td>\n",
       "      <td>None or Unspecified</td>\n",
       "      <td>None or Unspecified</td>\n",
       "      <td>No</td>\n",
       "      <td>Standard</td>\n",
       "      <td>Standard</td>\n",
       "      <td>None or Unspecified</td>\n",
       "      <td>None or Unspecified</td>\n",
       "      <td>14'</td>\n",
       "      <td>None or Unspecified</td>\n",
       "      <td>No</td>\n",
       "      <td>2 Valve</td>\n",
       "      <td>None or Unspecified</td>\n",
       "      <td>None or Unspecified</td>\n",
       "      <td>None or Unspecified</td>\n",
       "      <td>None or Unspecified</td>\n",
       "      <td>None or Unspecified</td>\n",
       "      <td>None or Unspecified</td>\n",
       "      <td>None or Unspecified</td>\n",
       "      <td>None or Unspecified</td>\n",
       "      <td>Standard</td>\n",
       "      <td>Steel</td>\n",
       "      <td>None or Unspecified</td>\n",
       "      <td>None or Unspecified</td>\n",
       "      <td>None or Unspecified</td>\n",
       "      <td>None or Unspecified</td>\n",
       "      <td>Double</td>\n",
       "      <td>None or Unspecified</td>\n",
       "      <td>PAT</td>\n",
       "      <td>None or Unspecified</td>\n",
       "      <td>Standard</td>\n",
       "      <td>Conventional</td>\n",
       "    </tr>\n",
       "    <tr>\n",
       "      <th>freq</th>\n",
       "      <td>NaN</td>\n",
       "      <td>NaN</td>\n",
       "      <td>NaN</td>\n",
       "      <td>NaN</td>\n",
       "      <td>NaN</td>\n",
       "      <td>NaN</td>\n",
       "      <td>NaN</td>\n",
       "      <td>NaN</td>\n",
       "      <td>33985</td>\n",
       "      <td>1932</td>\n",
       "      <td>5039</td>\n",
       "      <td>19798</td>\n",
       "      <td>43235</td>\n",
       "      <td>13202</td>\n",
       "      <td>15875</td>\n",
       "      <td>62274</td>\n",
       "      <td>56166</td>\n",
       "      <td>63944</td>\n",
       "      <td>101167</td>\n",
       "      <td>101167</td>\n",
       "      <td>46139</td>\n",
       "      <td>173932</td>\n",
       "      <td>178300</td>\n",
       "      <td>70614</td>\n",
       "      <td>77685</td>\n",
       "      <td>48829</td>\n",
       "      <td>140328</td>\n",
       "      <td>75211</td>\n",
       "      <td>24692</td>\n",
       "      <td>9615</td>\n",
       "      <td>21923</td>\n",
       "      <td>23937</td>\n",
       "      <td>141404</td>\n",
       "      <td>19463</td>\n",
       "      <td>83452</td>\n",
       "      <td>12719</td>\n",
       "      <td>16207</td>\n",
       "      <td>46339</td>\n",
       "      <td>184582</td>\n",
       "      <td>40430</td>\n",
       "      <td>40515</td>\n",
       "      <td>42784</td>\n",
       "      <td>84880</td>\n",
       "      <td>79651</td>\n",
       "      <td>78820</td>\n",
       "      <td>83093</td>\n",
       "      <td>90255</td>\n",
       "      <td>84653</td>\n",
       "      <td>78652</td>\n",
       "      <td>38612</td>\n",
       "      <td>69923</td>\n",
       "      <td>68073</td>\n",
       "      <td>68679</td>\n",
       "    </tr>\n",
       "    <tr>\n",
       "      <th>first</th>\n",
       "      <td>NaN</td>\n",
       "      <td>NaN</td>\n",
       "      <td>NaN</td>\n",
       "      <td>NaN</td>\n",
       "      <td>NaN</td>\n",
       "      <td>NaN</td>\n",
       "      <td>NaN</td>\n",
       "      <td>NaN</td>\n",
       "      <td>NaN</td>\n",
       "      <td>1989-01-17 00:00:00</td>\n",
       "      <td>NaN</td>\n",
       "      <td>NaN</td>\n",
       "      <td>NaN</td>\n",
       "      <td>NaN</td>\n",
       "      <td>NaN</td>\n",
       "      <td>NaN</td>\n",
       "      <td>NaN</td>\n",
       "      <td>NaN</td>\n",
       "      <td>NaN</td>\n",
       "      <td>NaN</td>\n",
       "      <td>NaN</td>\n",
       "      <td>NaN</td>\n",
       "      <td>NaN</td>\n",
       "      <td>NaN</td>\n",
       "      <td>NaN</td>\n",
       "      <td>NaN</td>\n",
       "      <td>NaN</td>\n",
       "      <td>NaN</td>\n",
       "      <td>NaN</td>\n",
       "      <td>NaN</td>\n",
       "      <td>NaN</td>\n",
       "      <td>NaN</td>\n",
       "      <td>NaN</td>\n",
       "      <td>NaN</td>\n",
       "      <td>NaN</td>\n",
       "      <td>NaN</td>\n",
       "      <td>NaN</td>\n",
       "      <td>NaN</td>\n",
       "      <td>NaN</td>\n",
       "      <td>NaN</td>\n",
       "      <td>NaN</td>\n",
       "      <td>NaN</td>\n",
       "      <td>NaN</td>\n",
       "      <td>NaN</td>\n",
       "      <td>NaN</td>\n",
       "      <td>NaN</td>\n",
       "      <td>NaN</td>\n",
       "      <td>NaN</td>\n",
       "      <td>NaN</td>\n",
       "      <td>NaN</td>\n",
       "      <td>NaN</td>\n",
       "      <td>NaN</td>\n",
       "      <td>NaN</td>\n",
       "    </tr>\n",
       "    <tr>\n",
       "      <th>last</th>\n",
       "      <td>NaN</td>\n",
       "      <td>NaN</td>\n",
       "      <td>NaN</td>\n",
       "      <td>NaN</td>\n",
       "      <td>NaN</td>\n",
       "      <td>NaN</td>\n",
       "      <td>NaN</td>\n",
       "      <td>NaN</td>\n",
       "      <td>NaN</td>\n",
       "      <td>2011-12-30 00:00:00</td>\n",
       "      <td>NaN</td>\n",
       "      <td>NaN</td>\n",
       "      <td>NaN</td>\n",
       "      <td>NaN</td>\n",
       "      <td>NaN</td>\n",
       "      <td>NaN</td>\n",
       "      <td>NaN</td>\n",
       "      <td>NaN</td>\n",
       "      <td>NaN</td>\n",
       "      <td>NaN</td>\n",
       "      <td>NaN</td>\n",
       "      <td>NaN</td>\n",
       "      <td>NaN</td>\n",
       "      <td>NaN</td>\n",
       "      <td>NaN</td>\n",
       "      <td>NaN</td>\n",
       "      <td>NaN</td>\n",
       "      <td>NaN</td>\n",
       "      <td>NaN</td>\n",
       "      <td>NaN</td>\n",
       "      <td>NaN</td>\n",
       "      <td>NaN</td>\n",
       "      <td>NaN</td>\n",
       "      <td>NaN</td>\n",
       "      <td>NaN</td>\n",
       "      <td>NaN</td>\n",
       "      <td>NaN</td>\n",
       "      <td>NaN</td>\n",
       "      <td>NaN</td>\n",
       "      <td>NaN</td>\n",
       "      <td>NaN</td>\n",
       "      <td>NaN</td>\n",
       "      <td>NaN</td>\n",
       "      <td>NaN</td>\n",
       "      <td>NaN</td>\n",
       "      <td>NaN</td>\n",
       "      <td>NaN</td>\n",
       "      <td>NaN</td>\n",
       "      <td>NaN</td>\n",
       "      <td>NaN</td>\n",
       "      <td>NaN</td>\n",
       "      <td>NaN</td>\n",
       "      <td>NaN</td>\n",
       "    </tr>\n",
       "    <tr>\n",
       "      <th>mean</th>\n",
       "      <td>1.919713e+06</td>\n",
       "      <td>31099.712848</td>\n",
       "      <td>1.217903e+06</td>\n",
       "      <td>6889.702980</td>\n",
       "      <td>134.665810</td>\n",
       "      <td>6.556040</td>\n",
       "      <td>1899.156901</td>\n",
       "      <td>3.457955e+03</td>\n",
       "      <td>NaN</td>\n",
       "      <td>NaN</td>\n",
       "      <td>NaN</td>\n",
       "      <td>NaN</td>\n",
       "      <td>NaN</td>\n",
       "      <td>NaN</td>\n",
       "      <td>NaN</td>\n",
       "      <td>NaN</td>\n",
       "      <td>NaN</td>\n",
       "      <td>NaN</td>\n",
       "      <td>NaN</td>\n",
       "      <td>NaN</td>\n",
       "      <td>NaN</td>\n",
       "      <td>NaN</td>\n",
       "      <td>NaN</td>\n",
       "      <td>NaN</td>\n",
       "      <td>NaN</td>\n",
       "      <td>NaN</td>\n",
       "      <td>NaN</td>\n",
       "      <td>NaN</td>\n",
       "      <td>NaN</td>\n",
       "      <td>NaN</td>\n",
       "      <td>NaN</td>\n",
       "      <td>NaN</td>\n",
       "      <td>NaN</td>\n",
       "      <td>NaN</td>\n",
       "      <td>NaN</td>\n",
       "      <td>NaN</td>\n",
       "      <td>NaN</td>\n",
       "      <td>NaN</td>\n",
       "      <td>NaN</td>\n",
       "      <td>NaN</td>\n",
       "      <td>NaN</td>\n",
       "      <td>NaN</td>\n",
       "      <td>NaN</td>\n",
       "      <td>NaN</td>\n",
       "      <td>NaN</td>\n",
       "      <td>NaN</td>\n",
       "      <td>NaN</td>\n",
       "      <td>NaN</td>\n",
       "      <td>NaN</td>\n",
       "      <td>NaN</td>\n",
       "      <td>NaN</td>\n",
       "      <td>NaN</td>\n",
       "      <td>NaN</td>\n",
       "    </tr>\n",
       "    <tr>\n",
       "      <th>std</th>\n",
       "      <td>9.090215e+05</td>\n",
       "      <td>23036.898502</td>\n",
       "      <td>4.409920e+05</td>\n",
       "      <td>6221.777842</td>\n",
       "      <td>8.962237</td>\n",
       "      <td>16.976779</td>\n",
       "      <td>291.797469</td>\n",
       "      <td>2.759026e+04</td>\n",
       "      <td>NaN</td>\n",
       "      <td>NaN</td>\n",
       "      <td>NaN</td>\n",
       "      <td>NaN</td>\n",
       "      <td>NaN</td>\n",
       "      <td>NaN</td>\n",
       "      <td>NaN</td>\n",
       "      <td>NaN</td>\n",
       "      <td>NaN</td>\n",
       "      <td>NaN</td>\n",
       "      <td>NaN</td>\n",
       "      <td>NaN</td>\n",
       "      <td>NaN</td>\n",
       "      <td>NaN</td>\n",
       "      <td>NaN</td>\n",
       "      <td>NaN</td>\n",
       "      <td>NaN</td>\n",
       "      <td>NaN</td>\n",
       "      <td>NaN</td>\n",
       "      <td>NaN</td>\n",
       "      <td>NaN</td>\n",
       "      <td>NaN</td>\n",
       "      <td>NaN</td>\n",
       "      <td>NaN</td>\n",
       "      <td>NaN</td>\n",
       "      <td>NaN</td>\n",
       "      <td>NaN</td>\n",
       "      <td>NaN</td>\n",
       "      <td>NaN</td>\n",
       "      <td>NaN</td>\n",
       "      <td>NaN</td>\n",
       "      <td>NaN</td>\n",
       "      <td>NaN</td>\n",
       "      <td>NaN</td>\n",
       "      <td>NaN</td>\n",
       "      <td>NaN</td>\n",
       "      <td>NaN</td>\n",
       "      <td>NaN</td>\n",
       "      <td>NaN</td>\n",
       "      <td>NaN</td>\n",
       "      <td>NaN</td>\n",
       "      <td>NaN</td>\n",
       "      <td>NaN</td>\n",
       "      <td>NaN</td>\n",
       "      <td>NaN</td>\n",
       "    </tr>\n",
       "    <tr>\n",
       "      <th>min</th>\n",
       "      <td>1.139246e+06</td>\n",
       "      <td>4750.000000</td>\n",
       "      <td>0.000000e+00</td>\n",
       "      <td>28.000000</td>\n",
       "      <td>121.000000</td>\n",
       "      <td>0.000000</td>\n",
       "      <td>1000.000000</td>\n",
       "      <td>0.000000e+00</td>\n",
       "      <td>NaN</td>\n",
       "      <td>NaN</td>\n",
       "      <td>NaN</td>\n",
       "      <td>NaN</td>\n",
       "      <td>NaN</td>\n",
       "      <td>NaN</td>\n",
       "      <td>NaN</td>\n",
       "      <td>NaN</td>\n",
       "      <td>NaN</td>\n",
       "      <td>NaN</td>\n",
       "      <td>NaN</td>\n",
       "      <td>NaN</td>\n",
       "      <td>NaN</td>\n",
       "      <td>NaN</td>\n",
       "      <td>NaN</td>\n",
       "      <td>NaN</td>\n",
       "      <td>NaN</td>\n",
       "      <td>NaN</td>\n",
       "      <td>NaN</td>\n",
       "      <td>NaN</td>\n",
       "      <td>NaN</td>\n",
       "      <td>NaN</td>\n",
       "      <td>NaN</td>\n",
       "      <td>NaN</td>\n",
       "      <td>NaN</td>\n",
       "      <td>NaN</td>\n",
       "      <td>NaN</td>\n",
       "      <td>NaN</td>\n",
       "      <td>NaN</td>\n",
       "      <td>NaN</td>\n",
       "      <td>NaN</td>\n",
       "      <td>NaN</td>\n",
       "      <td>NaN</td>\n",
       "      <td>NaN</td>\n",
       "      <td>NaN</td>\n",
       "      <td>NaN</td>\n",
       "      <td>NaN</td>\n",
       "      <td>NaN</td>\n",
       "      <td>NaN</td>\n",
       "      <td>NaN</td>\n",
       "      <td>NaN</td>\n",
       "      <td>NaN</td>\n",
       "      <td>NaN</td>\n",
       "      <td>NaN</td>\n",
       "      <td>NaN</td>\n",
       "    </tr>\n",
       "    <tr>\n",
       "      <th>25%</th>\n",
       "      <td>1.418371e+06</td>\n",
       "      <td>14500.000000</td>\n",
       "      <td>1.088697e+06</td>\n",
       "      <td>3259.000000</td>\n",
       "      <td>132.000000</td>\n",
       "      <td>1.000000</td>\n",
       "      <td>1985.000000</td>\n",
       "      <td>0.000000e+00</td>\n",
       "      <td>NaN</td>\n",
       "      <td>NaN</td>\n",
       "      <td>NaN</td>\n",
       "      <td>NaN</td>\n",
       "      <td>NaN</td>\n",
       "      <td>NaN</td>\n",
       "      <td>NaN</td>\n",
       "      <td>NaN</td>\n",
       "      <td>NaN</td>\n",
       "      <td>NaN</td>\n",
       "      <td>NaN</td>\n",
       "      <td>NaN</td>\n",
       "      <td>NaN</td>\n",
       "      <td>NaN</td>\n",
       "      <td>NaN</td>\n",
       "      <td>NaN</td>\n",
       "      <td>NaN</td>\n",
       "      <td>NaN</td>\n",
       "      <td>NaN</td>\n",
       "      <td>NaN</td>\n",
       "      <td>NaN</td>\n",
       "      <td>NaN</td>\n",
       "      <td>NaN</td>\n",
       "      <td>NaN</td>\n",
       "      <td>NaN</td>\n",
       "      <td>NaN</td>\n",
       "      <td>NaN</td>\n",
       "      <td>NaN</td>\n",
       "      <td>NaN</td>\n",
       "      <td>NaN</td>\n",
       "      <td>NaN</td>\n",
       "      <td>NaN</td>\n",
       "      <td>NaN</td>\n",
       "      <td>NaN</td>\n",
       "      <td>NaN</td>\n",
       "      <td>NaN</td>\n",
       "      <td>NaN</td>\n",
       "      <td>NaN</td>\n",
       "      <td>NaN</td>\n",
       "      <td>NaN</td>\n",
       "      <td>NaN</td>\n",
       "      <td>NaN</td>\n",
       "      <td>NaN</td>\n",
       "      <td>NaN</td>\n",
       "      <td>NaN</td>\n",
       "    </tr>\n",
       "    <tr>\n",
       "      <th>50%</th>\n",
       "      <td>1.639422e+06</td>\n",
       "      <td>24000.000000</td>\n",
       "      <td>1.279490e+06</td>\n",
       "      <td>4604.000000</td>\n",
       "      <td>132.000000</td>\n",
       "      <td>2.000000</td>\n",
       "      <td>1995.000000</td>\n",
       "      <td>0.000000e+00</td>\n",
       "      <td>NaN</td>\n",
       "      <td>NaN</td>\n",
       "      <td>NaN</td>\n",
       "      <td>NaN</td>\n",
       "      <td>NaN</td>\n",
       "      <td>NaN</td>\n",
       "      <td>NaN</td>\n",
       "      <td>NaN</td>\n",
       "      <td>NaN</td>\n",
       "      <td>NaN</td>\n",
       "      <td>NaN</td>\n",
       "      <td>NaN</td>\n",
       "      <td>NaN</td>\n",
       "      <td>NaN</td>\n",
       "      <td>NaN</td>\n",
       "      <td>NaN</td>\n",
       "      <td>NaN</td>\n",
       "      <td>NaN</td>\n",
       "      <td>NaN</td>\n",
       "      <td>NaN</td>\n",
       "      <td>NaN</td>\n",
       "      <td>NaN</td>\n",
       "      <td>NaN</td>\n",
       "      <td>NaN</td>\n",
       "      <td>NaN</td>\n",
       "      <td>NaN</td>\n",
       "      <td>NaN</td>\n",
       "      <td>NaN</td>\n",
       "      <td>NaN</td>\n",
       "      <td>NaN</td>\n",
       "      <td>NaN</td>\n",
       "      <td>NaN</td>\n",
       "      <td>NaN</td>\n",
       "      <td>NaN</td>\n",
       "      <td>NaN</td>\n",
       "      <td>NaN</td>\n",
       "      <td>NaN</td>\n",
       "      <td>NaN</td>\n",
       "      <td>NaN</td>\n",
       "      <td>NaN</td>\n",
       "      <td>NaN</td>\n",
       "      <td>NaN</td>\n",
       "      <td>NaN</td>\n",
       "      <td>NaN</td>\n",
       "      <td>NaN</td>\n",
       "    </tr>\n",
       "    <tr>\n",
       "      <th>75%</th>\n",
       "      <td>2.242707e+06</td>\n",
       "      <td>40000.000000</td>\n",
       "      <td>1.468067e+06</td>\n",
       "      <td>8724.000000</td>\n",
       "      <td>136.000000</td>\n",
       "      <td>4.000000</td>\n",
       "      <td>2000.000000</td>\n",
       "      <td>3.025000e+03</td>\n",
       "      <td>NaN</td>\n",
       "      <td>NaN</td>\n",
       "      <td>NaN</td>\n",
       "      <td>NaN</td>\n",
       "      <td>NaN</td>\n",
       "      <td>NaN</td>\n",
       "      <td>NaN</td>\n",
       "      <td>NaN</td>\n",
       "      <td>NaN</td>\n",
       "      <td>NaN</td>\n",
       "      <td>NaN</td>\n",
       "      <td>NaN</td>\n",
       "      <td>NaN</td>\n",
       "      <td>NaN</td>\n",
       "      <td>NaN</td>\n",
       "      <td>NaN</td>\n",
       "      <td>NaN</td>\n",
       "      <td>NaN</td>\n",
       "      <td>NaN</td>\n",
       "      <td>NaN</td>\n",
       "      <td>NaN</td>\n",
       "      <td>NaN</td>\n",
       "      <td>NaN</td>\n",
       "      <td>NaN</td>\n",
       "      <td>NaN</td>\n",
       "      <td>NaN</td>\n",
       "      <td>NaN</td>\n",
       "      <td>NaN</td>\n",
       "      <td>NaN</td>\n",
       "      <td>NaN</td>\n",
       "      <td>NaN</td>\n",
       "      <td>NaN</td>\n",
       "      <td>NaN</td>\n",
       "      <td>NaN</td>\n",
       "      <td>NaN</td>\n",
       "      <td>NaN</td>\n",
       "      <td>NaN</td>\n",
       "      <td>NaN</td>\n",
       "      <td>NaN</td>\n",
       "      <td>NaN</td>\n",
       "      <td>NaN</td>\n",
       "      <td>NaN</td>\n",
       "      <td>NaN</td>\n",
       "      <td>NaN</td>\n",
       "      <td>NaN</td>\n",
       "    </tr>\n",
       "    <tr>\n",
       "      <th>max</th>\n",
       "      <td>6.333342e+06</td>\n",
       "      <td>142000.000000</td>\n",
       "      <td>2.486330e+06</td>\n",
       "      <td>37198.000000</td>\n",
       "      <td>172.000000</td>\n",
       "      <td>99.000000</td>\n",
       "      <td>2013.000000</td>\n",
       "      <td>2.483300e+06</td>\n",
       "      <td>NaN</td>\n",
       "      <td>NaN</td>\n",
       "      <td>NaN</td>\n",
       "      <td>NaN</td>\n",
       "      <td>NaN</td>\n",
       "      <td>NaN</td>\n",
       "      <td>NaN</td>\n",
       "      <td>NaN</td>\n",
       "      <td>NaN</td>\n",
       "      <td>NaN</td>\n",
       "      <td>NaN</td>\n",
       "      <td>NaN</td>\n",
       "      <td>NaN</td>\n",
       "      <td>NaN</td>\n",
       "      <td>NaN</td>\n",
       "      <td>NaN</td>\n",
       "      <td>NaN</td>\n",
       "      <td>NaN</td>\n",
       "      <td>NaN</td>\n",
       "      <td>NaN</td>\n",
       "      <td>NaN</td>\n",
       "      <td>NaN</td>\n",
       "      <td>NaN</td>\n",
       "      <td>NaN</td>\n",
       "      <td>NaN</td>\n",
       "      <td>NaN</td>\n",
       "      <td>NaN</td>\n",
       "      <td>NaN</td>\n",
       "      <td>NaN</td>\n",
       "      <td>NaN</td>\n",
       "      <td>NaN</td>\n",
       "      <td>NaN</td>\n",
       "      <td>NaN</td>\n",
       "      <td>NaN</td>\n",
       "      <td>NaN</td>\n",
       "      <td>NaN</td>\n",
       "      <td>NaN</td>\n",
       "      <td>NaN</td>\n",
       "      <td>NaN</td>\n",
       "      <td>NaN</td>\n",
       "      <td>NaN</td>\n",
       "      <td>NaN</td>\n",
       "      <td>NaN</td>\n",
       "      <td>NaN</td>\n",
       "      <td>NaN</td>\n",
       "    </tr>\n",
       "  </tbody>\n",
       "</table>\n",
       "</div>"
      ],
      "text/plain": [
       "             SalesID      SalePrice     MachineID        ModelID  \\\n",
       "count   4.011250e+05  401125.000000  4.011250e+05  401125.000000   \n",
       "unique           NaN            NaN           NaN            NaN   \n",
       "top              NaN            NaN           NaN            NaN   \n",
       "freq             NaN            NaN           NaN            NaN   \n",
       "first            NaN            NaN           NaN            NaN   \n",
       "last             NaN            NaN           NaN            NaN   \n",
       "mean    1.919713e+06   31099.712848  1.217903e+06    6889.702980   \n",
       "std     9.090215e+05   23036.898502  4.409920e+05    6221.777842   \n",
       "min     1.139246e+06    4750.000000  0.000000e+00      28.000000   \n",
       "25%     1.418371e+06   14500.000000  1.088697e+06    3259.000000   \n",
       "50%     1.639422e+06   24000.000000  1.279490e+06    4604.000000   \n",
       "75%     2.242707e+06   40000.000000  1.468067e+06    8724.000000   \n",
       "max     6.333342e+06  142000.000000  2.486330e+06   37198.000000   \n",
       "\n",
       "           datasource   auctioneerID       YearMade  MachineHoursCurrentMeter  \\\n",
       "count   401125.000000  380989.000000  401125.000000              1.427650e+05   \n",
       "unique            NaN            NaN            NaN                       NaN   \n",
       "top               NaN            NaN            NaN                       NaN   \n",
       "freq              NaN            NaN            NaN                       NaN   \n",
       "first             NaN            NaN            NaN                       NaN   \n",
       "last              NaN            NaN            NaN                       NaN   \n",
       "mean       134.665810       6.556040    1899.156901              3.457955e+03   \n",
       "std          8.962237      16.976779     291.797469              2.759026e+04   \n",
       "min        121.000000       0.000000    1000.000000              0.000000e+00   \n",
       "25%        132.000000       1.000000    1985.000000              0.000000e+00   \n",
       "50%        132.000000       2.000000    1995.000000              0.000000e+00   \n",
       "75%        136.000000       4.000000    2000.000000              3.025000e+03   \n",
       "max        172.000000      99.000000    2013.000000              2.483300e+06   \n",
       "\n",
       "       UsageBand             saledate fiModelDesc fiBaseModel fiSecondaryDesc  \\\n",
       "count      69639               401125      401125      401125          263934   \n",
       "unique         3                 3919        4999        1950             175   \n",
       "top       Medium  2009-02-16 00:00:00        310G         580               C   \n",
       "freq       33985                 1932        5039       19798           43235   \n",
       "first        NaN  1989-01-17 00:00:00         NaN         NaN             NaN   \n",
       "last         NaN  2011-12-30 00:00:00         NaN         NaN             NaN   \n",
       "mean         NaN                  NaN         NaN         NaN             NaN   \n",
       "std          NaN                  NaN         NaN         NaN             NaN   \n",
       "min          NaN                  NaN         NaN         NaN             NaN   \n",
       "25%          NaN                  NaN         NaN         NaN             NaN   \n",
       "50%          NaN                  NaN         NaN         NaN             NaN   \n",
       "75%          NaN                  NaN         NaN         NaN             NaN   \n",
       "max          NaN                  NaN         NaN         NaN             NaN   \n",
       "\n",
       "       fiModelSeries fiModelDescriptor ProductSize  \\\n",
       "count          56908             71919      190350   \n",
       "unique           122               139           6   \n",
       "top               II                 L      Medium   \n",
       "freq           13202             15875       62274   \n",
       "first            NaN               NaN         NaN   \n",
       "last             NaN               NaN         NaN   \n",
       "mean             NaN               NaN         NaN   \n",
       "std              NaN               NaN         NaN   \n",
       "min              NaN               NaN         NaN   \n",
       "25%              NaN               NaN         NaN   \n",
       "50%              NaN               NaN         NaN   \n",
       "75%              NaN               NaN         NaN   \n",
       "max              NaN               NaN         NaN   \n",
       "\n",
       "                                       fiProductClassDesc    state  \\\n",
       "count                                              401125   401125   \n",
       "unique                                                 74       53   \n",
       "top     Backhoe Loader - 14.0 to 15.0 Ft Standard Digg...  Florida   \n",
       "freq                                                56166    63944   \n",
       "first                                                 NaN      NaN   \n",
       "last                                                  NaN      NaN   \n",
       "mean                                                  NaN      NaN   \n",
       "std                                                   NaN      NaN   \n",
       "min                                                   NaN      NaN   \n",
       "25%                                                   NaN      NaN   \n",
       "50%                                                   NaN      NaN   \n",
       "75%                                                   NaN      NaN   \n",
       "max                                                   NaN      NaN   \n",
       "\n",
       "       ProductGroup  ProductGroupDesc     Drive_System Enclosure  \\\n",
       "count        401125            401125           104361    400800   \n",
       "unique            6                 6                4         6   \n",
       "top             TEX  Track Excavators  Two Wheel Drive     OROPS   \n",
       "freq         101167            101167            46139    173932   \n",
       "first           NaN               NaN              NaN       NaN   \n",
       "last            NaN               NaN              NaN       NaN   \n",
       "mean            NaN               NaN              NaN       NaN   \n",
       "std             NaN               NaN              NaN       NaN   \n",
       "min             NaN               NaN              NaN       NaN   \n",
       "25%             NaN               NaN              NaN       NaN   \n",
       "50%             NaN               NaN              NaN       NaN   \n",
       "75%             NaN               NaN              NaN       NaN   \n",
       "max             NaN               NaN              NaN       NaN   \n",
       "\n",
       "                      Forks             Pad_Type Ride_Control     Stick  \\\n",
       "count                192077                79134       148606     79134   \n",
       "unique                    2                    4            3         2   \n",
       "top     None or Unspecified  None or Unspecified           No  Standard   \n",
       "freq                 178300                70614        77685     48829   \n",
       "first                   NaN                  NaN          NaN       NaN   \n",
       "last                    NaN                  NaN          NaN       NaN   \n",
       "mean                    NaN                  NaN          NaN       NaN   \n",
       "std                     NaN                  NaN          NaN       NaN   \n",
       "min                     NaN                  NaN          NaN       NaN   \n",
       "25%                     NaN                  NaN          NaN       NaN   \n",
       "50%                     NaN                  NaN          NaN       NaN   \n",
       "75%                     NaN                  NaN          NaN       NaN   \n",
       "max                     NaN                  NaN          NaN       NaN   \n",
       "\n",
       "       Transmission         Turbocharged      Blade_Extension Blade_Width  \\\n",
       "count        183230                79134                25219       25219   \n",
       "unique            8                    2                    2           6   \n",
       "top        Standard  None or Unspecified  None or Unspecified         14'   \n",
       "freq         140328                75211                24692        9615   \n",
       "first           NaN                  NaN                  NaN         NaN   \n",
       "last            NaN                  NaN                  NaN         NaN   \n",
       "mean            NaN                  NaN                  NaN         NaN   \n",
       "std             NaN                  NaN                  NaN         NaN   \n",
       "min             NaN                  NaN                  NaN         NaN   \n",
       "25%             NaN                  NaN                  NaN         NaN   \n",
       "50%             NaN                  NaN                  NaN         NaN   \n",
       "75%             NaN                  NaN                  NaN         NaN   \n",
       "max             NaN                  NaN                  NaN         NaN   \n",
       "\n",
       "             Enclosure_Type Engine_Horsepower Hydraulics            Pushblock  \\\n",
       "count                 25219             25219     320570                25219   \n",
       "unique                    3                 2         12                    2   \n",
       "top     None or Unspecified                No    2 Valve  None or Unspecified   \n",
       "freq                  21923             23937     141404                19463   \n",
       "first                   NaN               NaN        NaN                  NaN   \n",
       "last                    NaN               NaN        NaN                  NaN   \n",
       "mean                    NaN               NaN        NaN                  NaN   \n",
       "std                     NaN               NaN        NaN                  NaN   \n",
       "min                     NaN               NaN        NaN                  NaN   \n",
       "25%                     NaN               NaN        NaN                  NaN   \n",
       "50%                     NaN               NaN        NaN                  NaN   \n",
       "75%                     NaN               NaN        NaN                  NaN   \n",
       "max                     NaN               NaN        NaN                  NaN   \n",
       "\n",
       "                     Ripper            Scarifier          Tip_Control  \\\n",
       "count                104137                25230                25219   \n",
       "unique                    4                    2                    3   \n",
       "top     None or Unspecified  None or Unspecified  None or Unspecified   \n",
       "freq                  83452                12719                16207   \n",
       "first                   NaN                  NaN                  NaN   \n",
       "last                    NaN                  NaN                  NaN   \n",
       "mean                    NaN                  NaN                  NaN   \n",
       "std                     NaN                  NaN                  NaN   \n",
       "min                     NaN                  NaN                  NaN   \n",
       "25%                     NaN                  NaN                  NaN   \n",
       "50%                     NaN                  NaN                  NaN   \n",
       "75%                     NaN                  NaN                  NaN   \n",
       "max                     NaN                  NaN                  NaN   \n",
       "\n",
       "                  Tire_Size              Coupler       Coupler_System  \\\n",
       "count                 94718               213952                43458   \n",
       "unique                   17                    3                    2   \n",
       "top     None or Unspecified  None or Unspecified  None or Unspecified   \n",
       "freq                  46339               184582                40430   \n",
       "first                   NaN                  NaN                  NaN   \n",
       "last                    NaN                  NaN                  NaN   \n",
       "mean                    NaN                  NaN                  NaN   \n",
       "std                     NaN                  NaN                  NaN   \n",
       "min                     NaN                  NaN                  NaN   \n",
       "25%                     NaN                  NaN                  NaN   \n",
       "50%                     NaN                  NaN                  NaN   \n",
       "75%                     NaN                  NaN                  NaN   \n",
       "max                     NaN                  NaN                  NaN   \n",
       "\n",
       "             Grouser_Tracks Hydraulics_Flow Track_Type  \\\n",
       "count                 43362           43362      99153   \n",
       "unique                    2               3          2   \n",
       "top     None or Unspecified        Standard      Steel   \n",
       "freq                  40515           42784      84880   \n",
       "first                   NaN             NaN        NaN   \n",
       "last                    NaN             NaN        NaN   \n",
       "mean                    NaN             NaN        NaN   \n",
       "std                     NaN             NaN        NaN   \n",
       "min                     NaN             NaN        NaN   \n",
       "25%                     NaN             NaN        NaN   \n",
       "50%                     NaN             NaN        NaN   \n",
       "75%                     NaN             NaN        NaN   \n",
       "max                     NaN             NaN        NaN   \n",
       "\n",
       "       Undercarriage_Pad_Width         Stick_Length                Thumb  \\\n",
       "count                    99872                99218                99288   \n",
       "unique                      19                   29                    3   \n",
       "top        None or Unspecified  None or Unspecified  None or Unspecified   \n",
       "freq                     79651                78820                83093   \n",
       "first                      NaN                  NaN                  NaN   \n",
       "last                       NaN                  NaN                  NaN   \n",
       "mean                       NaN                  NaN                  NaN   \n",
       "std                        NaN                  NaN                  NaN   \n",
       "min                        NaN                  NaN                  NaN   \n",
       "25%                        NaN                  NaN                  NaN   \n",
       "50%                        NaN                  NaN                  NaN   \n",
       "75%                        NaN                  NaN                  NaN   \n",
       "max                        NaN                  NaN                  NaN   \n",
       "\n",
       "            Pattern_Changer Grouser_Type     Backhoe_Mounting Blade_Type  \\\n",
       "count                 99218        99153                78672      79833   \n",
       "unique                    3            3                    2         10   \n",
       "top     None or Unspecified       Double  None or Unspecified        PAT   \n",
       "freq                  90255        84653                78652      38612   \n",
       "first                   NaN          NaN                  NaN        NaN   \n",
       "last                    NaN          NaN                  NaN        NaN   \n",
       "mean                    NaN          NaN                  NaN        NaN   \n",
       "std                     NaN          NaN                  NaN        NaN   \n",
       "min                     NaN          NaN                  NaN        NaN   \n",
       "25%                     NaN          NaN                  NaN        NaN   \n",
       "50%                     NaN          NaN                  NaN        NaN   \n",
       "75%                     NaN          NaN                  NaN        NaN   \n",
       "max                     NaN          NaN                  NaN        NaN   \n",
       "\n",
       "            Travel_Controls Differential_Type Steering_Controls  \n",
       "count                 79834             69411             69369  \n",
       "unique                    7                 4                 5  \n",
       "top     None or Unspecified          Standard      Conventional  \n",
       "freq                  69923             68073             68679  \n",
       "first                   NaN               NaN               NaN  \n",
       "last                    NaN               NaN               NaN  \n",
       "mean                    NaN               NaN               NaN  \n",
       "std                     NaN               NaN               NaN  \n",
       "min                     NaN               NaN               NaN  \n",
       "25%                     NaN               NaN               NaN  \n",
       "50%                     NaN               NaN               NaN  \n",
       "75%                     NaN               NaN               NaN  \n",
       "max                     NaN               NaN               NaN  "
      ]
     },
     "metadata": {},
     "output_type": "display_data"
    }
   ],
   "source": [
    "display_all(df_raw.describe(include='all'))"
   ]
  },
  {
   "cell_type": "code",
   "execution_count": 26,
   "metadata": {},
   "outputs": [
    {
     "data": {
      "text/plain": [
       "SalesID                              int64\n",
       "SalePrice                            int64\n",
       "MachineID                            int64\n",
       "ModelID                              int64\n",
       "datasource                           int64\n",
       "auctioneerID                       float64\n",
       "YearMade                             int64\n",
       "MachineHoursCurrentMeter           float64\n",
       "UsageBand                           object\n",
       "saledate                    datetime64[ns]\n",
       "fiModelDesc                         object\n",
       "fiBaseModel                         object\n",
       "fiSecondaryDesc                     object\n",
       "fiModelSeries                       object\n",
       "fiModelDescriptor                   object\n",
       "ProductSize                         object\n",
       "fiProductClassDesc                  object\n",
       "state                               object\n",
       "ProductGroup                        object\n",
       "ProductGroupDesc                    object\n",
       "Drive_System                        object\n",
       "Enclosure                           object\n",
       "Forks                               object\n",
       "Pad_Type                            object\n",
       "Ride_Control                        object\n",
       "Stick                               object\n",
       "Transmission                        object\n",
       "Turbocharged                        object\n",
       "Blade_Extension                     object\n",
       "Blade_Width                         object\n",
       "Enclosure_Type                      object\n",
       "Engine_Horsepower                   object\n",
       "Hydraulics                          object\n",
       "Pushblock                           object\n",
       "Ripper                              object\n",
       "Scarifier                           object\n",
       "Tip_Control                         object\n",
       "Tire_Size                           object\n",
       "Coupler                             object\n",
       "Coupler_System                      object\n",
       "Grouser_Tracks                      object\n",
       "Hydraulics_Flow                     object\n",
       "Track_Type                          object\n",
       "Undercarriage_Pad_Width             object\n",
       "Stick_Length                        object\n",
       "Thumb                               object\n",
       "Pattern_Changer                     object\n",
       "Grouser_Type                        object\n",
       "Backhoe_Mounting                    object\n",
       "Blade_Type                          object\n",
       "Travel_Controls                     object\n",
       "Differential_Type                   object\n",
       "Steering_Controls                   object\n",
       "dtype: object"
      ]
     },
     "execution_count": 26,
     "metadata": {},
     "output_type": "execute_result"
    }
   ],
   "source": [
    "df_raw.dtypes"
   ]
  },
  {
   "cell_type": "markdown",
   "metadata": {},
   "source": [
    "### Data Processing"
   ]
  },
  {
   "cell_type": "markdown",
   "metadata": {},
   "source": [
    "The blue book Bulldozer competition specify the predictions should be evaluated by RMSLE (root mean squared log error) between the actual and predicted auction prices. Therefore we take the log of the prices, so that RMSE (root mean squared error) will give us what we need. You could do this step later as well."
   ]
  },
  {
   "cell_type": "code",
   "execution_count": 27,
   "metadata": {},
   "outputs": [],
   "source": [
    "df_raw.SalePrice = np.log(df_raw.SalePrice)"
   ]
  },
  {
   "cell_type": "markdown",
   "metadata": {},
   "source": [
    "##### Date column"
   ]
  },
  {
   "cell_type": "markdown",
   "metadata": {},
   "source": [
    "Regarding the saledate, you should always consider a feature extraction step. Without expanding your date-time into these additional fields, you can't capture any trend/cyclical behavior as a function of time at any of these granularities. Thease trend/cyclical behavior could be week number, quater, holidays and so on. "
   ]
  },
  {
   "cell_type": "markdown",
   "metadata": {},
   "source": [
    "The following method extracts particular date fields from a complete datetime for the purpose of constructing categoricals. "
   ]
  },
  {
   "cell_type": "code",
   "execution_count": 28,
   "metadata": {},
   "outputs": [
    {
     "data": {
      "text/html": [
       "<div>\n",
       "<style scoped>\n",
       "    .dataframe tbody tr th:only-of-type {\n",
       "        vertical-align: middle;\n",
       "    }\n",
       "\n",
       "    .dataframe tbody tr th {\n",
       "        vertical-align: top;\n",
       "    }\n",
       "\n",
       "    .dataframe thead th {\n",
       "        text-align: right;\n",
       "    }\n",
       "</style>\n",
       "<table border=\"1\" class=\"dataframe\">\n",
       "  <thead>\n",
       "    <tr style=\"text-align: right;\">\n",
       "      <th></th>\n",
       "      <th>SalesID</th>\n",
       "      <th>SalePrice</th>\n",
       "      <th>MachineID</th>\n",
       "      <th>ModelID</th>\n",
       "      <th>datasource</th>\n",
       "      <th>auctioneerID</th>\n",
       "      <th>YearMade</th>\n",
       "      <th>MachineHoursCurrentMeter</th>\n",
       "      <th>UsageBand</th>\n",
       "      <th>fiModelDesc</th>\n",
       "      <th>fiBaseModel</th>\n",
       "      <th>fiSecondaryDesc</th>\n",
       "      <th>fiModelSeries</th>\n",
       "      <th>fiModelDescriptor</th>\n",
       "      <th>ProductSize</th>\n",
       "      <th>fiProductClassDesc</th>\n",
       "      <th>state</th>\n",
       "      <th>ProductGroup</th>\n",
       "      <th>ProductGroupDesc</th>\n",
       "      <th>Drive_System</th>\n",
       "      <th>Enclosure</th>\n",
       "      <th>Forks</th>\n",
       "      <th>Pad_Type</th>\n",
       "      <th>Ride_Control</th>\n",
       "      <th>Stick</th>\n",
       "      <th>Transmission</th>\n",
       "      <th>Turbocharged</th>\n",
       "      <th>Blade_Extension</th>\n",
       "      <th>Blade_Width</th>\n",
       "      <th>Enclosure_Type</th>\n",
       "      <th>Engine_Horsepower</th>\n",
       "      <th>Hydraulics</th>\n",
       "      <th>Pushblock</th>\n",
       "      <th>Ripper</th>\n",
       "      <th>Scarifier</th>\n",
       "      <th>Tip_Control</th>\n",
       "      <th>Tire_Size</th>\n",
       "      <th>Coupler</th>\n",
       "      <th>Coupler_System</th>\n",
       "      <th>Grouser_Tracks</th>\n",
       "      <th>Hydraulics_Flow</th>\n",
       "      <th>Track_Type</th>\n",
       "      <th>Undercarriage_Pad_Width</th>\n",
       "      <th>Stick_Length</th>\n",
       "      <th>Thumb</th>\n",
       "      <th>Pattern_Changer</th>\n",
       "      <th>Grouser_Type</th>\n",
       "      <th>Backhoe_Mounting</th>\n",
       "      <th>Blade_Type</th>\n",
       "      <th>Travel_Controls</th>\n",
       "      <th>Differential_Type</th>\n",
       "      <th>Steering_Controls</th>\n",
       "      <th>saleYear</th>\n",
       "      <th>saleMonth</th>\n",
       "      <th>saleWeek</th>\n",
       "      <th>saleDay</th>\n",
       "      <th>saleDayofweek</th>\n",
       "      <th>saleDayofyear</th>\n",
       "      <th>saleIs_month_end</th>\n",
       "      <th>saleIs_month_start</th>\n",
       "      <th>saleIs_quarter_end</th>\n",
       "      <th>saleIs_quarter_start</th>\n",
       "      <th>saleIs_year_end</th>\n",
       "      <th>saleIs_year_start</th>\n",
       "      <th>saleElapsed</th>\n",
       "    </tr>\n",
       "  </thead>\n",
       "  <tbody>\n",
       "    <tr>\n",
       "      <th>0</th>\n",
       "      <td>1139246</td>\n",
       "      <td>11.097410</td>\n",
       "      <td>999089</td>\n",
       "      <td>3157</td>\n",
       "      <td>121</td>\n",
       "      <td>3.0</td>\n",
       "      <td>2004</td>\n",
       "      <td>68.0</td>\n",
       "      <td>Low</td>\n",
       "      <td>521D</td>\n",
       "      <td>521</td>\n",
       "      <td>D</td>\n",
       "      <td>NaN</td>\n",
       "      <td>NaN</td>\n",
       "      <td>NaN</td>\n",
       "      <td>Wheel Loader - 110.0 to 120.0 Horsepower</td>\n",
       "      <td>Alabama</td>\n",
       "      <td>WL</td>\n",
       "      <td>Wheel Loader</td>\n",
       "      <td>NaN</td>\n",
       "      <td>EROPS w AC</td>\n",
       "      <td>None or Unspecified</td>\n",
       "      <td>NaN</td>\n",
       "      <td>None or Unspecified</td>\n",
       "      <td>NaN</td>\n",
       "      <td>NaN</td>\n",
       "      <td>NaN</td>\n",
       "      <td>NaN</td>\n",
       "      <td>NaN</td>\n",
       "      <td>NaN</td>\n",
       "      <td>NaN</td>\n",
       "      <td>2 Valve</td>\n",
       "      <td>NaN</td>\n",
       "      <td>NaN</td>\n",
       "      <td>NaN</td>\n",
       "      <td>NaN</td>\n",
       "      <td>None or Unspecified</td>\n",
       "      <td>None or Unspecified</td>\n",
       "      <td>NaN</td>\n",
       "      <td>NaN</td>\n",
       "      <td>NaN</td>\n",
       "      <td>NaN</td>\n",
       "      <td>NaN</td>\n",
       "      <td>NaN</td>\n",
       "      <td>NaN</td>\n",
       "      <td>NaN</td>\n",
       "      <td>NaN</td>\n",
       "      <td>NaN</td>\n",
       "      <td>NaN</td>\n",
       "      <td>NaN</td>\n",
       "      <td>Standard</td>\n",
       "      <td>Conventional</td>\n",
       "      <td>2006</td>\n",
       "      <td>11</td>\n",
       "      <td>46</td>\n",
       "      <td>16</td>\n",
       "      <td>3</td>\n",
       "      <td>320</td>\n",
       "      <td>False</td>\n",
       "      <td>False</td>\n",
       "      <td>False</td>\n",
       "      <td>False</td>\n",
       "      <td>False</td>\n",
       "      <td>False</td>\n",
       "      <td>1163635200</td>\n",
       "    </tr>\n",
       "    <tr>\n",
       "      <th>1</th>\n",
       "      <td>1139248</td>\n",
       "      <td>10.950807</td>\n",
       "      <td>117657</td>\n",
       "      <td>77</td>\n",
       "      <td>121</td>\n",
       "      <td>3.0</td>\n",
       "      <td>1996</td>\n",
       "      <td>4640.0</td>\n",
       "      <td>Low</td>\n",
       "      <td>950FII</td>\n",
       "      <td>950</td>\n",
       "      <td>F</td>\n",
       "      <td>II</td>\n",
       "      <td>NaN</td>\n",
       "      <td>Medium</td>\n",
       "      <td>Wheel Loader - 150.0 to 175.0 Horsepower</td>\n",
       "      <td>North Carolina</td>\n",
       "      <td>WL</td>\n",
       "      <td>Wheel Loader</td>\n",
       "      <td>NaN</td>\n",
       "      <td>EROPS w AC</td>\n",
       "      <td>None or Unspecified</td>\n",
       "      <td>NaN</td>\n",
       "      <td>None or Unspecified</td>\n",
       "      <td>NaN</td>\n",
       "      <td>NaN</td>\n",
       "      <td>NaN</td>\n",
       "      <td>NaN</td>\n",
       "      <td>NaN</td>\n",
       "      <td>NaN</td>\n",
       "      <td>NaN</td>\n",
       "      <td>2 Valve</td>\n",
       "      <td>NaN</td>\n",
       "      <td>NaN</td>\n",
       "      <td>NaN</td>\n",
       "      <td>NaN</td>\n",
       "      <td>23.5</td>\n",
       "      <td>None or Unspecified</td>\n",
       "      <td>NaN</td>\n",
       "      <td>NaN</td>\n",
       "      <td>NaN</td>\n",
       "      <td>NaN</td>\n",
       "      <td>NaN</td>\n",
       "      <td>NaN</td>\n",
       "      <td>NaN</td>\n",
       "      <td>NaN</td>\n",
       "      <td>NaN</td>\n",
       "      <td>NaN</td>\n",
       "      <td>NaN</td>\n",
       "      <td>NaN</td>\n",
       "      <td>Standard</td>\n",
       "      <td>Conventional</td>\n",
       "      <td>2004</td>\n",
       "      <td>3</td>\n",
       "      <td>13</td>\n",
       "      <td>26</td>\n",
       "      <td>4</td>\n",
       "      <td>86</td>\n",
       "      <td>False</td>\n",
       "      <td>False</td>\n",
       "      <td>False</td>\n",
       "      <td>False</td>\n",
       "      <td>False</td>\n",
       "      <td>False</td>\n",
       "      <td>1080259200</td>\n",
       "    </tr>\n",
       "    <tr>\n",
       "      <th>2</th>\n",
       "      <td>1139249</td>\n",
       "      <td>9.210340</td>\n",
       "      <td>434808</td>\n",
       "      <td>7009</td>\n",
       "      <td>121</td>\n",
       "      <td>3.0</td>\n",
       "      <td>2001</td>\n",
       "      <td>2838.0</td>\n",
       "      <td>High</td>\n",
       "      <td>226</td>\n",
       "      <td>226</td>\n",
       "      <td>NaN</td>\n",
       "      <td>NaN</td>\n",
       "      <td>NaN</td>\n",
       "      <td>NaN</td>\n",
       "      <td>Skid Steer Loader - 1351.0 to 1601.0 Lb Operat...</td>\n",
       "      <td>New York</td>\n",
       "      <td>SSL</td>\n",
       "      <td>Skid Steer Loaders</td>\n",
       "      <td>NaN</td>\n",
       "      <td>OROPS</td>\n",
       "      <td>None or Unspecified</td>\n",
       "      <td>NaN</td>\n",
       "      <td>NaN</td>\n",
       "      <td>NaN</td>\n",
       "      <td>NaN</td>\n",
       "      <td>NaN</td>\n",
       "      <td>NaN</td>\n",
       "      <td>NaN</td>\n",
       "      <td>NaN</td>\n",
       "      <td>NaN</td>\n",
       "      <td>Auxiliary</td>\n",
       "      <td>NaN</td>\n",
       "      <td>NaN</td>\n",
       "      <td>NaN</td>\n",
       "      <td>NaN</td>\n",
       "      <td>NaN</td>\n",
       "      <td>None or Unspecified</td>\n",
       "      <td>None or Unspecified</td>\n",
       "      <td>None or Unspecified</td>\n",
       "      <td>Standard</td>\n",
       "      <td>NaN</td>\n",
       "      <td>NaN</td>\n",
       "      <td>NaN</td>\n",
       "      <td>NaN</td>\n",
       "      <td>NaN</td>\n",
       "      <td>NaN</td>\n",
       "      <td>NaN</td>\n",
       "      <td>NaN</td>\n",
       "      <td>NaN</td>\n",
       "      <td>NaN</td>\n",
       "      <td>NaN</td>\n",
       "      <td>2004</td>\n",
       "      <td>2</td>\n",
       "      <td>9</td>\n",
       "      <td>26</td>\n",
       "      <td>3</td>\n",
       "      <td>57</td>\n",
       "      <td>False</td>\n",
       "      <td>False</td>\n",
       "      <td>False</td>\n",
       "      <td>False</td>\n",
       "      <td>False</td>\n",
       "      <td>False</td>\n",
       "      <td>1077753600</td>\n",
       "    </tr>\n",
       "    <tr>\n",
       "      <th>3</th>\n",
       "      <td>1139251</td>\n",
       "      <td>10.558414</td>\n",
       "      <td>1026470</td>\n",
       "      <td>332</td>\n",
       "      <td>121</td>\n",
       "      <td>3.0</td>\n",
       "      <td>2001</td>\n",
       "      <td>3486.0</td>\n",
       "      <td>High</td>\n",
       "      <td>PC120-6E</td>\n",
       "      <td>PC120</td>\n",
       "      <td>NaN</td>\n",
       "      <td>-6E</td>\n",
       "      <td>NaN</td>\n",
       "      <td>Small</td>\n",
       "      <td>Hydraulic Excavator, Track - 12.0 to 14.0 Metr...</td>\n",
       "      <td>Texas</td>\n",
       "      <td>TEX</td>\n",
       "      <td>Track Excavators</td>\n",
       "      <td>NaN</td>\n",
       "      <td>EROPS w AC</td>\n",
       "      <td>NaN</td>\n",
       "      <td>NaN</td>\n",
       "      <td>NaN</td>\n",
       "      <td>NaN</td>\n",
       "      <td>NaN</td>\n",
       "      <td>NaN</td>\n",
       "      <td>NaN</td>\n",
       "      <td>NaN</td>\n",
       "      <td>NaN</td>\n",
       "      <td>NaN</td>\n",
       "      <td>2 Valve</td>\n",
       "      <td>NaN</td>\n",
       "      <td>NaN</td>\n",
       "      <td>NaN</td>\n",
       "      <td>NaN</td>\n",
       "      <td>NaN</td>\n",
       "      <td>None or Unspecified</td>\n",
       "      <td>NaN</td>\n",
       "      <td>NaN</td>\n",
       "      <td>NaN</td>\n",
       "      <td>NaN</td>\n",
       "      <td>NaN</td>\n",
       "      <td>NaN</td>\n",
       "      <td>NaN</td>\n",
       "      <td>NaN</td>\n",
       "      <td>NaN</td>\n",
       "      <td>NaN</td>\n",
       "      <td>NaN</td>\n",
       "      <td>NaN</td>\n",
       "      <td>NaN</td>\n",
       "      <td>NaN</td>\n",
       "      <td>2011</td>\n",
       "      <td>5</td>\n",
       "      <td>20</td>\n",
       "      <td>19</td>\n",
       "      <td>3</td>\n",
       "      <td>139</td>\n",
       "      <td>False</td>\n",
       "      <td>False</td>\n",
       "      <td>False</td>\n",
       "      <td>False</td>\n",
       "      <td>False</td>\n",
       "      <td>False</td>\n",
       "      <td>1305763200</td>\n",
       "    </tr>\n",
       "    <tr>\n",
       "      <th>4</th>\n",
       "      <td>1139253</td>\n",
       "      <td>9.305651</td>\n",
       "      <td>1057373</td>\n",
       "      <td>17311</td>\n",
       "      <td>121</td>\n",
       "      <td>3.0</td>\n",
       "      <td>2007</td>\n",
       "      <td>722.0</td>\n",
       "      <td>Medium</td>\n",
       "      <td>S175</td>\n",
       "      <td>S175</td>\n",
       "      <td>NaN</td>\n",
       "      <td>NaN</td>\n",
       "      <td>NaN</td>\n",
       "      <td>NaN</td>\n",
       "      <td>Skid Steer Loader - 1601.0 to 1751.0 Lb Operat...</td>\n",
       "      <td>New York</td>\n",
       "      <td>SSL</td>\n",
       "      <td>Skid Steer Loaders</td>\n",
       "      <td>NaN</td>\n",
       "      <td>EROPS</td>\n",
       "      <td>None or Unspecified</td>\n",
       "      <td>NaN</td>\n",
       "      <td>NaN</td>\n",
       "      <td>NaN</td>\n",
       "      <td>NaN</td>\n",
       "      <td>NaN</td>\n",
       "      <td>NaN</td>\n",
       "      <td>NaN</td>\n",
       "      <td>NaN</td>\n",
       "      <td>NaN</td>\n",
       "      <td>Auxiliary</td>\n",
       "      <td>NaN</td>\n",
       "      <td>NaN</td>\n",
       "      <td>NaN</td>\n",
       "      <td>NaN</td>\n",
       "      <td>NaN</td>\n",
       "      <td>None or Unspecified</td>\n",
       "      <td>None or Unspecified</td>\n",
       "      <td>None or Unspecified</td>\n",
       "      <td>Standard</td>\n",
       "      <td>NaN</td>\n",
       "      <td>NaN</td>\n",
       "      <td>NaN</td>\n",
       "      <td>NaN</td>\n",
       "      <td>NaN</td>\n",
       "      <td>NaN</td>\n",
       "      <td>NaN</td>\n",
       "      <td>NaN</td>\n",
       "      <td>NaN</td>\n",
       "      <td>NaN</td>\n",
       "      <td>NaN</td>\n",
       "      <td>2009</td>\n",
       "      <td>7</td>\n",
       "      <td>30</td>\n",
       "      <td>23</td>\n",
       "      <td>3</td>\n",
       "      <td>204</td>\n",
       "      <td>False</td>\n",
       "      <td>False</td>\n",
       "      <td>False</td>\n",
       "      <td>False</td>\n",
       "      <td>False</td>\n",
       "      <td>False</td>\n",
       "      <td>1248307200</td>\n",
       "    </tr>\n",
       "  </tbody>\n",
       "</table>\n",
       "</div>"
      ],
      "text/plain": [
       "   SalesID  SalePrice  MachineID  ModelID  datasource  auctioneerID  YearMade  \\\n",
       "0  1139246  11.097410     999089     3157         121           3.0      2004   \n",
       "1  1139248  10.950807     117657       77         121           3.0      1996   \n",
       "2  1139249   9.210340     434808     7009         121           3.0      2001   \n",
       "3  1139251  10.558414    1026470      332         121           3.0      2001   \n",
       "4  1139253   9.305651    1057373    17311         121           3.0      2007   \n",
       "\n",
       "   MachineHoursCurrentMeter UsageBand fiModelDesc fiBaseModel fiSecondaryDesc  \\\n",
       "0                      68.0       Low        521D         521               D   \n",
       "1                    4640.0       Low      950FII         950               F   \n",
       "2                    2838.0      High         226         226             NaN   \n",
       "3                    3486.0      High    PC120-6E       PC120             NaN   \n",
       "4                     722.0    Medium        S175        S175             NaN   \n",
       "\n",
       "  fiModelSeries fiModelDescriptor ProductSize  \\\n",
       "0           NaN               NaN         NaN   \n",
       "1            II               NaN      Medium   \n",
       "2           NaN               NaN         NaN   \n",
       "3           -6E               NaN       Small   \n",
       "4           NaN               NaN         NaN   \n",
       "\n",
       "                                  fiProductClassDesc           state  \\\n",
       "0           Wheel Loader - 110.0 to 120.0 Horsepower         Alabama   \n",
       "1           Wheel Loader - 150.0 to 175.0 Horsepower  North Carolina   \n",
       "2  Skid Steer Loader - 1351.0 to 1601.0 Lb Operat...        New York   \n",
       "3  Hydraulic Excavator, Track - 12.0 to 14.0 Metr...           Texas   \n",
       "4  Skid Steer Loader - 1601.0 to 1751.0 Lb Operat...        New York   \n",
       "\n",
       "  ProductGroup    ProductGroupDesc Drive_System   Enclosure  \\\n",
       "0           WL        Wheel Loader          NaN  EROPS w AC   \n",
       "1           WL        Wheel Loader          NaN  EROPS w AC   \n",
       "2          SSL  Skid Steer Loaders          NaN       OROPS   \n",
       "3          TEX    Track Excavators          NaN  EROPS w AC   \n",
       "4          SSL  Skid Steer Loaders          NaN       EROPS   \n",
       "\n",
       "                 Forks Pad_Type         Ride_Control Stick Transmission  \\\n",
       "0  None or Unspecified      NaN  None or Unspecified   NaN          NaN   \n",
       "1  None or Unspecified      NaN  None or Unspecified   NaN          NaN   \n",
       "2  None or Unspecified      NaN                  NaN   NaN          NaN   \n",
       "3                  NaN      NaN                  NaN   NaN          NaN   \n",
       "4  None or Unspecified      NaN                  NaN   NaN          NaN   \n",
       "\n",
       "  Turbocharged Blade_Extension Blade_Width Enclosure_Type Engine_Horsepower  \\\n",
       "0          NaN             NaN         NaN            NaN               NaN   \n",
       "1          NaN             NaN         NaN            NaN               NaN   \n",
       "2          NaN             NaN         NaN            NaN               NaN   \n",
       "3          NaN             NaN         NaN            NaN               NaN   \n",
       "4          NaN             NaN         NaN            NaN               NaN   \n",
       "\n",
       "  Hydraulics Pushblock Ripper Scarifier Tip_Control            Tire_Size  \\\n",
       "0    2 Valve       NaN    NaN       NaN         NaN  None or Unspecified   \n",
       "1    2 Valve       NaN    NaN       NaN         NaN                 23.5   \n",
       "2  Auxiliary       NaN    NaN       NaN         NaN                  NaN   \n",
       "3    2 Valve       NaN    NaN       NaN         NaN                  NaN   \n",
       "4  Auxiliary       NaN    NaN       NaN         NaN                  NaN   \n",
       "\n",
       "               Coupler       Coupler_System       Grouser_Tracks  \\\n",
       "0  None or Unspecified                  NaN                  NaN   \n",
       "1  None or Unspecified                  NaN                  NaN   \n",
       "2  None or Unspecified  None or Unspecified  None or Unspecified   \n",
       "3  None or Unspecified                  NaN                  NaN   \n",
       "4  None or Unspecified  None or Unspecified  None or Unspecified   \n",
       "\n",
       "  Hydraulics_Flow Track_Type Undercarriage_Pad_Width Stick_Length Thumb  \\\n",
       "0             NaN        NaN                     NaN          NaN   NaN   \n",
       "1             NaN        NaN                     NaN          NaN   NaN   \n",
       "2        Standard        NaN                     NaN          NaN   NaN   \n",
       "3             NaN        NaN                     NaN          NaN   NaN   \n",
       "4        Standard        NaN                     NaN          NaN   NaN   \n",
       "\n",
       "  Pattern_Changer Grouser_Type Backhoe_Mounting Blade_Type Travel_Controls  \\\n",
       "0             NaN          NaN              NaN        NaN             NaN   \n",
       "1             NaN          NaN              NaN        NaN             NaN   \n",
       "2             NaN          NaN              NaN        NaN             NaN   \n",
       "3             NaN          NaN              NaN        NaN             NaN   \n",
       "4             NaN          NaN              NaN        NaN             NaN   \n",
       "\n",
       "  Differential_Type Steering_Controls  saleYear  saleMonth  saleWeek  saleDay  \\\n",
       "0          Standard      Conventional      2006         11        46       16   \n",
       "1          Standard      Conventional      2004          3        13       26   \n",
       "2               NaN               NaN      2004          2         9       26   \n",
       "3               NaN               NaN      2011          5        20       19   \n",
       "4               NaN               NaN      2009          7        30       23   \n",
       "\n",
       "   saleDayofweek  saleDayofyear  saleIs_month_end  saleIs_month_start  \\\n",
       "0              3            320             False               False   \n",
       "1              4             86             False               False   \n",
       "2              3             57             False               False   \n",
       "3              3            139             False               False   \n",
       "4              3            204             False               False   \n",
       "\n",
       "   saleIs_quarter_end  saleIs_quarter_start  saleIs_year_end  \\\n",
       "0               False                 False            False   \n",
       "1               False                 False            False   \n",
       "2               False                 False            False   \n",
       "3               False                 False            False   \n",
       "4               False                 False            False   \n",
       "\n",
       "   saleIs_year_start  saleElapsed  \n",
       "0              False   1163635200  \n",
       "1              False   1080259200  \n",
       "2              False   1077753600  \n",
       "3              False   1305763200  \n",
       "4              False   1248307200  "
      ]
     },
     "metadata": {},
     "output_type": "display_data"
    }
   ],
   "source": [
    "add_datepart(df_raw, 'saledate')\n",
    "display_all(df_raw.head())"
   ]
  },
  {
   "cell_type": "markdown",
   "metadata": {},
   "source": [
    "Notice that the SaleDate column have been expanded into 12 new featues [saleYear, saleMonth,...sales_year_start] \n",
    "\n",
    "However, the add_datepart command from fastai, won't give you information on trend/cyclical behavior such as superbowl, sunny day, rain day and so on you have to know your domain for this!. "
   ]
  },
  {
   "cell_type": "markdown",
   "metadata": {},
   "source": [
    "##### Input to the randomforestregressor -  =! Strings"
   ]
  },
  {
   "cell_type": "markdown",
   "metadata": {},
   "source": [
    "Before running the RandomForestRegressor we need to transform some of our features. The reason:\n",
    "\n",
    "The RandomForestRegressor code is written as: "
   ]
  },
  {
   "cell_type": "markdown",
   "metadata": {},
   "source": [
    "`m = RandomForestRegressor(n_jobs=-1)`\n",
    "\n",
    "`m.fit(features), target)`"
   ]
  },
  {
   "cell_type": "markdown",
   "metadata": {},
   "source": [
    "The first line sets the parameters controlling the RandomForestRegressor, here `n_jobs=-1` means using all processors for parallelized computing. Another parameter could be n_estimators, which specify the number of trees in the forest."
   ]
  },
  {
   "cell_type": "markdown",
   "metadata": {},
   "source": [
    "The second line builds the forest of trees from the training set and features fit(Features, Target). The training input samples. Internally, its dtype will be converted to `dtype=np.float3`\n",
    ". Therefore, it is important to transform stings in the dateframe to categories, which can be converted to np.float32, in contrast to strings. "
   ]
  },
  {
   "cell_type": "markdown",
   "metadata": {},
   "source": [
    "The categorical variables are currently stored as strings, which is inefficient, and doesn't provide the numeric coding required for a random forest. Therefore we call `train_cats` from Fastai to convert strings to pandas categories."
   ]
  },
  {
   "cell_type": "code",
   "execution_count": 29,
   "metadata": {},
   "outputs": [],
   "source": [
    "train_cats(df_raw)"
   ]
  },
  {
   "cell_type": "markdown",
   "metadata": {},
   "source": [
    "Show colums changed to category"
   ]
  },
  {
   "cell_type": "code",
   "execution_count": 30,
   "metadata": {},
   "outputs": [
    {
     "data": {
      "text/plain": [
       "SalesID                        int64\n",
       "SalePrice                    float64\n",
       "MachineID                      int64\n",
       "ModelID                        int64\n",
       "datasource                     int64\n",
       "auctioneerID                 float64\n",
       "YearMade                       int64\n",
       "MachineHoursCurrentMeter     float64\n",
       "UsageBand                   category\n",
       "fiModelDesc                 category\n",
       "fiBaseModel                 category\n",
       "fiSecondaryDesc             category\n",
       "fiModelSeries               category\n",
       "fiModelDescriptor           category\n",
       "ProductSize                 category\n",
       "fiProductClassDesc          category\n",
       "state                       category\n",
       "ProductGroup                category\n",
       "ProductGroupDesc            category\n",
       "Drive_System                category\n",
       "Enclosure                   category\n",
       "Forks                       category\n",
       "Pad_Type                    category\n",
       "Ride_Control                category\n",
       "Stick                       category\n",
       "Transmission                category\n",
       "Turbocharged                category\n",
       "Blade_Extension             category\n",
       "Blade_Width                 category\n",
       "Enclosure_Type              category\n",
       "Engine_Horsepower           category\n",
       "Hydraulics                  category\n",
       "Pushblock                   category\n",
       "Ripper                      category\n",
       "Scarifier                   category\n",
       "Tip_Control                 category\n",
       "Tire_Size                   category\n",
       "Coupler                     category\n",
       "Coupler_System              category\n",
       "Grouser_Tracks              category\n",
       "Hydraulics_Flow             category\n",
       "Track_Type                  category\n",
       "Undercarriage_Pad_Width     category\n",
       "Stick_Length                category\n",
       "Thumb                       category\n",
       "Pattern_Changer             category\n",
       "Grouser_Type                category\n",
       "Backhoe_Mounting            category\n",
       "Blade_Type                  category\n",
       "Travel_Controls             category\n",
       "Differential_Type           category\n",
       "Steering_Controls           category\n",
       "saleYear                       int64\n",
       "saleMonth                      int64\n",
       "saleWeek                       int64\n",
       "saleDay                        int64\n",
       "saleDayofweek                  int64\n",
       "saleDayofyear                  int64\n",
       "saleIs_month_end                bool\n",
       "saleIs_month_start              bool\n",
       "saleIs_quarter_end              bool\n",
       "saleIs_quarter_start            bool\n",
       "saleIs_year_end                 bool\n",
       "saleIs_year_start               bool\n",
       "saleElapsed                    int64\n",
       "dtype: object"
      ]
     },
     "metadata": {},
     "output_type": "display_data"
    }
   ],
   "source": [
    "display_all(df_raw.dtypes)"
   ]
  },
  {
   "cell_type": "markdown",
   "metadata": {},
   "source": [
    "Focusing on the column with UsageBand, we can see that it contains three categories:"
   ]
  },
  {
   "cell_type": "code",
   "execution_count": 31,
   "metadata": {},
   "outputs": [
    {
     "data": {
      "text/plain": [
       "Index(['High', 'Low', 'Medium'], dtype='object')"
      ]
     },
     "execution_count": 31,
     "metadata": {},
     "output_type": "execute_result"
    }
   ],
   "source": [
    "df_raw.UsageBand.cat.categories"
   ]
  },
  {
   "cell_type": "markdown",
   "metadata": {},
   "source": [
    "Optionally one can change the order of the categories, however it it not neassary for the randomforestregressor algorithm."
   ]
  },
  {
   "cell_type": "code",
   "execution_count": 32,
   "metadata": {},
   "outputs": [
    {
     "data": {
      "text/plain": [
       "Index(['High', 'Medium', 'Low'], dtype='object')"
      ]
     },
     "execution_count": 32,
     "metadata": {},
     "output_type": "execute_result"
    }
   ],
   "source": [
    "df_raw.UsageBand.cat.set_categories(['High', 'Medium', 'Low'], ordered=True, inplace=True)\n",
    "df_raw.UsageBand.cat.categories"
   ]
  },
  {
   "cell_type": "markdown",
   "metadata": {},
   "source": [
    "Normally, pandas will continue displaying the text categories, while treating them as numerical data internally. Optionally, we can replace the text categories with numbers, which will make this variable non-categorical, like so:."
   ]
  },
  {
   "cell_type": "code",
   "execution_count": 33,
   "metadata": {},
   "outputs": [
    {
     "data": {
      "text/plain": [
       "0    0\n",
       "1    0\n",
       "2    3\n",
       "3    0\n",
       "4    3\n",
       "Name: Hydraulics, dtype: int8"
      ]
     },
     "execution_count": 33,
     "metadata": {},
     "output_type": "execute_result"
    }
   ],
   "source": [
    "df_raw.Hydraulics = df_raw.Hydraulics.cat.codes\n",
    "df_raw.Hydraulics.head()"
   ]
  },
  {
   "cell_type": "markdown",
   "metadata": {},
   "source": [
    "##### Missing values "
   ]
  },
  {
   "cell_type": "markdown",
   "metadata": {},
   "source": [
    "We're still not quite done - for instance we have lots of missing values, which we can't pass directly to a random forest. \n",
    "\n",
    "We can show the procentage of missing values in each column by:"
   ]
  },
  {
   "cell_type": "code",
   "execution_count": 34,
   "metadata": {},
   "outputs": [
    {
     "data": {
      "text/plain": [
       "Backhoe_Mounting            0.803872\n",
       "Blade_Extension             0.937129\n",
       "Blade_Type                  0.800977\n",
       "Blade_Width                 0.937129\n",
       "Coupler                     0.466620\n",
       "Coupler_System              0.891660\n",
       "Differential_Type           0.826959\n",
       "Drive_System                0.739829\n",
       "Enclosure                   0.000810\n",
       "Enclosure_Type              0.937129\n",
       "Engine_Horsepower           0.937129\n",
       "Forks                       0.521154\n",
       "Grouser_Tracks              0.891899\n",
       "Grouser_Type                0.752813\n",
       "Hydraulics                  0.000000\n",
       "Hydraulics_Flow             0.891899\n",
       "MachineHoursCurrentMeter    0.644089\n",
       "MachineID                   0.000000\n",
       "ModelID                     0.000000\n",
       "Pad_Type                    0.802720\n",
       "Pattern_Changer             0.752651\n",
       "ProductGroup                0.000000\n",
       "ProductGroupDesc            0.000000\n",
       "ProductSize                 0.525460\n",
       "Pushblock                   0.937129\n",
       "Ride_Control                0.629527\n",
       "Ripper                      0.740388\n",
       "SalePrice                   0.000000\n",
       "SalesID                     0.000000\n",
       "Scarifier                   0.937102\n",
       "Steering_Controls           0.827064\n",
       "Stick                       0.802720\n",
       "Stick_Length                0.752651\n",
       "Thumb                       0.752476\n",
       "Tip_Control                 0.937129\n",
       "Tire_Size                   0.763869\n",
       "Track_Type                  0.752813\n",
       "Transmission                0.543210\n",
       "Travel_Controls             0.800975\n",
       "Turbocharged                0.802720\n",
       "Undercarriage_Pad_Width     0.751020\n",
       "UsageBand                   0.826391\n",
       "YearMade                    0.000000\n",
       "auctioneerID                0.050199\n",
       "datasource                  0.000000\n",
       "fiBaseModel                 0.000000\n",
       "fiModelDesc                 0.000000\n",
       "fiModelDescriptor           0.820707\n",
       "fiModelSeries               0.858129\n",
       "fiProductClassDesc          0.000000\n",
       "fiSecondaryDesc             0.342016\n",
       "saleDay                     0.000000\n",
       "saleDayofweek               0.000000\n",
       "saleDayofyear               0.000000\n",
       "saleElapsed                 0.000000\n",
       "saleIs_month_end            0.000000\n",
       "saleIs_month_start          0.000000\n",
       "saleIs_quarter_end          0.000000\n",
       "saleIs_quarter_start        0.000000\n",
       "saleIs_year_end             0.000000\n",
       "saleIs_year_start           0.000000\n",
       "saleMonth                   0.000000\n",
       "saleWeek                    0.000000\n",
       "saleYear                    0.000000\n",
       "state                       0.000000\n",
       "dtype: float64"
      ]
     },
     "metadata": {},
     "output_type": "display_data"
    }
   ],
   "source": [
    "display_all(df_raw.isnull().sum().sort_index()/len(df_raw))"
   ]
  },
  {
   "cell_type": "markdown",
   "metadata": {},
   "source": [
    "To handle the missing values the `proc_df` code from fastai is used. The `proc_df` not only handles missing values, it also replace categories with their numeric codes and split the dependent variable into a separate variable (split features and target values).\n",
    "\n",
    "For each column of the dataframe which is not in skip_flds nor in ignore_flds, NaN values are replaced by the median value of the column. \n",
    "\n",
    "skip_flds: A list of fields that dropped from df.\n",
    "ignore_flds: A list of fields that are ignored during processing."
   ]
  },
  {
   "cell_type": "markdown",
   "metadata": {},
   "source": [
    "###### Save point for df_raw before running Proc_df"
   ]
  },
  {
   "cell_type": "code",
   "execution_count": 35,
   "metadata": {},
   "outputs": [],
   "source": [
    "os.makedirs('tmp', exist_ok=True)\n",
    "df_raw.to_feather('tmp/bulldozers-raw')"
   ]
  },
  {
   "cell_type": "code",
   "execution_count": 8,
   "metadata": {},
   "outputs": [
    {
     "name": "stdout",
     "output_type": "stream",
     "text": [
      "/Users/mortenjensen/fastai\n"
     ]
    }
   ],
   "source": [
    "cd fastai"
   ]
  },
  {
   "cell_type": "code",
   "execution_count": 9,
   "metadata": {},
   "outputs": [],
   "source": [
    "df_raw = pd.read_feather('tmp/bulldozers-raw')"
   ]
  },
  {
   "cell_type": "markdown",
   "metadata": {},
   "source": [
    "##### Run proc_df continued from before save point. "
   ]
  },
  {
   "cell_type": "code",
   "execution_count": 10,
   "metadata": {},
   "outputs": [],
   "source": [
    "df, y, nas = proc_df(df_raw, 'SalePrice')"
   ]
  },
  {
   "cell_type": "markdown",
   "metadata": {},
   "source": [
    "## RandomForestRegressor"
   ]
  },
  {
   "cell_type": "markdown",
   "metadata": {},
   "source": [
    "Now we have a dataframe with features and target values ready for the RandomForestRegressor"
   ]
  },
  {
   "cell_type": "markdown",
   "metadata": {},
   "source": [
    "##### Validation set"
   ]
  },
  {
   "cell_type": "markdown",
   "metadata": {},
   "source": [
    "Just because a learning algorithm fits a training set well, that does not mean it is a good hypothesis. It could over fit and as a result your predictions on the test set would be poor. \n",
    "\n",
    "\n",
    "![Image of fittings](https://i.stack.imgur.com/t0zit.png)\n",
    "\n",
    "The error of your hypothesis as measured on the data set with which you trained the parameters will be lower than the error on any other data set.\n",
    "\n",
    "Given many models with different polynomial degrees, we can use a systematic approach to identify the 'best' function. In order to choose the model of your hypothesis, you can test each degree of polynomial and look at the error result.\n",
    "\n",
    "One way to break down our dataset into the three sets is:\n",
    "\n",
    "Training set: 60%\n",
    "Cross validation set: 20%\n",
    "Test set: 20%\n",
    "We can now calculate three separate error values for the three different sets using the following method:\n",
    "\n",
    "1. Optimize the parameters in Θ using the training set for each polynomial degree.\n",
    "2. Find the polynomial degree d with the least error using the cross validation set.\n",
    "3. Estimate the generalization error using the test set\n"
   ]
  },
  {
   "cell_type": "markdown",
   "metadata": {},
   "source": [
    "Kaggle's Blue book bulldozers competition already supply us with a vaildation and test set. However, for practice we will spilt the dataframe into a training and validation set. "
   ]
  },
  {
   "cell_type": "code",
   "execution_count": 11,
   "metadata": {},
   "outputs": [
    {
     "data": {
      "text/plain": [
       "((389125, 66), (389125,), (12000, 66), (12000,))"
      ]
     },
     "execution_count": 11,
     "metadata": {},
     "output_type": "execute_result"
    }
   ],
   "source": [
    "def split_vals(a,n): return a[:n].copy(), a[n:].copy()\n",
    "\n",
    "n_valid = 12000  # same as Kaggle's test set size\n",
    "n_trn = len(df)-n_valid\n",
    "raw_train, raw_valid = split_vals(df_raw, n_trn)\n",
    "X_train, X_valid = split_vals(df, n_trn)\n",
    "y_train, y_valid = split_vals(y, n_trn)\n",
    "\n",
    "X_train.shape, y_train.shape, X_valid.shape, y_valid.shape"
   ]
  },
  {
   "cell_type": "markdown",
   "metadata": {},
   "source": [
    "`Notice` that since we are dealing a data set that has a time/date column, we use the latest oberservations to our validation set. \n",
    "\n",
    "Use your domain knowledge to chooses the right subset for validation and testing. It might be a random subset!"
   ]
  },
  {
   "cell_type": "markdown",
   "metadata": {},
   "source": [
    "Next we define a function to first calcualte the roor mean squard error:"
   ]
  },
  {
   "cell_type": "code",
   "execution_count": 12,
   "metadata": {},
   "outputs": [],
   "source": [
    "def rmse(x,y): return math.sqrt(((x-y)**2).mean())"
   ]
  },
  {
   "cell_type": "code",
   "execution_count": 80,
   "metadata": {},
   "outputs": [],
   "source": [
    "def meanse(x,y): return ((x-y)**2).mean()"
   ]
  },
  {
   "cell_type": "markdown",
   "metadata": {},
   "source": [
    "Define function to display results of training and validation errors.  "
   ]
  },
  {
   "cell_type": "code",
   "execution_count": 264,
   "metadata": {},
   "outputs": [],
   "source": [
    "def print_score(m):\n",
    "    res = ['Train RMSLE ={:05f}'.format(rmse(m.predict(X_train), y_train)), 'Vaild RMSLE={:05f}'.format(rmse(m.predict(X_valid), y_valid)),\n",
    "            'Train R squared = {:05f}'.format(m.score(X_train, y_train)), 'Vaild R squared = {:05f}'.format(m.score(X_valid, y_valid))]\n",
    "    if hasattr(m, 'oob_score_'): (res.append('OOB Score = {:05f}'.format(m.oob_score_))) \n",
    "    print(res)"
   ]
  },
  {
   "cell_type": "markdown",
   "metadata": {},
   "source": [
    "### Speeding things up!"
   ]
  },
  {
   "cell_type": "markdown",
   "metadata": {},
   "source": [
    "#### 1. method - Subset"
   ]
  },
  {
   "cell_type": "markdown",
   "metadata": {},
   "source": [
    "First we use proc_df to divide our dataframe in features and target values. Furthermore we add the subset parameter which choose a random subset of size from df."
   ]
  },
  {
   "cell_type": "code",
   "execution_count": 205,
   "metadata": {},
   "outputs": [],
   "source": [
    "df_trn, y_trn, nas = proc_df(df_raw, 'SalePrice', subset=30000, na_dict=nas)\n",
    "X_train, _ = split_vals(df_trn, 20000)\n",
    "y_train, _ = split_vals(y_trn, 20000)"
   ]
  },
  {
   "cell_type": "code",
   "execution_count": 206,
   "metadata": {},
   "outputs": [
    {
     "name": "stdout",
     "output_type": "stream",
     "text": [
      "CPU times: user 35.3 s, sys: 264 ms, total: 35.6 s\n",
      "Wall time: 10.9 s\n",
      "['Train RMSLE =0.093972', 'Vaild RMSLE=0.345154', 'Train R squared = 0.980535', 'Vaild R squared = 0.787248']\n"
     ]
    }
   ],
   "source": [
    "m = RandomForestRegressor(n_jobs=-1)\n",
    "%time m.fit(X_train, y_train)\n",
    "print_score(m)"
   ]
  },
  {
   "cell_type": "markdown",
   "metadata": {},
   "source": [
    "## Random forest regressor explained"
   ]
  },
  {
   "cell_type": "markdown",
   "metadata": {},
   "source": [
    "We are going to build a single tree. In scikit-learn, they do not call them trees but estimators.\n",
    "\n",
    "Parameters:\n",
    "- `n_estimators=` — create a forest with just one tree\n",
    "- `max_depth=` — to make it a small tree\n",
    "- `bootstrap=Fals`? — random forest randomizes bunch of things, we want to turn that off by this parameter"
   ]
  },
  {
   "cell_type": "code",
   "execution_count": 207,
   "metadata": {},
   "outputs": [
    {
     "name": "stdout",
     "output_type": "stream",
     "text": [
      "['Train RMSLE =0.518780', 'Vaild RMSLE=0.582665', 'Train R squared = 0.406769', 'Vaild R squared = 0.393703']\n"
     ]
    }
   ],
   "source": [
    "m = RandomForestRegressor(n_estimators=1, max_depth=3, bootstrap=False, n_jobs=-1)\n",
    "%time m.fit(X_train, y_train)\n",
    "print_score(m)"
   ]
  },
  {
   "cell_type": "markdown",
   "metadata": {},
   "source": [
    "This small deterministic tree has R^2 of 0.39 after fitting so this is not a good model but better than the mean model since it is greater than 1 and we can actually draw the three"
   ]
  },
  {
   "cell_type": "code",
   "execution_count": 208,
   "metadata": {},
   "outputs": [
    {
     "data": {
      "image/svg+xml": [
       "<?xml version=\"1.0\" encoding=\"UTF-8\" standalone=\"no\"?>\n",
       "<!DOCTYPE svg PUBLIC \"-//W3C//DTD SVG 1.1//EN\"\n",
       " \"http://www.w3.org/Graphics/SVG/1.1/DTD/svg11.dtd\">\n",
       "<!-- Generated by graphviz version 2.40.1 (20161225.0304)\n",
       " -->\n",
       "<!-- Title: Tree Pages: 1 -->\n",
       "<svg width=\"720pt\" height=\"434pt\"\n",
       " viewBox=\"0.00 0.00 720.00 434.49\" xmlns=\"http://www.w3.org/2000/svg\" xmlns:xlink=\"http://www.w3.org/1999/xlink\">\n",
       "<g id=\"graph0\" class=\"graph\" transform=\"scale(.7787 .7787) rotate(0) translate(4 554)\">\n",
       "<title>Tree</title>\n",
       "<polygon fill=\"#ffffff\" stroke=\"transparent\" points=\"-4,4 -4,-554 920.6667,-554 920.6667,4 -4,4\"/>\n",
       "<!-- 0 -->\n",
       "<g id=\"node1\" class=\"node\">\n",
       "<title>0</title>\n",
       "<polygon fill=\"#eba06a\" stroke=\"#000000\" points=\"171.6667,-336.5 29.6667,-336.5 29.6667,-268.5 171.6667,-268.5 171.6667,-336.5\"/>\n",
       "<text text-anchor=\"start\" x=\"37.6667\" y=\"-321.3\" font-family=\"Times,serif\" font-size=\"14.00\" fill=\"#000000\">Coupler_System ≤ 0.5</text>\n",
       "<text text-anchor=\"start\" x=\"66.1667\" y=\"-306.3\" font-family=\"Times,serif\" font-size=\"14.00\" fill=\"#000000\">mse = 0.454</text>\n",
       "<text text-anchor=\"start\" x=\"52.6667\" y=\"-291.3\" font-family=\"Times,serif\" font-size=\"14.00\" fill=\"#000000\">samples = 20000</text>\n",
       "<text text-anchor=\"start\" x=\"58.6667\" y=\"-276.3\" font-family=\"Times,serif\" font-size=\"14.00\" fill=\"#000000\">value = 10.125</text>\n",
       "</g>\n",
       "<!-- 1 -->\n",
       "<g id=\"node2\" class=\"node\">\n",
       "<title>1</title>\n",
       "<polygon fill=\"#ea9a60\" stroke=\"#000000\" points=\"407.1667,-372.5 278.1667,-372.5 278.1667,-304.5 407.1667,-304.5 407.1667,-372.5\"/>\n",
       "<text text-anchor=\"start\" x=\"286.1667\" y=\"-357.3\" font-family=\"Times,serif\" font-size=\"14.00\" fill=\"#000000\">YearMade ≤ 1985.5</text>\n",
       "<text text-anchor=\"start\" x=\"308.1667\" y=\"-342.3\" font-family=\"Times,serif\" font-size=\"14.00\" fill=\"#000000\">mse = 0.396</text>\n",
       "<text text-anchor=\"start\" x=\"294.6667\" y=\"-327.3\" font-family=\"Times,serif\" font-size=\"14.00\" fill=\"#000000\">samples = 18342</text>\n",
       "<text text-anchor=\"start\" x=\"300.6667\" y=\"-312.3\" font-family=\"Times,serif\" font-size=\"14.00\" fill=\"#000000\">value = 10.211</text>\n",
       "</g>\n",
       "<!-- 0&#45;&gt;1 -->\n",
       "<g id=\"edge1\" class=\"edge\">\n",
       "<title>0&#45;&gt;1</title>\n",
       "<path fill=\"none\" stroke=\"#000000\" d=\"M171.9658,-313.1065C202.1539,-317.5973 237.3376,-322.8312 267.8927,-327.3766\"/>\n",
       "<polygon fill=\"#000000\" stroke=\"#000000\" points=\"267.6573,-330.88 278.0635,-328.8896 268.6874,-323.9562 267.6573,-330.88\"/>\n",
       "<text text-anchor=\"middle\" x=\"257.9771\" y=\"-340.0738\" font-family=\"Times,serif\" font-size=\"14.00\" fill=\"#000000\">True</text>\n",
       "</g>\n",
       "<!-- 8 -->\n",
       "<g id=\"node9\" class=\"node\">\n",
       "<title>8</title>\n",
       "<polygon fill=\"#fbe9dd\" stroke=\"#000000\" points=\"407.1667,-245.5 278.1667,-245.5 278.1667,-177.5 407.1667,-177.5 407.1667,-245.5\"/>\n",
       "<text text-anchor=\"start\" x=\"286.1667\" y=\"-230.3\" font-family=\"Times,serif\" font-size=\"14.00\" fill=\"#000000\">YearMade ≤ 1998.5</text>\n",
       "<text text-anchor=\"start\" x=\"308.1667\" y=\"-215.3\" font-family=\"Times,serif\" font-size=\"14.00\" fill=\"#000000\">mse = 0.114</text>\n",
       "<text text-anchor=\"start\" x=\"298.1667\" y=\"-200.3\" font-family=\"Times,serif\" font-size=\"14.00\" fill=\"#000000\">samples = 1658</text>\n",
       "<text text-anchor=\"start\" x=\"304.1667\" y=\"-185.3\" font-family=\"Times,serif\" font-size=\"14.00\" fill=\"#000000\">value = 9.177</text>\n",
       "</g>\n",
       "<!-- 0&#45;&gt;8 -->\n",
       "<g id=\"edge8\" class=\"edge\">\n",
       "<title>0&#45;&gt;8</title>\n",
       "<path fill=\"none\" stroke=\"#000000\" d=\"M171.9658,-275.6892C202.4164,-264.2387 237.9498,-250.877 268.6887,-239.3182\"/>\n",
       "<polygon fill=\"#000000\" stroke=\"#000000\" points=\"269.9353,-242.5887 278.0635,-235.7929 267.4715,-236.0367 269.9353,-242.5887\"/>\n",
       "<text text-anchor=\"middle\" x=\"255.295\" y=\"-221.7685\" font-family=\"Times,serif\" font-size=\"14.00\" fill=\"#000000\">False</text>\n",
       "</g>\n",
       "<!-- 2 -->\n",
       "<g id=\"node3\" class=\"node\">\n",
       "<title>2</title>\n",
       "<polygon fill=\"#efb387\" stroke=\"#000000\" points=\"661.1667,-486.5 540.1667,-486.5 540.1667,-418.5 661.1667,-418.5 661.1667,-486.5\"/>\n",
       "<text text-anchor=\"start\" x=\"548.1667\" y=\"-471.3\" font-family=\"Times,serif\" font-size=\"14.00\" fill=\"#000000\">ModelID ≤ 4157.5</text>\n",
       "<text text-anchor=\"start\" x=\"566.1667\" y=\"-456.3\" font-family=\"Times,serif\" font-size=\"14.00\" fill=\"#000000\">mse = 0.335</text>\n",
       "<text text-anchor=\"start\" x=\"556.1667\" y=\"-441.3\" font-family=\"Times,serif\" font-size=\"14.00\" fill=\"#000000\">samples = 5746</text>\n",
       "<text text-anchor=\"start\" x=\"562.1667\" y=\"-426.3\" font-family=\"Times,serif\" font-size=\"14.00\" fill=\"#000000\">value = 9.883</text>\n",
       "</g>\n",
       "<!-- 1&#45;&gt;2 -->\n",
       "<g id=\"edge2\" class=\"edge\">\n",
       "<title>1&#45;&gt;2</title>\n",
       "<path fill=\"none\" stroke=\"#000000\" d=\"M407.4379,-367.1199C444.8666,-383.6581 491.9803,-404.4758 530.3154,-421.4145\"/>\n",
       "<polygon fill=\"#000000\" stroke=\"#000000\" points=\"529.2997,-424.7922 539.8612,-425.6325 532.1289,-418.3894 529.2997,-424.7922\"/>\n",
       "</g>\n",
       "<!-- 5 -->\n",
       "<g id=\"node6\" class=\"node\">\n",
       "<title>5</title>\n",
       "<polygon fill=\"#e88e4d\" stroke=\"#000000\" points=\"679.6667,-372.5 521.6667,-372.5 521.6667,-304.5 679.6667,-304.5 679.6667,-372.5\"/>\n",
       "<text text-anchor=\"start\" x=\"529.6667\" y=\"-357.3\" font-family=\"Times,serif\" font-size=\"14.00\" fill=\"#000000\">fiProductClassDesc ≤ 7.5</text>\n",
       "<text text-anchor=\"start\" x=\"566.1667\" y=\"-342.3\" font-family=\"Times,serif\" font-size=\"14.00\" fill=\"#000000\">mse = 0.352</text>\n",
       "<text text-anchor=\"start\" x=\"552.6667\" y=\"-327.3\" font-family=\"Times,serif\" font-size=\"14.00\" fill=\"#000000\">samples = 12596</text>\n",
       "<text text-anchor=\"start\" x=\"558.6667\" y=\"-312.3\" font-family=\"Times,serif\" font-size=\"14.00\" fill=\"#000000\">value = 10.361</text>\n",
       "</g>\n",
       "<!-- 1&#45;&gt;5 -->\n",
       "<g id=\"edge5\" class=\"edge\">\n",
       "<title>1&#45;&gt;5</title>\n",
       "<path fill=\"none\" stroke=\"#000000\" d=\"M407.4379,-338.5C438.9566,-338.5 477.3432,-338.5 511.572,-338.5\"/>\n",
       "<polygon fill=\"#000000\" stroke=\"#000000\" points=\"511.5763,-342.0001 521.5762,-338.5 511.5762,-335.0001 511.5763,-342.0001\"/>\n",
       "</g>\n",
       "<!-- 3 -->\n",
       "<g id=\"node4\" class=\"node\">\n",
       "<title>3</title>\n",
       "<polygon fill=\"#eca26d\" stroke=\"#000000\" points=\"895.1667,-550 790.1667,-550 790.1667,-497 895.1667,-497 895.1667,-550\"/>\n",
       "<text text-anchor=\"start\" x=\"811.6667\" y=\"-534.8\" font-family=\"Times,serif\" font-size=\"14.00\" fill=\"#000000\">mse = 0.36</text>\n",
       "<text text-anchor=\"start\" x=\"798.1667\" y=\"-519.8\" font-family=\"Times,serif\" font-size=\"14.00\" fill=\"#000000\">samples = 2793</text>\n",
       "<text text-anchor=\"start\" x=\"800.6667\" y=\"-504.8\" font-family=\"Times,serif\" font-size=\"14.00\" fill=\"#000000\">value = 10.097</text>\n",
       "</g>\n",
       "<!-- 2&#45;&gt;3 -->\n",
       "<g id=\"edge3\" class=\"edge\">\n",
       "<title>2&#45;&gt;3</title>\n",
       "<path fill=\"none\" stroke=\"#000000\" d=\"M661.4211,-470.3247C697.6388,-480.9505 743.5247,-494.4129 780.0643,-505.1332\"/>\n",
       "<polygon fill=\"#000000\" stroke=\"#000000\" points=\"779.5259,-508.6227 790.1068,-508.0795 781.4966,-501.9058 779.5259,-508.6227\"/>\n",
       "</g>\n",
       "<!-- 4 -->\n",
       "<g id=\"node5\" class=\"node\">\n",
       "<title>4</title>\n",
       "<polygon fill=\"#f3c2a0\" stroke=\"#000000\" points=\"895.1667,-479 790.1667,-479 790.1667,-426 895.1667,-426 895.1667,-479\"/>\n",
       "<text text-anchor=\"start\" x=\"808.1667\" y=\"-463.8\" font-family=\"Times,serif\" font-size=\"14.00\" fill=\"#000000\">mse = 0.227</text>\n",
       "<text text-anchor=\"start\" x=\"798.1667\" y=\"-448.8\" font-family=\"Times,serif\" font-size=\"14.00\" fill=\"#000000\">samples = 2953</text>\n",
       "<text text-anchor=\"start\" x=\"804.1667\" y=\"-433.8\" font-family=\"Times,serif\" font-size=\"14.00\" fill=\"#000000\">value = 9.681</text>\n",
       "</g>\n",
       "<!-- 2&#45;&gt;4 -->\n",
       "<g id=\"edge4\" class=\"edge\">\n",
       "<title>2&#45;&gt;4</title>\n",
       "<path fill=\"none\" stroke=\"#000000\" d=\"M661.4211,-452.5C697.6388,-452.5 743.5247,-452.5 780.0643,-452.5\"/>\n",
       "<polygon fill=\"#000000\" stroke=\"#000000\" points=\"780.1068,-456.0001 790.1068,-452.5 780.1067,-449.0001 780.1068,-456.0001\"/>\n",
       "</g>\n",
       "<!-- 6 -->\n",
       "<g id=\"node7\" class=\"node\">\n",
       "<title>6</title>\n",
       "<polygon fill=\"#eead7e\" stroke=\"#000000\" points=\"895.1667,-408 790.1667,-408 790.1667,-355 895.1667,-355 895.1667,-408\"/>\n",
       "<text text-anchor=\"start\" x=\"808.1667\" y=\"-392.8\" font-family=\"Times,serif\" font-size=\"14.00\" fill=\"#000000\">mse = 0.124</text>\n",
       "<text text-anchor=\"start\" x=\"798.1667\" y=\"-377.8\" font-family=\"Times,serif\" font-size=\"14.00\" fill=\"#000000\">samples = 3698</text>\n",
       "<text text-anchor=\"start\" x=\"804.1667\" y=\"-362.8\" font-family=\"Times,serif\" font-size=\"14.00\" fill=\"#000000\">value = 9.956</text>\n",
       "</g>\n",
       "<!-- 5&#45;&gt;6 -->\n",
       "<g id=\"edge6\" class=\"edge\">\n",
       "<title>5&#45;&gt;6</title>\n",
       "<path fill=\"none\" stroke=\"#000000\" d=\"M679.9065,-352.5798C712.3543,-358.3453 749.3687,-364.9223 779.8924,-370.3459\"/>\n",
       "<polygon fill=\"#000000\" stroke=\"#000000\" points=\"779.521,-373.8346 789.9791,-372.1382 780.7457,-366.9426 779.521,-373.8346\"/>\n",
       "</g>\n",
       "<!-- 7 -->\n",
       "<g id=\"node8\" class=\"node\">\n",
       "<title>7</title>\n",
       "<polygon fill=\"#e58139\" stroke=\"#000000\" points=\"895.1667,-337 790.1667,-337 790.1667,-284 895.1667,-284 895.1667,-337\"/>\n",
       "<text text-anchor=\"start\" x=\"808.1667\" y=\"-321.8\" font-family=\"Times,serif\" font-size=\"14.00\" fill=\"#000000\">mse = 0.351</text>\n",
       "<text text-anchor=\"start\" x=\"798.1667\" y=\"-306.8\" font-family=\"Times,serif\" font-size=\"14.00\" fill=\"#000000\">samples = 8898</text>\n",
       "<text text-anchor=\"start\" x=\"800.6667\" y=\"-291.8\" font-family=\"Times,serif\" font-size=\"14.00\" fill=\"#000000\">value = 10.529</text>\n",
       "</g>\n",
       "<!-- 5&#45;&gt;7 -->\n",
       "<g id=\"edge7\" class=\"edge\">\n",
       "<title>5&#45;&gt;7</title>\n",
       "<path fill=\"none\" stroke=\"#000000\" d=\"M679.9065,-329.3318C712.3543,-325.5775 749.3687,-321.2948 779.8924,-317.7631\"/>\n",
       "<polygon fill=\"#000000\" stroke=\"#000000\" points=\"780.4477,-321.2223 789.9791,-316.5961 779.6431,-314.2687 780.4477,-321.2223\"/>\n",
       "</g>\n",
       "<!-- 9 -->\n",
       "<g id=\"node10\" class=\"node\">\n",
       "<title>9</title>\n",
       "<polygon fill=\"#fdf6f0\" stroke=\"#000000\" points=\"683.1667,-245.5 518.1667,-245.5 518.1667,-177.5 683.1667,-177.5 683.1667,-245.5\"/>\n",
       "<text text-anchor=\"start\" x=\"526.1667\" y=\"-230.3\" font-family=\"Times,serif\" font-size=\"14.00\" fill=\"#000000\">fiProductClassDesc ≤ 38.5</text>\n",
       "<text text-anchor=\"start\" x=\"566.1667\" y=\"-215.3\" font-family=\"Times,serif\" font-size=\"14.00\" fill=\"#000000\">mse = 0.088</text>\n",
       "<text text-anchor=\"start\" x=\"559.6667\" y=\"-200.3\" font-family=\"Times,serif\" font-size=\"14.00\" fill=\"#000000\">samples = 888</text>\n",
       "<text text-anchor=\"start\" x=\"562.1667\" y=\"-185.3\" font-family=\"Times,serif\" font-size=\"14.00\" fill=\"#000000\">value = 9.017</text>\n",
       "</g>\n",
       "<!-- 8&#45;&gt;9 -->\n",
       "<g id=\"edge9\" class=\"edge\">\n",
       "<title>8&#45;&gt;9</title>\n",
       "<path fill=\"none\" stroke=\"#000000\" d=\"M407.4379,-211.5C437.7391,-211.5 474.3879,-211.5 507.5876,-211.5\"/>\n",
       "<polygon fill=\"#000000\" stroke=\"#000000\" points=\"507.7693,-215.0001 517.7693,-211.5 507.7693,-208.0001 507.7693,-215.0001\"/>\n",
       "</g>\n",
       "<!-- 12 -->\n",
       "<g id=\"node13\" class=\"node\">\n",
       "<title>12</title>\n",
       "<polygon fill=\"#f8dbc7\" stroke=\"#000000\" points=\"683.1667,-131.5 518.1667,-131.5 518.1667,-63.5 683.1667,-63.5 683.1667,-131.5\"/>\n",
       "<text text-anchor=\"start\" x=\"526.1667\" y=\"-116.3\" font-family=\"Times,serif\" font-size=\"14.00\" fill=\"#000000\">fiProductClassDesc ≤ 39.5</text>\n",
       "<text text-anchor=\"start\" x=\"569.6667\" y=\"-101.3\" font-family=\"Times,serif\" font-size=\"14.00\" fill=\"#000000\">mse = 0.08</text>\n",
       "<text text-anchor=\"start\" x=\"559.6667\" y=\"-86.3\" font-family=\"Times,serif\" font-size=\"14.00\" fill=\"#000000\">samples = 770</text>\n",
       "<text text-anchor=\"start\" x=\"562.1667\" y=\"-71.3\" font-family=\"Times,serif\" font-size=\"14.00\" fill=\"#000000\">value = 9.361</text>\n",
       "</g>\n",
       "<!-- 8&#45;&gt;12 -->\n",
       "<g id=\"edge12\" class=\"edge\">\n",
       "<title>8&#45;&gt;12</title>\n",
       "<path fill=\"none\" stroke=\"#000000\" d=\"M407.4379,-182.8801C439.7752,-168.5916 479.3418,-151.1087 514.2304,-135.6928\"/>\n",
       "<polygon fill=\"#000000\" stroke=\"#000000\" points=\"515.7307,-138.8564 523.463,-131.6133 512.9015,-132.4535 515.7307,-138.8564\"/>\n",
       "</g>\n",
       "<!-- 10 -->\n",
       "<g id=\"node11\" class=\"node\">\n",
       "<title>10</title>\n",
       "<polygon fill=\"#ffffff\" stroke=\"#000000\" points=\"891.6667,-266 793.6667,-266 793.6667,-213 891.6667,-213 891.6667,-266\"/>\n",
       "<text text-anchor=\"start\" x=\"808.1667\" y=\"-250.8\" font-family=\"Times,serif\" font-size=\"14.00\" fill=\"#000000\">mse = 0.055</text>\n",
       "<text text-anchor=\"start\" x=\"801.6667\" y=\"-235.8\" font-family=\"Times,serif\" font-size=\"14.00\" fill=\"#000000\">samples = 296</text>\n",
       "<text text-anchor=\"start\" x=\"804.1667\" y=\"-220.8\" font-family=\"Times,serif\" font-size=\"14.00\" fill=\"#000000\">value = 8.897</text>\n",
       "</g>\n",
       "<!-- 9&#45;&gt;10 -->\n",
       "<g id=\"edge10\" class=\"edge\">\n",
       "<title>9&#45;&gt;10</title>\n",
       "<path fill=\"none\" stroke=\"#000000\" d=\"M683.2725,-221.0577C716.2414,-224.8723 753.4529,-229.1777 783.6252,-232.6688\"/>\n",
       "<polygon fill=\"#000000\" stroke=\"#000000\" points=\"783.2353,-236.1469 793.5714,-233.8196 784.0399,-229.1933 783.2353,-236.1469\"/>\n",
       "</g>\n",
       "<!-- 11 -->\n",
       "<g id=\"node12\" class=\"node\">\n",
       "<title>11</title>\n",
       "<polygon fill=\"#fcf1e9\" stroke=\"#000000\" points=\"891.6667,-195 793.6667,-195 793.6667,-142 891.6667,-142 891.6667,-195\"/>\n",
       "<text text-anchor=\"start\" x=\"808.1667\" y=\"-179.8\" font-family=\"Times,serif\" font-size=\"14.00\" fill=\"#000000\">mse = 0.094</text>\n",
       "<text text-anchor=\"start\" x=\"801.6667\" y=\"-164.8\" font-family=\"Times,serif\" font-size=\"14.00\" fill=\"#000000\">samples = 592</text>\n",
       "<text text-anchor=\"start\" x=\"804.1667\" y=\"-149.8\" font-family=\"Times,serif\" font-size=\"14.00\" fill=\"#000000\">value = 9.078</text>\n",
       "</g>\n",
       "<!-- 9&#45;&gt;11 -->\n",
       "<g id=\"edge11\" class=\"edge\">\n",
       "<title>9&#45;&gt;11</title>\n",
       "<path fill=\"none\" stroke=\"#000000\" d=\"M683.2725,-196.8221C716.2414,-190.964 753.4529,-184.352 783.6252,-178.9908\"/>\n",
       "<polygon fill=\"#000000\" stroke=\"#000000\" points=\"784.3379,-182.4191 793.5714,-177.2235 783.1132,-175.5271 784.3379,-182.4191\"/>\n",
       "</g>\n",
       "<!-- 13 -->\n",
       "<g id=\"node14\" class=\"node\">\n",
       "<title>13</title>\n",
       "<polygon fill=\"#f9e3d3\" stroke=\"#000000\" points=\"891.6667,-124 793.6667,-124 793.6667,-71 891.6667,-71 891.6667,-124\"/>\n",
       "<text text-anchor=\"start\" x=\"808.1667\" y=\"-108.8\" font-family=\"Times,serif\" font-size=\"14.00\" fill=\"#000000\">mse = 0.077</text>\n",
       "<text text-anchor=\"start\" x=\"801.6667\" y=\"-93.8\" font-family=\"Times,serif\" font-size=\"14.00\" fill=\"#000000\">samples = 309</text>\n",
       "<text text-anchor=\"start\" x=\"804.1667\" y=\"-78.8\" font-family=\"Times,serif\" font-size=\"14.00\" fill=\"#000000\">value = 9.258</text>\n",
       "</g>\n",
       "<!-- 12&#45;&gt;13 -->\n",
       "<g id=\"edge13\" class=\"edge\">\n",
       "<title>12&#45;&gt;13</title>\n",
       "<path fill=\"none\" stroke=\"#000000\" d=\"M683.2725,-97.5C716.0981,-97.5 753.1294,-97.5 783.2312,-97.5\"/>\n",
       "<polygon fill=\"#000000\" stroke=\"#000000\" points=\"783.5714,-101.0001 793.5714,-97.5 783.5713,-94.0001 783.5714,-101.0001\"/>\n",
       "</g>\n",
       "<!-- 14 -->\n",
       "<g id=\"node15\" class=\"node\">\n",
       "<title>14</title>\n",
       "<polygon fill=\"#f7d6be\" stroke=\"#000000\" points=\"891.6667,-53 793.6667,-53 793.6667,0 891.6667,0 891.6667,-53\"/>\n",
       "<text text-anchor=\"start\" x=\"808.1667\" y=\"-37.8\" font-family=\"Times,serif\" font-size=\"14.00\" fill=\"#000000\">mse = 0.071</text>\n",
       "<text text-anchor=\"start\" x=\"801.6667\" y=\"-22.8\" font-family=\"Times,serif\" font-size=\"14.00\" fill=\"#000000\">samples = 461</text>\n",
       "<text text-anchor=\"start\" x=\"807.6667\" y=\"-7.8\" font-family=\"Times,serif\" font-size=\"14.00\" fill=\"#000000\">value = 9.43</text>\n",
       "</g>\n",
       "<!-- 12&#45;&gt;14 -->\n",
       "<g id=\"edge14\" class=\"edge\">\n",
       "<title>12&#45;&gt;14</title>\n",
       "<path fill=\"none\" stroke=\"#000000\" d=\"M683.2725,-73.2644C716.2414,-63.5917 753.4529,-52.6743 783.6252,-43.8221\"/>\n",
       "<polygon fill=\"#000000\" stroke=\"#000000\" points=\"784.9612,-47.0777 793.5714,-40.904 782.9905,-40.3608 784.9612,-47.0777\"/>\n",
       "</g>\n",
       "</g>\n",
       "</svg>\n"
      ],
      "text/plain": [
       "<graphviz.files.Source at 0x1a3f591d68>"
      ]
     },
     "metadata": {},
     "output_type": "display_data"
    }
   ],
   "source": [
    "draw_tree(m.estimators_[0], df_trn, precision=3)"
   ]
  },
  {
   "cell_type": "markdown",
   "metadata": {},
   "source": [
    "A tree consists of a sequence of binary decisions.\n",
    "\n",
    "When building a random forest from scratch. \n",
    "\n",
    "\n",
    "- We want to pick a feature and it's threshold to select the best single binary spilt we can make. \n",
    "- The best single binary spilt we can make is determine by the weighted average of the mean squared errors over the new nodes(Ture/False).\n",
    "\n",
    "Conclusion: We simply try every feature and every threshold of that feature to see which feature and which value that will give us the spilt with the best possiable weighted average of the nodes.  \n",
    "\n",
    "\n",
    "Regrading the tree above: \n",
    "- The first line indicates the binary split criteria\n",
    "- `sample` at the root is 20,000 since that is what we specified when splitting the data. \n",
    "- `value` is aveage of the log of price, and if we built a model where we just used the average all the time, then the mean squared error mse would be 0.445\n",
    "- The best single binary split we can make turns out to be `Coupler_system ≤ 0.5` which will improve mse to `0.115` in false path and `0.397` in true path\n",
    "- Darker color indicates higher value\n"
   ]
  },
  {
   "cell_type": "markdown",
   "metadata": {},
   "source": [
    "The average log(remember we took the \"log\" previous) price in first node:"
   ]
  },
  {
   "cell_type": "code",
   "execution_count": 234,
   "metadata": {},
   "outputs": [
    {
     "name": "stdout",
     "output_type": "stream",
     "text": [
      "(10.125277001188609, None)\n"
     ]
    }
   ],
   "source": [
    "value_mean = np.mean(y_train), print(value_mean)"
   ]
  },
  {
   "cell_type": "markdown",
   "metadata": {},
   "source": [
    "Mean squard error calculation in the first node:"
   ]
  },
  {
   "cell_type": "code",
   "execution_count": 235,
   "metadata": {},
   "outputs": [],
   "source": [
    "y_pred_line=np.ones(y_train.shape[0])"
   ]
  },
  {
   "cell_type": "code",
   "execution_count": 236,
   "metadata": {},
   "outputs": [],
   "source": [
    "y_pred_line[:]= value_mean[0]"
   ]
  },
  {
   "cell_type": "code",
   "execution_count": 233,
   "metadata": {},
   "outputs": [
    {
     "name": "stdout",
     "output_type": "stream",
     "text": [
      "Mean squared error: 0.454\n"
     ]
    }
   ],
   "source": [
    "print('Mean squared error: %.3f'\n",
    "      % metrics.mean_squared_error(y_train, y_pred_line))"
   ]
  },
  {
   "cell_type": "markdown",
   "metadata": {},
   "source": [
    "This is the entirety of creating a decision tree. Stopping condition:\n",
    "\n",
    "- When you hit the limit that was requested (max_depth)\n",
    "- When your leaf nodes only have one thing in them"
   ]
  },
  {
   "cell_type": "markdown",
   "metadata": {},
   "source": [
    "##### Let’s make our decision tree better "
   ]
  },
  {
   "cell_type": "markdown",
   "metadata": {},
   "source": [
    "As of now, we have specified the `max_depth = 3`, by removing the max_dept parameter the single tree can grow bigger"
   ]
  },
  {
   "cell_type": "code",
   "execution_count": 237,
   "metadata": {},
   "outputs": [
    {
     "name": "stdout",
     "output_type": "stream",
     "text": [
      "['Train RMSLE =0.000000', 'Vaild RMSLE=0.481174', 'Train R squared = 1.000000', 'Vaild R squared = 0.586522']\n"
     ]
    }
   ],
   "source": [
    "m = RandomForestRegressor(n_estimators=1, bootstrap=False, n_jobs=-1)\n",
    "%time m.fit(X_train, y_train)\n",
    "print_score(m)"
   ]
  },
  {
   "cell_type": "markdown",
   "metadata": {},
   "source": [
    "By doing so, the training R^2 becomes 1 because with no max depth the single tree regressor can keep splitting the features until every leafnode only have one thing in it. Hence, it overfit.\n",
    "\n",
    "However, the validation R² is 0.73 — which is better than the shallow tree but not as good as we would like.( Overfitting!! )\n",
    "\n",
    "This is why we need to use bagging of multiple trees to get more generalizable results."
   ]
  },
  {
   "cell_type": "markdown",
   "metadata": {},
   "source": [
    "##### Creating the forest - Statistical technique called bagging"
   ]
  },
  {
   "cell_type": "markdown",
   "metadata": {},
   "source": [
    "So what is bagging? Bagging is an interesting idea which is what if we created five different models each of which was only somewhat predictive but the models gave predictions that were not correlated with each other. That would mean that the five models would have profound different insights into the relationships in the data. If you took the average of those five models, you are effectively bringing in the insights from each of them. So this idea of averaging models is a technique for Ensembling.\n",
    "\n",
    "What if we created a whole a lot of trees — big, deep, massively overfit trees but each one, let’s say, we only pick a random 1/10 of the data. Let’s say we do that a hundred times (different random sample every time). They are overfitting terribly but since they are all using different random samples, they all overfit in different ways on different things. In other words, they all have errors but the errors are random. The average of a bunch of random errors is zero. If we take the average of these trees each of which have been trained on a different random subset, the error will average out to zero and what is left is the true relationship — and that’s the random forest.\n",
    "\n",
    "The key insight here is to construct multiple models which are better than nothing and where the errors are, as much as possible, not correlated with each other.\n",
    "\n",
    "Below we will create a forest of 10 trees and specify `bootstrap=True`(default) to choose a random subset of the data (uncorrelated) "
   ]
  },
  {
   "cell_type": "code",
   "execution_count": 247,
   "metadata": {},
   "outputs": [
    {
     "name": "stdout",
     "output_type": "stream",
     "text": [
      "CPU times: user 3.3 s, sys: 38.7 ms, total: 3.34 s\n",
      "Wall time: 1.19 s\n",
      "['Train RMSLE =0.111114', 'Vaild RMSLE=0.352416', 'Train R squared = 0.972786', 'Vaild R squared = 0.778201']\n"
     ]
    }
   ],
   "source": [
    "m = RandomForestRegressor(n_estimators=10, bootstrap=True,n_jobs=-1)\n",
    "%time m.fit(X_train, y_train)\n",
    "print_score(m)"
   ]
  },
  {
   "cell_type": "markdown",
   "metadata": {},
   "source": [
    "We'll grab the predictions for each individual tree, and look at one example."
   ]
  },
  {
   "cell_type": "code",
   "execution_count": 248,
   "metadata": {},
   "outputs": [
    {
     "data": {
      "text/plain": [
       "(array([ 9.15905,  8.9872 ,  9.25913,  9.01797, 10.62133,  9.5819 ,  9.15905,  9.30565,  9.3501 ,  9.85219]),\n",
       " 9.42935683896891,\n",
       " 9.104979856318357)"
      ]
     },
     "execution_count": 248,
     "metadata": {},
     "output_type": "execute_result"
    }
   ],
   "source": [
    "preds = np.stack([t.predict(X_valid) for t in m.estimators_])\n",
    "preds[:,0], np.mean(preds[:,0]), y_valid[0]"
   ]
  },
  {
   "cell_type": "markdown",
   "metadata": {},
   "source": [
    "The mean of 10 predictions for the first data is 9.4, and the actual value is 9.10. As you can see, none of the individual prediction is close to 9.10, but the mean ends up pretty good.\n",
    "\n",
    "Conclusion: Taking the average of ten bad uncorrelated models gives a good model. \n",
    "\n",
    "In bagging, that means that each of your individual estimators, you want them to be as predictive as possible but for the predictions of your individual trees to be as uncorrelated as possible. The research community found that the more important thing seems to be creating uncorrelated trees rather than more accurate trees. In scikit-learn, there is another class called `ExtraTreeClassifier` which is an extremely randomized tree model. Rather than trying every split of every variable, it randomly tries a few splits of a few variables which makes training much faster and it can build more trees — better generalization. If you have crappy individual models, you just need more trees to get a good end model."
   ]
  },
  {
   "cell_type": "markdown",
   "metadata": {},
   "source": [
    "###### Chooseing the number of trees"
   ]
  },
  {
   "cell_type": "code",
   "execution_count": 250,
   "metadata": {},
   "outputs": [
    {
     "data": {
      "image/png": "[encoded data removed]",
      "text/plain": [
       "<Figure size 432x288 with 1 Axes>"
      ]
     },
     "metadata": {
      "needs_background": "light"
     },
     "output_type": "display_data"
    }
   ],
   "source": [
    "plt.plot([metrics.r2_score(y_valid, np.mean(preds[:i+1], axis=0)) for i in range(10)]);"
   ]
  },
  {
   "cell_type": "markdown",
   "metadata": {},
   "source": [
    "The shape of this curve suggests that adding more trees isn't going to help us much. Let's check. (Compare this to our original model on a sample)"
   ]
  },
  {
   "cell_type": "code",
   "execution_count": 251,
   "metadata": {},
   "outputs": [
    {
     "name": "stdout",
     "output_type": "stream",
     "text": [
      "CPU times: user 7.07 s, sys: 47.5 ms, total: 7.11 s\n",
      "Wall time: 1.93 s\n",
      "['Train RMSLE =0.102645', 'Vaild RMSLE=0.347196', 'Train R squared = 0.976776', 'Vaild R squared = 0.784723']\n"
     ]
    }
   ],
   "source": [
    "m = RandomForestRegressor(n_estimators=20, bootstrap=True,n_jobs=-1)\n",
    "%time m.fit(X_train, y_train)\n",
    "print_score(m)"
   ]
  },
  {
   "cell_type": "code",
   "execution_count": 253,
   "metadata": {},
   "outputs": [
    {
     "name": "stdout",
     "output_type": "stream",
     "text": [
      "CPU times: user 28.1 s, sys: 137 ms, total: 28.2 s\n",
      "Wall time: 7.3 s\n",
      "['Train RMSLE =0.094561', 'Vaild RMSLE=0.343575', 'Train R squared = 0.980290', 'Vaild R squared = 0.789190']\n"
     ]
    }
   ],
   "source": [
    "m = RandomForestRegressor(n_estimators=80, bootstrap=True,n_jobs=-1)\n",
    "%time m.fit(X_train, y_train)\n",
    "print_score(m)"
   ]
  },
  {
   "cell_type": "markdown",
   "metadata": {},
   "source": [
    "Conclusion adding more tree does not improve the validation R^2. Note: we are working with a small subset of the whole data set. Generally adding more tree helps to a point. Therefore, plot the curve above.\n",
    "\n",
    "So when Jeremy builds most of his models, he starts with 20 or 30 trees and at the end of the project or at the end of the day’s work, he will use 1000 trees and run it over night."
   ]
  },
  {
   "cell_type": "markdown",
   "metadata": {},
   "source": [
    "##### Out-of-bag (OOB) score"
   ]
  },
  {
   "cell_type": "markdown",
   "metadata": {},
   "source": [
    "Our model above show a training R^2 of 0.98 and a validation R^2 of 0.78\n",
    "\n",
    "Is our validation set worse than our training set because we're over-fitting, or because the validation set is for a different time period, or a bit of both? With the existing information we've shown, we can't tell. However, random forests have a very clever trick called *out-of-bag (OOB) error* which can handle this (and more!)\n",
    "\n",
    "The idea is to calculate error on the training set, but only include the trees in the calculation of a row's error where that row was *not* included in training that tree. This allows us to see whether the model is over-fitting, without needing a separate validation set.\n",
    "\n",
    "This also has the benefit of allowing us to see whether our model generalizes, even if we only have a small amount of data so want to avoid separating some out to create a validation set.\n",
    "\n",
    "This is as simple as adding one more parameter to our model constructor. We print the OOB error last in our `print_score` function below. \n",
    "\n",
    "OOB error can also be used  if your dataset is small and you will not want to pull out a validation set because doing so means you now do not have enough data to build a good model. "
   ]
  },
  {
   "cell_type": "code",
   "execution_count": 265,
   "metadata": {},
   "outputs": [
    {
     "name": "stdout",
     "output_type": "stream",
     "text": [
      "CPU times: user 14.1 s, sys: 105 ms, total: 14.3 s\n",
      "Wall time: 4.08 s\n",
      "['Train RMSLE =0.097579', 'Vaild RMSLE=0.353421', 'Train R squared = 0.979012', 'Vaild R squared = 0.776934', 'OOB Score = 0.850573']\n"
     ]
    }
   ],
   "source": [
    "m = RandomForestRegressor(n_estimators=40, n_jobs=-1, oob_score=True)\n",
    "%time m.fit(X_train, y_train)\n",
    "print_score(m)"
   ]
  },
  {
   "cell_type": "markdown",
   "metadata": {},
   "source": [
    "The oob score is higher than our validation R^2 but lower than our Train R^2, hence both the time difference and over-fitting are making an impact.  \n",
    "\n",
    "Note: The accuracy tends to be lower because each row appears in less trees in the OOB samples than it does in the full set of trees. So OOB R² will slightly underestimate how generalizable the model is, but the more trees you add, the less serious that underestimation is.\n",
    "\n",
    "OOB score will come in handy when setting hyper parameters. There will be quite a few hyper parameters that we are going to set and we would like to find some automated say to set them. One way to do that is to do grid search. Scikit-learn has a function called grid search and you pass in a list of all the hyper parameters you want to tune and all of the values of these hyper parameters you want to try. It will run your model on every possible combination of all these hyper parameters and tell you which one is the best. OOB score is a great choice for getting it to tell you which one is the best."
   ]
  },
  {
   "cell_type": "markdown",
   "metadata": {},
   "source": [
    "#### Reducing over-fitting"
   ]
  },
  {
   "cell_type": "markdown",
   "metadata": {},
   "source": [
    "It turns out that one of the easiest ways to avoid over-fitting is also one of the best ways to speed up analysis: subsampling. Lets return to using our full dataset, so that we can demonstrate the impact of this technique."
   ]
  },
  {
   "cell_type": "markdown",
   "metadata": {},
   "source": [
    "#### 2. method - Subsampling - Speeding things up continue"
   ]
  },
  {
   "cell_type": "markdown",
   "metadata": {},
   "source": [
    "It turns out that one of the easiest ways to avoid over-fitting is also one of the best ways to speed up analysis: subsampling. Let's return to using our full dataset, so that we can demonstrate the impact of this technique."
   ]
  },
  {
   "cell_type": "code",
   "execution_count": 266,
   "metadata": {},
   "outputs": [],
   "source": [
    "df_trn, y_trn, nas = proc_df(df_raw, 'SalePrice')\n",
    "X_train, X_valid = split_vals(df_trn, n_trn)\n",
    "y_train, y_valid = split_vals(y_trn, n_trn)"
   ]
  },
  {
   "cell_type": "markdown",
   "metadata": {},
   "source": [
    "The basic idea is this: rather than limit the total amount of data that our model can access, let's instead limit it to a different random subset per tree. That way, given enough trees, the model can still see all the data, but for each individual tree it'll be just as fast as if we had cut down our dataset as before."
   ]
  },
  {
   "cell_type": "markdown",
   "metadata": {},
   "source": [
    "Earlier, we took 30,000 rows and created all the models which used a different subset of that 30,000 rows. Why not take a totally different subset of 30,000 each time? In other words, let’s leave the entire 389,125 records as is, and if we want to make things faster, pick a different subset of 20,000 each time. So rather than bootstrapping the entire set of rows, just randomly sample a subset of the data."
   ]
  },
  {
   "cell_type": "code",
   "execution_count": 267,
   "metadata": {},
   "outputs": [],
   "source": [
    "set_rf_samples(20000)"
   ]
  },
  {
   "cell_type": "markdown",
   "metadata": {},
   "source": [
    "`set_rf_samples` is a custom function by fastaiset_rf_samples is a custom function by fastai`.\n",
    "\n",
    "Scikit-learn does not support this out of box, so `set_rf_samples` is a custom function. So OOB score needs to be turned off when using `set_rf_samples` as they are not compatible. \n",
    "\n",
    "`reset_rf_samples()` will turn it back to the way it wasreset_rf_samples() will turn it back to the way it was`."
   ]
  },
  {
   "cell_type": "code",
   "execution_count": 269,
   "metadata": {},
   "outputs": [
    {
     "name": "stdout",
     "output_type": "stream",
     "text": [
      "CPU times: user 6min 26s, sys: 3.47 s, total: 6min 30s\n",
      "Wall time: 2min 2s\n",
      "['Train RMSLE =0.078197', 'Vaild RMSLE=0.236027', 'Train R squared = 0.987221', 'Vaild R squared = 0.900512', 'OOB Score = 0.908662']\n"
     ]
    }
   ],
   "source": [
    "m = RandomForestRegressor(n_estimators=40, n_jobs=-1)\n",
    "%time m.fit(X_train, y_train)\n",
    "print_score(m)"
   ]
  },
  {
   "cell_type": "markdown",
   "metadata": {},
   "source": [
    "Since each additional tree allows the model to see more data, this approach can make additional trees more useful. Therefore we use the n_estimators parameter to calculate on 100 trees(below). "
   ]
  },
  {
   "cell_type": "code",
   "execution_count": 273,
   "metadata": {},
   "outputs": [],
   "source": [
    "preds = np.stack([t.predict(X_valid) for t in m.estimators_])"
   ]
  },
  {
   "cell_type": "code",
   "execution_count": 274,
   "metadata": {},
   "outputs": [
    {
     "data": {
      "image/png": "[encoded data removed]",
      "text/plain": [
       "<Figure size 432x288 with 1 Axes>"
      ]
     },
     "metadata": {
      "needs_background": "light"
     },
     "output_type": "display_data"
    }
   ],
   "source": [
    "plt.plot([metrics.r2_score(y_valid, np.mean(preds[:i+1], axis=0)) for i in range(preds[:,0].shape[0])]);"
   ]
  },
  {
   "cell_type": "code",
   "execution_count": 277,
   "metadata": {},
   "outputs": [
    {
     "name": "stdout",
     "output_type": "stream",
     "text": [
      "CPU times: user 6min 35s, sys: 3.46 s, total: 6min 38s\n",
      "Wall time: 2min 10s\n",
      "['Train RMSLE =0.078401', 'Vaild RMSLE=0.238215', 'Train R squared = 0.987154', 'Vaild R squared = 0.898659']\n"
     ]
    }
   ],
   "source": [
    "m = RandomForestRegressor(n_estimators=40, n_jobs=-1)\n",
    "%time m.fit(X_train, y_train)\n",
    "print_score(m)"
   ]
  },
  {
   "cell_type": "markdown",
   "metadata": {},
   "source": [
    "The biggest tip: Most people run all of their models on all of the data all of the time using their best possible parameters which is just pointless. If you are trying to find out which feature is important and how they are related to each other, having that 4th decimal place of accuracy is not going to change any of your insights at all. Do most of your models on a large enough sample size that your accuracy is reasonable (within a reasonable distance of the best accuracy you can get) and taking a small number of seconds to train so that you can interactively do your analysis."
   ]
  },
  {
   "cell_type": "markdown",
   "metadata": {},
   "source": [
    "We revert to using a full bootstrap sample in order to show the impact of other over-fitting avoidance methods."
   ]
  },
  {
   "cell_type": "code",
   "execution_count": 276,
   "metadata": {},
   "outputs": [],
   "source": [
    "reset_rf_samples()"
   ]
  },
  {
   "cell_type": "markdown",
   "metadata": {},
   "source": [
    "Let’s get a baseline for this full set to compare to:"
   ]
  },
  {
   "cell_type": "code",
   "execution_count": 278,
   "metadata": {},
   "outputs": [
    {
     "name": "stdout",
     "output_type": "stream",
     "text": [
      "CPU times: user 6min 29s, sys: 3.62 s, total: 6min 33s\n",
      "Wall time: 2min 10s\n",
      "['Train RMSLE =0.078227', 'Vaild RMSLE=0.238566', 'Train R squared = 0.987211', 'Vaild R squared = 0.898360', 'OOB Score = 0.908598']\n"
     ]
    }
   ],
   "source": [
    "m = RandomForestRegressor(n_estimators=40, n_jobs=-1, oob_score=True)\n",
    "%time m.fit(X_train, y_train)\n",
    "print_score(m)"
   ]
  },
  {
   "cell_type": "markdown",
   "metadata": {},
   "source": [
    "Define function to display the max depth of the random forest model. "
   ]
  },
  {
   "cell_type": "code",
   "execution_count": 279,
   "metadata": {},
   "outputs": [],
   "source": [
    "def dectree_max_depth(tree):\n",
    "    children_left = tree.children_left\n",
    "    children_right = tree.children_right\n",
    "\n",
    "    def walk(node_id):\n",
    "        if (children_left[node_id] != children_right[node_id]):\n",
    "            left_max = 1 + walk(children_left[node_id])\n",
    "            right_max = 1 + walk(children_right[node_id])\n",
    "            return max(left_max, right_max)\n",
    "        else: # leaf\n",
    "            return 1\n",
    "\n",
    "    root_node_id = 0\n",
    "    return walk(root_node_id)"
   ]
  },
  {
   "cell_type": "code",
   "execution_count": 280,
   "metadata": {},
   "outputs": [],
   "source": [
    "t=m.estimators_[0].tree_ "
   ]
  },
  {
   "cell_type": "code",
   "execution_count": 281,
   "metadata": {},
   "outputs": [
    {
     "data": {
      "text/plain": [
       "45"
      ]
     },
     "execution_count": 281,
     "metadata": {},
     "output_type": "execute_result"
    }
   ],
   "source": [
    "dectree_max_depth(t)"
   ]
  },
  {
   "cell_type": "markdown",
   "metadata": {},
   "source": [
    "Another way to reduce over-fitting is to grow our trees less deeply. We do this by specifying (with min_samples_leaf) that we require some minimum number of rows in every leaf node. This has two benefits:\n",
    "There are less decision rules for each leaf node; simpler models should generalize better\n",
    "The predictions are made by averaging more rows in the leaf node, resulting in less volatility\n",
    "\n",
    "Stop training the tree further when a leaf node has 5 or less samples (before we were going all the way down to 1). This means there will be one or two less levels of decision being made which means there are half the number of actual decision criteria we have to train (i.e. faster training time).\n",
    "\n",
    "For each tree, rather than just taking one point, we are taking the average of at least three points that we would expect the each tree to generalize better. But each tree is going to be slightly less powerful on its own.\n",
    "\n",
    "The numbers that work well are 1, 3, 5, 10, 25, but it is relative to your overall dataset size."
   ]
  },
  {
   "cell_type": "code",
   "execution_count": 282,
   "metadata": {},
   "outputs": [
    {
     "name": "stdout",
     "output_type": "stream",
     "text": [
      "CPU times: user 5min 24s, sys: 2.58 s, total: 5min 26s\n",
      "Wall time: 1min 47s\n",
      "['Train RMSLE =0.140558', 'Vaild RMSLE=0.234482', 'Train R squared = 0.958710', 'Vaild R squared = 0.901810', 'OOB Score = 0.907176']\n"
     ]
    }
   ],
   "source": [
    "m = RandomForestRegressor(n_estimators=40, min_samples_leaf=5, n_jobs=-1, oob_score=True)\n",
    "%time m.fit(X_train, y_train)\n",
    "print_score(m)"
   ]
  },
  {
   "cell_type": "code",
   "execution_count": 283,
   "metadata": {},
   "outputs": [],
   "source": [
    "t=m.estimators_[0].tree_ "
   ]
  },
  {
   "cell_type": "code",
   "execution_count": 284,
   "metadata": {},
   "outputs": [
    {
     "data": {
      "text/plain": [
       "38"
      ]
     },
     "execution_count": 284,
     "metadata": {},
     "output_type": "execute_result"
    }
   ],
   "source": [
    "dectree_max_depth(t)"
   ]
  },
  {
   "cell_type": "code",
   "execution_count": 285,
   "metadata": {},
   "outputs": [
    {
     "name": "stdout",
     "output_type": "stream",
     "text": [
      "CPU times: user 5min 40s, sys: 2.57 s, total: 5min 42s\n",
      "Wall time: 1min 50s\n",
      "['Train RMSLE =0.114953', 'Vaild RMSLE=0.233649', 'Train R squared = 0.972383', 'Vaild R squared = 0.902506', 'OOB Score = 0.908498']\n"
     ]
    }
   ],
   "source": [
    "m = RandomForestRegressor(n_estimators=40, min_samples_leaf=3, n_jobs=-1, oob_score=True)\n",
    "%time m.fit(X_train, y_train)\n",
    "print_score(m)"
   ]
  },
  {
   "cell_type": "markdown",
   "metadata": {},
   "source": [
    "Here OOB is less but almost the same as the validation set. This is because our validation set is a different time period whereas OOB samples are random. It is much harder to predict a different time period."
   ]
  },
  {
   "cell_type": "markdown",
   "metadata": {},
   "source": [
    "We can also increase the amount of variation amongst the trees by not only use a sample of rows for each tree, but to also using a sample of columns for each split. We do this by specifying max_features, which is the proportion of features to randomly select from at each split.\n",
    "The number of features to consider when looking for the best split:\n",
    "- If int, then consider max_features features at each split.\n",
    "- If float, then max_features is a fraction and int(max_features * n_features) features are considered at each split.\n",
    "- If “auto”, then max_features=n_features.\n",
    "- If “sqrt”, then max_features=sqrt(n_features).\n",
    "- If “log2”, then max_features=log2(n_features).\n",
    "- If None, then max_features=n_features."
   ]
  },
  {
   "cell_type": "code",
   "execution_count": 286,
   "metadata": {},
   "outputs": [
    {
     "name": "stdout",
     "output_type": "stream",
     "text": [
      "CPU times: user 3min 5s, sys: 2.11 s, total: 3min 7s\n",
      "Wall time: 1min 5s\n",
      "['Train RMSLE =0.119141', 'Vaild RMSLE=0.227813', 'Train R squared = 0.970334', 'Vaild R squared = 0.907316', 'OOB Score = 0.911699']\n"
     ]
    }
   ],
   "source": [
    "m = RandomForestRegressor(n_estimators=40, min_samples_leaf=3, max_features=0.5, n_jobs=-1, oob_score=True)\n",
    "%time m.fit(X_train, y_train)\n",
    "print_score(m)"
   ]
  },
  {
   "cell_type": "code",
   "execution_count": 287,
   "metadata": {},
   "outputs": [
    {
     "name": "stdout",
     "output_type": "stream",
     "text": [
      "CPU times: user 7min 39s, sys: 4.61 s, total: 7min 44s\n",
      "Wall time: 2min 37s\n",
      "['Train RMSLE =0.117584', 'Vaild RMSLE=0.226713', 'Train R squared = 0.971105', 'Vaild R squared = 0.908209', 'OOB Score = 0.915113']\n"
     ]
    }
   ],
   "source": [
    "m = RandomForestRegressor(n_estimators=100, min_samples_leaf=3, max_features=0.5, n_jobs=-1, oob_score=True)\n",
    "%time m.fit(X_train, y_train)\n",
    "print_score(m)"
   ]
  },
  {
   "cell_type": "markdown",
   "metadata": {},
   "source": [
    "The RMSLE of 0.226 would get us to the top 20 of this competition — with brainless random forest with some brainless minor hyper parameter tuning. This is why Random Forest is such an important not just first step but often only step of machine learning. It is hard to screw up.\n",
    "\n",
    "\n",
    "We can't compare our results directly with the Kaggle competition, since it used a different validation set (and we can no longer to submit to this competition) - but we can at least see that we're getting similar results to the winners based on the dataset we have.\n",
    "The sklearn docs show an example of different max_features methods with increasing numbers of trees - as you see, using a subset of features on each split requires using more trees, but results in better models:"
   ]
  },
  {
   "cell_type": "markdown",
   "metadata": {},
   "source": [
    "![sklearn max_features chart](http://scikit-learn.org/stable/_images/sphx_glr_plot_ensemble_oob_001.png)"
   ]
  },
  {
   "cell_type": "markdown",
   "metadata": {},
   "source": [
    "## End of lesson 2"
   ]
  },
  {
   "cell_type": "code",
   "execution_count": null,
   "metadata": {},
   "outputs": [],
   "source": []
  }
 ],
 "metadata": {
  "kernelspec": {
   "display_name": "Python 3",
   "language": "python",
   "name": "python3"
  },
  "language_info": {
   "codemirror_mode": {
    "name": "ipython",
    "version": 3
   },
   "file_extension": ".py",
   "mimetype": "text/x-python",
   "name": "python",
   "nbconvert_exporter": "python",
   "pygments_lexer": "ipython3",
   "version": "3.6.10"
  }
 },
 "nbformat": 4,
 "nbformat_minor": 4
}
