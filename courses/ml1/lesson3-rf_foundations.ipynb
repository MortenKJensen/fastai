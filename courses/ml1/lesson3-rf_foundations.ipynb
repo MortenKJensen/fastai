{
 "cells": [
  {
   "cell_type": "markdown",
   "metadata": {},
   "source": [
    "**Important: This notebook will only work with fastai-0.7.x. Do not try to run any fastai-1.x code from this path in the repository because it will load fastai-0.7.x**"
   ]
  },
  {
   "cell_type": "markdown",
   "metadata": {},
   "source": [
    "# Random Forest from scratch!"
   ]
  },
  {
   "cell_type": "code",
   "execution_count": 1,
   "metadata": {},
   "outputs": [],
   "source": [
    "%load_ext autoreload\n",
    "%autoreload 2"
   ]
  },
  {
   "cell_type": "code",
   "execution_count": 2,
   "metadata": {},
   "outputs": [
    {
     "name": "stderr",
     "output_type": "stream",
     "text": [
      "/home/ubuntu/fastai/env/lib/python3.6/site-packages/sklearn/utils/deprecation.py:143: FutureWarning: The sklearn.ensemble.forest module is  deprecated in version 0.22 and will be removed in version 0.24. The corresponding classes / functions should instead be imported from sklearn.ensemble. Anything that cannot be imported from sklearn.ensemble is now part of the private API.\n",
      "  warnings.warn(message, FutureWarning)\n"
     ]
    }
   ],
   "source": [
    "%matplotlib inline\n",
    "\n",
    "from fastai.imports import *\n",
    "from fastai.structured import *\n",
    "from sklearn.ensemble import RandomForestRegressor, RandomForestClassifier\n",
    "from IPython.display import display\n",
    "from sklearn import metrics"
   ]
  },
  {
   "cell_type": "markdown",
   "metadata": {},
   "source": [
    "## Load in our data from last lesson"
   ]
  },
  {
   "cell_type": "code",
   "execution_count": 3,
   "metadata": {},
   "outputs": [
    {
     "data": {
      "text/plain": [
       "'/home/ubuntu/fastai/courses/ml1'"
      ]
     },
     "execution_count": 3,
     "metadata": {},
     "output_type": "execute_result"
    }
   ],
   "source": [
    "pwd"
   ]
  },
  {
   "cell_type": "code",
   "execution_count": 4,
   "metadata": {},
   "outputs": [],
   "source": [
    "PATH = \"/home/ubuntu/fastai/data/bulldozers/\"\n",
    "\n",
    "df_raw = pd.read_feather('tmp/bulldozers-raw')\n",
    "df_trn, y_trn, nas = proc_df(df_raw, 'SalePrice')"
   ]
  },
  {
   "cell_type": "code",
   "execution_count": 5,
   "metadata": {},
   "outputs": [],
   "source": [
    "def split_vals(a,n): return a[:n], a[n:]\n",
    "n_valid = 12000\n",
    "n_trn = len(df_trn)-n_valid\n",
    "X_train, X_valid = split_vals(df_trn, n_trn)\n",
    "y_train, y_valid = split_vals(y_trn, n_trn)\n",
    "raw_train, raw_valid = split_vals(df_raw, n_trn)"
   ]
  },
  {
   "cell_type": "code",
   "execution_count": 6,
   "metadata": {},
   "outputs": [],
   "source": [
    "x_sub = X_train[['YearMade', 'MachineHoursCurrentMeter']]"
   ]
  },
  {
   "cell_type": "code",
   "execution_count": 7,
   "metadata": {},
   "outputs": [
    {
     "data": {
      "text/html": [
       "<div>\n",
       "<style scoped>\n",
       "    .dataframe tbody tr th:only-of-type {\n",
       "        vertical-align: middle;\n",
       "    }\n",
       "\n",
       "    .dataframe tbody tr th {\n",
       "        vertical-align: top;\n",
       "    }\n",
       "\n",
       "    .dataframe thead th {\n",
       "        text-align: right;\n",
       "    }\n",
       "</style>\n",
       "<table border=\"1\" class=\"dataframe\">\n",
       "  <thead>\n",
       "    <tr style=\"text-align: right;\">\n",
       "      <th></th>\n",
       "      <th>YearMade</th>\n",
       "      <th>MachineHoursCurrentMeter</th>\n",
       "    </tr>\n",
       "  </thead>\n",
       "  <tbody>\n",
       "    <tr>\n",
       "      <th>0</th>\n",
       "      <td>2004</td>\n",
       "      <td>68.0</td>\n",
       "    </tr>\n",
       "    <tr>\n",
       "      <th>1</th>\n",
       "      <td>1996</td>\n",
       "      <td>4640.0</td>\n",
       "    </tr>\n",
       "    <tr>\n",
       "      <th>2</th>\n",
       "      <td>2001</td>\n",
       "      <td>2838.0</td>\n",
       "    </tr>\n",
       "    <tr>\n",
       "      <th>3</th>\n",
       "      <td>2001</td>\n",
       "      <td>3486.0</td>\n",
       "    </tr>\n",
       "    <tr>\n",
       "      <th>4</th>\n",
       "      <td>2007</td>\n",
       "      <td>722.0</td>\n",
       "    </tr>\n",
       "  </tbody>\n",
       "</table>\n",
       "</div>"
      ],
      "text/plain": [
       "   YearMade  MachineHoursCurrentMeter\n",
       "0      2004                      68.0\n",
       "1      1996                    4640.0\n",
       "2      2001                    2838.0\n",
       "3      2001                    3486.0\n",
       "4      2007                     722.0"
      ]
     },
     "execution_count": 7,
     "metadata": {},
     "output_type": "execute_result"
    }
   ],
   "source": [
    "x_sub.head()"
   ]
  },
  {
   "cell_type": "markdown",
   "metadata": {},
   "source": [
    "## Basic data structures"
   ]
  },
  {
   "cell_type": "markdown",
   "metadata": {},
   "source": [
    "Trying out class enviroment"
   ]
  },
  {
   "cell_type": "code",
   "execution_count": 8,
   "metadata": {},
   "outputs": [],
   "source": [
    "class house():\n",
    "    \"This is a class containing variables about the house\"\n",
    "    age = 10\n",
    "    size = 200\n",
    "    \n",
    "    def vardisp(self):\n",
    "        print('age is',self.age,'with size',self.size)\n",
    "        \n",
    "        \n",
    "    "
   ]
  },
  {
   "cell_type": "code",
   "execution_count": 9,
   "metadata": {},
   "outputs": [],
   "source": [
    "class ComplexNumber():\n",
    "    def __init__(self,r=0,i=0):\n",
    "        self.real = r\n",
    "        self.imag  = i\n",
    "        \n",
    "    def get_data(self):\n",
    "        print(f'{self.real}+{self.imag}i')"
   ]
  },
  {
   "cell_type": "code",
   "execution_count": 10,
   "metadata": {},
   "outputs": [],
   "source": [
    "num = ComplexNumber(r=1, i=4)"
   ]
  },
  {
   "cell_type": "code",
   "execution_count": 11,
   "metadata": {},
   "outputs": [
    {
     "name": "stdout",
     "output_type": "stream",
     "text": [
      "1+4i\n"
     ]
    }
   ],
   "source": [
    "num.get_data()\n"
   ]
  },
  {
   "cell_type": "markdown",
   "metadata": {},
   "source": [
    "#### Creating the forest"
   ]
  },
  {
   "cell_type": "code",
   "execution_count": 12,
   "metadata": {},
   "outputs": [],
   "source": [
    "class TreeEnsemble():\n",
    "    def __init__(self, x, y, n_trees, sample_sz, min_leaf=5):\n",
    "        np.random.seed(42)\n",
    "        self.x,self.y,self.sample_sz,self.min_leaf = x,y,sample_sz,min_leaf\n",
    "        self.trees = [self.create_tree() for i in range(n_trees)]\n",
    "        \n",
    "    def create_tree(self):\n",
    "        idxs = np.random.permutation(len(self.y))[:self.sample_sz]\n",
    "        return DecisionTree(self.x.iloc[idxs],self.y[idxs], \n",
    "                            idxs = np.array(range(self.sample_sz)),min_leaf=self.min_leaf)\n",
    "        \n",
    "    def predict(self, x):\n",
    "        return np.mean([t.predict(x) for t in self.trees], axis = 0)"
   ]
  },
  {
   "cell_type": "markdown",
   "metadata": {},
   "source": [
    "#### Creating each tree in the forest"
   ]
  },
  {
   "cell_type": "markdown",
   "metadata": {},
   "source": [
    "Testing"
   ]
  },
  {
   "cell_type": "code",
   "execution_count": 13,
   "metadata": {},
   "outputs": [],
   "source": [
    "class DecisionTree():\n",
    "    def __init__(self,x,y,idxs,min_leaf=5):\n",
    "        self.x, self.y, self.idxs, self.min_leaf = x,y,idxs,min_leaf"
   ]
  },
  {
   "cell_type": "markdown",
   "metadata": {},
   "source": [
    "See how our class is going to be called"
   ]
  },
  {
   "cell_type": "code",
   "execution_count": 14,
   "metadata": {},
   "outputs": [],
   "source": [
    "m = TreeEnsemble(x=X_train, y=y_train, n_trees=10, sample_sz=100, min_leaf=3)"
   ]
  },
  {
   "cell_type": "markdown",
   "metadata": {},
   "source": [
    "call object inside TreeEnsemble"
   ]
  },
  {
   "cell_type": "code",
   "execution_count": 15,
   "metadata": {},
   "outputs": [
    {
     "data": {
      "text/plain": [
       "array([ 0,  1,  2,  3,  4,  5,  6,  7,  8,  9, 10, 11, 12, 13, 14, 15, 16, 17, 18, 19, 20, 21, 22, 23, 24,\n",
       "       25, 26, 27, 28, 29, 30, 31, 32, 33, 34, 35, 36, 37, 38, 39, 40, 41, 42, 43, 44, 45, 46, 47, 48, 49,\n",
       "       50, 51, 52, 53, 54, 55, 56, 57, 58, 59, 60, 61, 62, 63, 64, 65, 66, 67, 68, 69, 70, 71, 72, 73, 74,\n",
       "       75, 76, 77, 78, 79, 80, 81, 82, 83, 84, 85, 86, 87, 88, 89, 90, 91, 92, 93, 94, 95, 96, 97, 98, 99])"
      ]
     },
     "execution_count": 15,
     "metadata": {},
     "output_type": "execute_result"
    }
   ],
   "source": [
    "m.create_tree().idxs"
   ]
  },
  {
   "cell_type": "markdown",
   "metadata": {},
   "source": [
    "## Starting over Create Forrest"
   ]
  },
  {
   "cell_type": "markdown",
   "metadata": {},
   "source": [
    "Notices that idxs have been changed by jeremy to rnd_idxs. As it is specific for a random subset of our traning data.  "
   ]
  },
  {
   "cell_type": "code",
   "execution_count": 16,
   "metadata": {},
   "outputs": [],
   "source": [
    "class TreeEnsemble():\n",
    "    def __init__(self, x, y, n_trees, sample_sz, min_leaf=5):\n",
    "        np.random.seed(42)\n",
    "        self.x,self.y,self.sample_sz,self.min_leaf = x,y,sample_sz,min_leaf\n",
    "        self.trees = [self.create_tree() for i in range(n_trees)]\n",
    "\n",
    "    def create_tree(self):\n",
    "        rnd_idxs = np.random.permutation(len(self.y))[:self.sample_sz]\n",
    "        return DecisionTree(self.x.iloc[rnd_idxs], self.y[rnd_idxs], min_leaf=self.min_leaf)\n",
    "        \n",
    "    def predict(self, x):\n",
    "        return np.mean([t.predict(x) for t in self.trees], axis=0)"
   ]
  },
  {
   "cell_type": "markdown",
   "metadata": {},
   "source": [
    "#### Creating each tree"
   ]
  },
  {
   "cell_type": "markdown",
   "metadata": {},
   "source": [
    "A tree consists of a sequence of binary decisions.\n",
    "\n",
    "When building a random forest from scratch.\n",
    "\n",
    "We want to pick a feature and it's threshold to select the best single binary spilt we can make.\n",
    "The best single binary spilt we can make is determine by the weighted average of the mean squared errors over the new nodes(Ture/False).\n",
    "Conclusion: We simply try every feature and every threshold of that feature to see which feature and which value that will give us the spilt with the best possiable weighted average of the nodes.\n",
    "\n",
    "Regrading the tree in script randomforestregression_blue_book_\n",
    "\n",
    "The first line indicates the binary split criteria\n",
    "sample at the root is 20,000 since that is what we specified when splitting the data.\n",
    "\n",
    "value is aveage of the log of price, and if we built a model where we just used the average all the time, then the mean squared error mse would be 0.445\n",
    "The best single binary split we can make turns out to be Coupler_system ≤ 0.5 which will improve mse to 0.115 in false path and 0.397 in true path\n",
    "Darker color indicates higher value"
   ]
  },
  {
   "cell_type": "markdown",
   "metadata": {},
   "source": [
    "We will Create a new class called desicionTree. It will take as input x, y, min_leaf and a array called idxs.\n",
    "\n",
    "idxs is needed to keep track of which of the row indies that goes into the left-hand-side and the rigth-hand-side as we split our tree into subtrees. We will set Idxs to none in the function and if not given elsewise we will idxs=np.arange(len(y))"
   ]
  },
  {
   "cell_type": "code",
   "execution_count": 17,
   "metadata": {},
   "outputs": [],
   "source": [
    "class DecisionTree():\n",
    "    def __init__(self, x, y, idxs=None, min_leaf=5):\n",
    "        if idxs is None: idxs=np.arange(len(y))\n",
    "        self.x,self.y,self.idxs,self.min_leaf = x,y,idxs,min_leaf\n",
    "        self.n,self.c = len(idxs), x.shape[1]\n",
    "        self.val = np.mean(y[idxs])\n",
    "        self.score = float('inf')\n",
    "        self.find_varsplit()\n",
    "        \n",
    "    # This just does one decision; we'll make it recursive later\n",
    "    def find_varsplit(self):\n",
    "        for i in range(self.c): self.find_better_split(i) #calls function find_better_split(var_idx)\n",
    "            \n",
    "            \n",
    "    # We'll write this later!\n",
    "    def find_better_split(self, var_idx): pass  \n",
    "    \n",
    "    @property\n",
    "    def split_name(self): return self.x.columns[self.var_idx]\n",
    "    \n",
    "    @property\n",
    "    def split_col(self): return self.x.values[self.idxs,self.var_idx]\n",
    "    \n",
    "    # A property is something that looks like a regular variable but \n",
    "    # it’s actually calculated on the fly. What this says is basically \n",
    "    # you don’t have to include the parentheses when you call it.\n",
    "    @property\n",
    "    def is_leaf(self): return self.score == float('inf')\n",
    "    \n",
    "    # To get a representation of this object. A printout of how many rows \n",
    "    # are in this node and what’s the average of the dependent variable.\n",
    "    def __repr__(self):\n",
    "        s = f'n: {self.n}; val:{self.val}'\n",
    "    \n",
    "        if not self.is_leaf:\n",
    "            s += f'; score:{self.score}; split:{self.split}; var:{self.split_name}'\n",
    "        return s\n",
    "    \n",
    "        # when I call is_leaf, it actually calls \"def is_leaf(self)\"\" function above.\n",
    "        # So it is going to say is this a leaf or not. So a leaf is something \n",
    "        # that we don’t split on. If we haven’t split on it, then its score is \n",
    "        # still set to infinity, so that’s my logic.\n",
    "        \n",
    "        # Why is it leaf if score is infinity?\n",
    "        # -> the root will have a split assuming we find one. Everything will have a\n",
    "        # split till we get all the way to the bottom(i.e. the leaf) so the leaves will \n",
    "        # have a score of infinity because they won’t split."
   ]
  },
  {
   "cell_type": "code",
   "execution_count": 18,
   "metadata": {},
   "outputs": [],
   "source": [
    "m = TreeEnsemble(X_train, y_train, n_trees=10, sample_sz=1000, min_leaf=3)"
   ]
  },
  {
   "cell_type": "code",
   "execution_count": 19,
   "metadata": {},
   "outputs": [
    {
     "data": {
      "text/plain": [
       "n: 1000; val:10.079014121552744"
      ]
     },
     "execution_count": 19,
     "metadata": {},
     "output_type": "execute_result"
    }
   ],
   "source": [
    "m.trees[0]"
   ]
  },
  {
   "cell_type": "code",
   "execution_count": 20,
   "metadata": {},
   "outputs": [
    {
     "data": {
      "text/html": [
       "<div>\n",
       "<style scoped>\n",
       "    .dataframe tbody tr th:only-of-type {\n",
       "        vertical-align: middle;\n",
       "    }\n",
       "\n",
       "    .dataframe tbody tr th {\n",
       "        vertical-align: top;\n",
       "    }\n",
       "\n",
       "    .dataframe thead th {\n",
       "        text-align: right;\n",
       "    }\n",
       "</style>\n",
       "<table border=\"1\" class=\"dataframe\">\n",
       "  <thead>\n",
       "    <tr style=\"text-align: right;\">\n",
       "      <th></th>\n",
       "      <th>SalesID</th>\n",
       "      <th>MachineID</th>\n",
       "      <th>ModelID</th>\n",
       "      <th>datasource</th>\n",
       "      <th>auctioneerID</th>\n",
       "      <th>YearMade</th>\n",
       "      <th>MachineHoursCurrentMeter</th>\n",
       "      <th>UsageBand</th>\n",
       "      <th>fiModelDesc</th>\n",
       "      <th>fiBaseModel</th>\n",
       "      <th>...</th>\n",
       "      <th>saleDayofyear</th>\n",
       "      <th>saleIs_month_end</th>\n",
       "      <th>saleIs_month_start</th>\n",
       "      <th>saleIs_quarter_end</th>\n",
       "      <th>saleIs_quarter_start</th>\n",
       "      <th>saleIs_year_end</th>\n",
       "      <th>saleIs_year_start</th>\n",
       "      <th>saleElapsed</th>\n",
       "      <th>auctioneerID_na</th>\n",
       "      <th>MachineHoursCurrentMeter_na</th>\n",
       "    </tr>\n",
       "  </thead>\n",
       "  <tbody>\n",
       "    <tr>\n",
       "      <th>153832</th>\n",
       "      <td>1534912</td>\n",
       "      <td>1246843</td>\n",
       "      <td>7043</td>\n",
       "      <td>132</td>\n",
       "      <td>99.0</td>\n",
       "      <td>2001</td>\n",
       "      <td>0.0</td>\n",
       "      <td>0</td>\n",
       "      <td>455</td>\n",
       "      <td>168</td>\n",
       "      <td>...</td>\n",
       "      <td>300</td>\n",
       "      <td>False</td>\n",
       "      <td>False</td>\n",
       "      <td>False</td>\n",
       "      <td>False</td>\n",
       "      <td>False</td>\n",
       "      <td>False</td>\n",
       "      <td>1288137600</td>\n",
       "      <td>False</td>\n",
       "      <td>True</td>\n",
       "    </tr>\n",
       "    <tr>\n",
       "      <th>199920</th>\n",
       "      <td>1638573</td>\n",
       "      <td>1461409</td>\n",
       "      <td>4605</td>\n",
       "      <td>132</td>\n",
       "      <td>2.0</td>\n",
       "      <td>2001</td>\n",
       "      <td>0.0</td>\n",
       "      <td>0</td>\n",
       "      <td>493</td>\n",
       "      <td>175</td>\n",
       "      <td>...</td>\n",
       "      <td>90</td>\n",
       "      <td>True</td>\n",
       "      <td>False</td>\n",
       "      <td>True</td>\n",
       "      <td>False</td>\n",
       "      <td>False</td>\n",
       "      <td>False</td>\n",
       "      <td>1112227200</td>\n",
       "      <td>False</td>\n",
       "      <td>True</td>\n",
       "    </tr>\n",
       "    <tr>\n",
       "      <th>355950</th>\n",
       "      <td>2432635</td>\n",
       "      <td>1689914</td>\n",
       "      <td>17310</td>\n",
       "      <td>136</td>\n",
       "      <td>2.0</td>\n",
       "      <td>2004</td>\n",
       "      <td>109200.0</td>\n",
       "      <td>1</td>\n",
       "      <td>4207</td>\n",
       "      <td>1528</td>\n",
       "      <td>...</td>\n",
       "      <td>83</td>\n",
       "      <td>False</td>\n",
       "      <td>False</td>\n",
       "      <td>False</td>\n",
       "      <td>False</td>\n",
       "      <td>False</td>\n",
       "      <td>False</td>\n",
       "      <td>1237852800</td>\n",
       "      <td>True</td>\n",
       "      <td>False</td>\n",
       "    </tr>\n",
       "    <tr>\n",
       "      <th>147921</th>\n",
       "      <td>1520258</td>\n",
       "      <td>732749</td>\n",
       "      <td>2758</td>\n",
       "      <td>132</td>\n",
       "      <td>5.0</td>\n",
       "      <td>1997</td>\n",
       "      <td>0.0</td>\n",
       "      <td>0</td>\n",
       "      <td>2190</td>\n",
       "      <td>696</td>\n",
       "      <td>...</td>\n",
       "      <td>288</td>\n",
       "      <td>False</td>\n",
       "      <td>False</td>\n",
       "      <td>False</td>\n",
       "      <td>False</td>\n",
       "      <td>False</td>\n",
       "      <td>False</td>\n",
       "      <td>1129334400</td>\n",
       "      <td>False</td>\n",
       "      <td>True</td>\n",
       "    </tr>\n",
       "    <tr>\n",
       "      <th>275302</th>\n",
       "      <td>1825370</td>\n",
       "      <td>1174231</td>\n",
       "      <td>10362</td>\n",
       "      <td>132</td>\n",
       "      <td>1.0</td>\n",
       "      <td>1994</td>\n",
       "      <td>0.0</td>\n",
       "      <td>0</td>\n",
       "      <td>4389</td>\n",
       "      <td>1623</td>\n",
       "      <td>...</td>\n",
       "      <td>259</td>\n",
       "      <td>False</td>\n",
       "      <td>False</td>\n",
       "      <td>False</td>\n",
       "      <td>False</td>\n",
       "      <td>False</td>\n",
       "      <td>False</td>\n",
       "      <td>937440000</td>\n",
       "      <td>False</td>\n",
       "      <td>True</td>\n",
       "    </tr>\n",
       "    <tr>\n",
       "      <th>...</th>\n",
       "      <td>...</td>\n",
       "      <td>...</td>\n",
       "      <td>...</td>\n",
       "      <td>...</td>\n",
       "      <td>...</td>\n",
       "      <td>...</td>\n",
       "      <td>...</td>\n",
       "      <td>...</td>\n",
       "      <td>...</td>\n",
       "      <td>...</td>\n",
       "      <td>...</td>\n",
       "      <td>...</td>\n",
       "      <td>...</td>\n",
       "      <td>...</td>\n",
       "      <td>...</td>\n",
       "      <td>...</td>\n",
       "      <td>...</td>\n",
       "      <td>...</td>\n",
       "      <td>...</td>\n",
       "      <td>...</td>\n",
       "      <td>...</td>\n",
       "    </tr>\n",
       "    <tr>\n",
       "      <th>80281</th>\n",
       "      <td>1376243</td>\n",
       "      <td>578184</td>\n",
       "      <td>107</td>\n",
       "      <td>132</td>\n",
       "      <td>21.0</td>\n",
       "      <td>1993</td>\n",
       "      <td>0.0</td>\n",
       "      <td>0</td>\n",
       "      <td>2098</td>\n",
       "      <td>681</td>\n",
       "      <td>...</td>\n",
       "      <td>345</td>\n",
       "      <td>False</td>\n",
       "      <td>False</td>\n",
       "      <td>False</td>\n",
       "      <td>False</td>\n",
       "      <td>False</td>\n",
       "      <td>False</td>\n",
       "      <td>944870400</td>\n",
       "      <td>False</td>\n",
       "      <td>True</td>\n",
       "    </tr>\n",
       "    <tr>\n",
       "      <th>385678</th>\n",
       "      <td>4319295</td>\n",
       "      <td>2283592</td>\n",
       "      <td>4579</td>\n",
       "      <td>172</td>\n",
       "      <td>1.0</td>\n",
       "      <td>2005</td>\n",
       "      <td>0.0</td>\n",
       "      <td>0</td>\n",
       "      <td>253</td>\n",
       "      <td>93</td>\n",
       "      <td>...</td>\n",
       "      <td>167</td>\n",
       "      <td>False</td>\n",
       "      <td>False</td>\n",
       "      <td>False</td>\n",
       "      <td>False</td>\n",
       "      <td>False</td>\n",
       "      <td>False</td>\n",
       "      <td>1308182400</td>\n",
       "      <td>False</td>\n",
       "      <td>False</td>\n",
       "    </tr>\n",
       "    <tr>\n",
       "      <th>283150</th>\n",
       "      <td>1894502</td>\n",
       "      <td>1554766</td>\n",
       "      <td>12594</td>\n",
       "      <td>132</td>\n",
       "      <td>2.0</td>\n",
       "      <td>1000</td>\n",
       "      <td>0.0</td>\n",
       "      <td>0</td>\n",
       "      <td>4918</td>\n",
       "      <td>1913</td>\n",
       "      <td>...</td>\n",
       "      <td>310</td>\n",
       "      <td>False</td>\n",
       "      <td>False</td>\n",
       "      <td>False</td>\n",
       "      <td>False</td>\n",
       "      <td>False</td>\n",
       "      <td>False</td>\n",
       "      <td>878774400</td>\n",
       "      <td>False</td>\n",
       "      <td>True</td>\n",
       "    </tr>\n",
       "    <tr>\n",
       "      <th>277559</th>\n",
       "      <td>1839919</td>\n",
       "      <td>1412164</td>\n",
       "      <td>36359</td>\n",
       "      <td>132</td>\n",
       "      <td>99.0</td>\n",
       "      <td>1000</td>\n",
       "      <td>0.0</td>\n",
       "      <td>0</td>\n",
       "      <td>1498</td>\n",
       "      <td>450</td>\n",
       "      <td>...</td>\n",
       "      <td>75</td>\n",
       "      <td>False</td>\n",
       "      <td>False</td>\n",
       "      <td>False</td>\n",
       "      <td>False</td>\n",
       "      <td>False</td>\n",
       "      <td>False</td>\n",
       "      <td>795312000</td>\n",
       "      <td>False</td>\n",
       "      <td>True</td>\n",
       "    </tr>\n",
       "    <tr>\n",
       "      <th>116090</th>\n",
       "      <td>1453309</td>\n",
       "      <td>1431679</td>\n",
       "      <td>3854</td>\n",
       "      <td>132</td>\n",
       "      <td>99.0</td>\n",
       "      <td>1978</td>\n",
       "      <td>0.0</td>\n",
       "      <td>0</td>\n",
       "      <td>1747</td>\n",
       "      <td>533</td>\n",
       "      <td>...</td>\n",
       "      <td>272</td>\n",
       "      <td>False</td>\n",
       "      <td>False</td>\n",
       "      <td>False</td>\n",
       "      <td>False</td>\n",
       "      <td>False</td>\n",
       "      <td>False</td>\n",
       "      <td>1191024000</td>\n",
       "      <td>False</td>\n",
       "      <td>True</td>\n",
       "    </tr>\n",
       "  </tbody>\n",
       "</table>\n",
       "<p>1000 rows × 66 columns</p>\n",
       "</div>"
      ],
      "text/plain": [
       "        SalesID  MachineID  ModelID  datasource  auctioneerID  YearMade  \\\n",
       "153832  1534912    1246843     7043         132          99.0      2001   \n",
       "199920  1638573    1461409     4605         132           2.0      2001   \n",
       "355950  2432635    1689914    17310         136           2.0      2004   \n",
       "147921  1520258     732749     2758         132           5.0      1997   \n",
       "275302  1825370    1174231    10362         132           1.0      1994   \n",
       "...         ...        ...      ...         ...           ...       ...   \n",
       "80281   1376243     578184      107         132          21.0      1993   \n",
       "385678  4319295    2283592     4579         172           1.0      2005   \n",
       "283150  1894502    1554766    12594         132           2.0      1000   \n",
       "277559  1839919    1412164    36359         132          99.0      1000   \n",
       "116090  1453309    1431679     3854         132          99.0      1978   \n",
       "\n",
       "        MachineHoursCurrentMeter  UsageBand  fiModelDesc  fiBaseModel  ...  \\\n",
       "153832                       0.0          0          455          168  ...   \n",
       "199920                       0.0          0          493          175  ...   \n",
       "355950                  109200.0          1         4207         1528  ...   \n",
       "147921                       0.0          0         2190          696  ...   \n",
       "275302                       0.0          0         4389         1623  ...   \n",
       "...                          ...        ...          ...          ...  ...   \n",
       "80281                        0.0          0         2098          681  ...   \n",
       "385678                       0.0          0          253           93  ...   \n",
       "283150                       0.0          0         4918         1913  ...   \n",
       "277559                       0.0          0         1498          450  ...   \n",
       "116090                       0.0          0         1747          533  ...   \n",
       "\n",
       "        saleDayofyear  saleIs_month_end  saleIs_month_start  \\\n",
       "153832            300             False               False   \n",
       "199920             90              True               False   \n",
       "355950             83             False               False   \n",
       "147921            288             False               False   \n",
       "275302            259             False               False   \n",
       "...               ...               ...                 ...   \n",
       "80281             345             False               False   \n",
       "385678            167             False               False   \n",
       "283150            310             False               False   \n",
       "277559             75             False               False   \n",
       "116090            272             False               False   \n",
       "\n",
       "        saleIs_quarter_end  saleIs_quarter_start  saleIs_year_end  \\\n",
       "153832               False                 False            False   \n",
       "199920                True                 False            False   \n",
       "355950               False                 False            False   \n",
       "147921               False                 False            False   \n",
       "275302               False                 False            False   \n",
       "...                    ...                   ...              ...   \n",
       "80281                False                 False            False   \n",
       "385678               False                 False            False   \n",
       "283150               False                 False            False   \n",
       "277559               False                 False            False   \n",
       "116090               False                 False            False   \n",
       "\n",
       "        saleIs_year_start  saleElapsed  auctioneerID_na  \\\n",
       "153832              False   1288137600            False   \n",
       "199920              False   1112227200            False   \n",
       "355950              False   1237852800             True   \n",
       "147921              False   1129334400            False   \n",
       "275302              False    937440000            False   \n",
       "...                   ...          ...              ...   \n",
       "80281               False    944870400            False   \n",
       "385678              False   1308182400            False   \n",
       "283150              False    878774400            False   \n",
       "277559              False    795312000            False   \n",
       "116090              False   1191024000            False   \n",
       "\n",
       "        MachineHoursCurrentMeter_na  \n",
       "153832                         True  \n",
       "199920                         True  \n",
       "355950                        False  \n",
       "147921                         True  \n",
       "275302                         True  \n",
       "...                             ...  \n",
       "80281                          True  \n",
       "385678                        False  \n",
       "283150                         True  \n",
       "277559                         True  \n",
       "116090                         True  \n",
       "\n",
       "[1000 rows x 66 columns]"
      ]
     },
     "execution_count": 20,
     "metadata": {},
     "output_type": "execute_result"
    }
   ],
   "source": [
    "m.trees[0].x"
   ]
  },
  {
   "cell_type": "markdown",
   "metadata": {},
   "source": [
    "## Single branch"
   ]
  },
  {
   "cell_type": "markdown",
   "metadata": {},
   "source": [
    "### Find best split given variable"
   ]
  },
  {
   "cell_type": "markdown",
   "metadata": {},
   "source": [
    "So let’s start by making sure we’ve got something to compare to. "
   ]
  },
  {
   "cell_type": "code",
   "execution_count": 21,
   "metadata": {},
   "outputs": [
    {
     "data": {
      "text/plain": [
       "Index(['YearMade', 'MachineHoursCurrentMeter'], dtype='object')"
      ]
     },
     "execution_count": 21,
     "metadata": {},
     "output_type": "execute_result"
    }
   ],
   "source": [
    "ens = TreeEnsemble(x_sub, y_train, 1, 1000)\n",
    "tree = ens.trees[0]\n",
    "x_samp,y_samp = tree.x, tree.y\n",
    "x_samp.columns"
   ]
  },
  {
   "cell_type": "code",
   "execution_count": 22,
   "metadata": {},
   "outputs": [
    {
     "data": {
      "text/plain": [
       "n: 1000; val:10.079014121552744"
      ]
     },
     "execution_count": 22,
     "metadata": {},
     "output_type": "execute_result"
    }
   ],
   "source": [
    "tree"
   ]
  },
  {
   "cell_type": "markdown",
   "metadata": {},
   "source": [
    "So the thing we are going to compare to will be scikit-learn’s random forest. We need to make sure that scikit-learn’s random forest gets exactly the same data that we have, so we start out by creating ensemble, grab a tree out of it, and then find out which particular random sample of x and y did this tree use and we are going to store them away so that we can pass them to scikit-learn (so we have exactly the same information).\n",
    "\n",
    "So let’s go ahead and now create a random forest using scikit-learn. One tree (n_estimators), one decision (max_depth), no bootstrapping so the whole dataset. \n"
   ]
  },
  {
   "cell_type": "code",
   "execution_count": 23,
   "metadata": {},
   "outputs": [
    {
     "data": {
      "image/svg+xml": [
       "<?xml version=\"1.0\" encoding=\"UTF-8\" standalone=\"no\"?>\n",
       "<!DOCTYPE svg PUBLIC \"-//W3C//DTD SVG 1.1//EN\"\n",
       " \"http://www.w3.org/Graphics/SVG/1.1/DTD/svg11.dtd\">\n",
       "<!-- Generated by graphviz version 2.42.3 (20191010.1750)\n",
       " -->\n",
       "<!-- Title: Tree Pages: 1 -->\n",
       "<svg width=\"302pt\" height=\"184pt\"\n",
       " viewBox=\"0.00 0.00 302.00 184.40\" xmlns=\"http://www.w3.org/2000/svg\" xmlns:xlink=\"http://www.w3.org/1999/xlink\">\n",
       "<g id=\"graph0\" class=\"graph\" transform=\"scale(1 1) rotate(0) translate(4 180.4)\">\n",
       "<title>Tree</title>\n",
       "<polygon fill=\"white\" stroke=\"transparent\" points=\"-4,4 -4,-180.4 298,-180.4 298,4 -4,4\"/>\n",
       "<!-- 0 -->\n",
       "<g id=\"node1\" class=\"node\">\n",
       "<title>0</title>\n",
       "<polygon fill=\"#e99558\" stroke=\"black\" points=\"144,-121.7 0,-121.7 0,-53.7 144,-53.7 144,-121.7\"/>\n",
       "<text text-anchor=\"start\" x=\"8\" y=\"-106.5\" font-family=\"Times,serif\" font-size=\"14.00\">YearMade ≤ 1974.5</text>\n",
       "<text text-anchor=\"start\" x=\"34\" y=\"-91.5\" font-family=\"Times,serif\" font-size=\"14.00\">mse = 0.47</text>\n",
       "<text text-anchor=\"start\" x=\"19\" y=\"-76.5\" font-family=\"Times,serif\" font-size=\"14.00\">samples = 1000</text>\n",
       "<text text-anchor=\"start\" x=\"23\" y=\"-61.5\" font-family=\"Times,serif\" font-size=\"14.00\">value = 10.08</text>\n",
       "</g>\n",
       "<!-- 1 -->\n",
       "<g id=\"node2\" class=\"node\">\n",
       "<title>1</title>\n",
       "<polygon fill=\"#ffffff\" stroke=\"black\" points=\"294,-165.2 180,-165.2 180,-112.2 294,-112.2 294,-165.2\"/>\n",
       "<text text-anchor=\"start\" x=\"199\" y=\"-150\" font-family=\"Times,serif\" font-size=\"14.00\">mse = 0.26</text>\n",
       "<text text-anchor=\"start\" x=\"188\" y=\"-135\" font-family=\"Times,serif\" font-size=\"14.00\">samples = 159</text>\n",
       "<text text-anchor=\"start\" x=\"191.5\" y=\"-120\" font-family=\"Times,serif\" font-size=\"14.00\">value = 9.66</text>\n",
       "</g>\n",
       "<!-- 0&#45;&gt;1 -->\n",
       "<g id=\"edge1\" class=\"edge\">\n",
       "<title>0&#45;&gt;1</title>\n",
       "<path fill=\"none\" stroke=\"black\" d=\"M144.02,-109.92C152.75,-112.65 161.64,-115.43 170.28,-118.14\"/>\n",
       "<polygon fill=\"black\" stroke=\"black\" points=\"169.32,-121.5 179.91,-121.15 171.41,-114.82 169.32,-121.5\"/>\n",
       "<text text-anchor=\"middle\" x=\"157.76\" y=\"-129.04\" font-family=\"Times,serif\" font-size=\"14.00\">True</text>\n",
       "</g>\n",
       "<!-- 2 -->\n",
       "<g id=\"node3\" class=\"node\">\n",
       "<title>2</title>\n",
       "<polygon fill=\"#e58139\" stroke=\"black\" points=\"294,-64.2 180,-64.2 180,-11.2 294,-11.2 294,-64.2\"/>\n",
       "<text text-anchor=\"start\" x=\"199\" y=\"-49\" font-family=\"Times,serif\" font-size=\"14.00\">mse = 0.47</text>\n",
       "<text text-anchor=\"start\" x=\"188\" y=\"-34\" font-family=\"Times,serif\" font-size=\"14.00\">samples = 841</text>\n",
       "<text text-anchor=\"start\" x=\"188\" y=\"-19\" font-family=\"Times,serif\" font-size=\"14.00\">value = 10.16</text>\n",
       "</g>\n",
       "<!-- 0&#45;&gt;2 -->\n",
       "<g id=\"edge2\" class=\"edge\">\n",
       "<title>0&#45;&gt;2</title>\n",
       "<path fill=\"none\" stroke=\"black\" d=\"M144.02,-65.91C152.75,-63.24 161.64,-60.51 170.28,-57.86\"/>\n",
       "<polygon fill=\"black\" stroke=\"black\" points=\"171.38,-61.18 179.91,-54.9 169.33,-54.49 171.38,-61.18\"/>\n",
       "<text text-anchor=\"middle\" x=\"157.83\" y=\"-39.49\" font-family=\"Times,serif\" font-size=\"14.00\">False</text>\n",
       "</g>\n",
       "</g>\n",
       "</svg>\n"
      ],
      "text/plain": [
       "<graphviz.files.Source at 0x7f9aed22c2e8>"
      ]
     },
     "metadata": {},
     "output_type": "display_data"
    }
   ],
   "source": [
    "m = RandomForestRegressor(n_estimators=1, max_depth=1, bootstrap=False)\n",
    "m.fit(x_samp, y_samp)\n",
    "draw_tree(m.estimators_[0], x_samp, precision=2)"
   ]
  },
  {
   "cell_type": "markdown",
   "metadata": {},
   "source": [
    "Now we will define find_better_split.\n",
    "\n",
    "\n",
    "So let’s now go through every single value in our independent variable. And I’ll show you what’s going to happen [35:22]. Let’s say our independent variable is YearMade and it’s not going to be in an order. So we are going to go to the very first row and we are going to say okay, YearMade here is 3. So what I’m going to do is I’m going to try and calculate the score if we decided to branch on the number 3. So I need to know which rows are greater than 3, which rows are less than or equal to 3 and they are going to become my left-hand side and my right hand side. Then we need a score. There’s lots of scores we could use so in random forests, we call this the information gain. The information gain is like how much better does our score get because we split it into these two groups of data. There’s lots of ways we could calculate it: Gini, cross-entropy, root mean squared error, etc. If you think about it, there is an alternative formulation of root mean squared error which is mathematically the same to within a constraint scale but a little bit easier to deal with which is we are going to try and find a split which causes the two groups to each have as lower standard deviation as possible. So I want to find a split that puts all the cats over here and all the dogs over there. So if these are all cats and those are all dogs, then this has a standard deviation of zero and that has a standard deviation of zero. Or else this is a totally random mix of cats and dogs, and that is a totally random mix of cats and dogs, they are going to have a much higher standard deviation. Does that make sense? So it turns out if you find a split that minimizes those group standard deviations or specifically the weighted average of the two standard deviations, it’s mathematically the same as minimizing the root mean squared error."
   ]
  },
  {
   "cell_type": "code",
   "execution_count": 24,
   "metadata": {},
   "outputs": [],
   "source": [
    "def find_better_split(self, var_idx):\n",
    "    x,y = self.x.values[self.idxs,var_idx], self.y[self.idxs]\n",
    "    #self.idxs is an array  \n",
    "    \n",
    "    \n",
    "    #Loops through all rows\n",
    "    for i in range(self.n):\n",
    "        # seperating the rows in a rhs and left and side based on the row in question \n",
    "        lhs = x<=x[i] # -> array of false every time it’s not less than or equal to; and true otherwise,\n",
    "        rhs = x>x[i] # -> rhs will be a boolean array of the opposite. \n",
    "        \n",
    "        if rhs.sum()<self.min_leaf or lhs.sum()<self.min_leaf: continue\n",
    "        lhs_std = y[lhs].std()\n",
    "        rhs_std = y[rhs].std()\n",
    "        curr_score = lhs_std*lhs.sum() + rhs_std*rhs.sum() \n",
    "        if curr_score<self.score: # check is this better than our best score so far and store var\n",
    "            self.var_idx,self.score,self.split = var_idx,curr_score,x[i]"
   ]
  },
  {
   "cell_type": "code",
   "execution_count": 25,
   "metadata": {},
   "outputs": [
    {
     "name": "stdout",
     "output_type": "stream",
     "text": [
      "73.4 ms ± 415 µs per loop (mean ± std. dev. of 7 runs, 10 loops each)\n"
     ]
    },
    {
     "data": {
      "text/plain": [
       "n: 1000; val:10.079014121552744; score:681.0184057251435; split:3744.0; var:MachineHoursCurrentMeter"
      ]
     },
     "execution_count": 25,
     "metadata": {},
     "output_type": "execute_result"
    }
   ],
   "source": [
    "%timeit find_better_split(tree,1)\n",
    "tree"
   ]
  },
  {
   "cell_type": "markdown",
   "metadata": {},
   "source": [
    "let’s compare with scikit-learn’s random forest above, and yes, that was what this tree did as well. "
   ]
  },
  {
   "cell_type": "code",
   "execution_count": 26,
   "metadata": {},
   "outputs": [
    {
     "data": {
      "text/plain": [
       "n: 1000; val:10.079014121552744; score:658.5510186055949; split:1974.0; var:YearMade"
      ]
     },
     "execution_count": 26,
     "metadata": {},
     "output_type": "execute_result"
    }
   ],
   "source": [
    "find_better_split(tree,0); tree"
   ]
  },
  {
   "cell_type": "markdown",
   "metadata": {},
   "source": [
    "So tell me what is the computational complexity of this section of the code?"
   ]
  },
  {
   "cell_type": "markdown",
   "metadata": {},
   "source": [
    "calculate computational complexity: \n",
    "\n",
    "The technique is basically “is there a loop?” if so we are obviously doing this n times so there is an n involved. Is there a loop inside the loop? If there is, then you need to multiply those two together. In this case, there is not. Is there anything inside the loop that’s not a constant time operation? So you might see a sort in there and you just need to know that sort is nlog(n) — that should be second nature. If you see a matrix multiply, you need to know what that is. In this case, there are some things that are doing element-wise array operations so keep an eye out for anything where numpy is doing something to every value of an array. In this case is checking every value of x against a constant so it’s going to have to do that n times. So to flesh this out into a computational complexity, you just take the number of things in the loop and you multiply it by the highest computational complexity inside the loop, n times n is n².\n",
    "\n",
    "In this case, couldn’t we just presort the list and then do one nlog(n) computation [45:10]? There’s lots of things we can do to speed this up, so at this stage is just what is the computational complexity we have. But absolutely. It’s certainly not as good as it can be. So that’s where we’re going to go next. Just like alright, n² is not great so let’s try and make it better."
   ]
  },
  {
   "cell_type": "markdown",
   "metadata": {},
   "source": [
    "### Speeding things up "
   ]
  },
  {
   "cell_type": "code",
   "execution_count": 27,
   "metadata": {},
   "outputs": [],
   "source": [
    "tree = TreeEnsemble(x_sub, y_train, 1, 1000).trees[0]"
   ]
  },
  {
   "cell_type": "code",
   "execution_count": 28,
   "metadata": {},
   "outputs": [],
   "source": [
    "def std_agg(cnt, s1, s2): return math.sqrt(((s2/cnt) - (s1/cnt))**2)\n",
    "\n",
    "def find_better_split(self, var_idx):\n",
    "    x,y = self.x.values[self.idxs,var_idx], self.y[self.idxs]\n",
    "    \n",
    "    sort_idx = np.argsort(x)\n",
    "    sort_y,sort_x = y[sort_idx], x[sort_idx]\n",
    "    rhs_cnt,rhs_sum,rhs_sum2 = self.n, sort_y.sum(), (sort_y**2).sum()\n",
    "    lhs_cnt,lhs_sum,lhs_sum2 = 0,0.,0.\n",
    "\n",
    "    for i in range(0,self.n-self.min_leaf):\n",
    "        xi,yi = sort_x[i],sort_y[i]\n",
    "        lhs_cnt += 1; rhs_cnt -= 1\n",
    "        lhs_sum += yi; rhs_sum -= yi\n",
    "        lhs_sum2 += yi**2; rhs_sum2 -= yi**2\n",
    "        if i<self.min_leaf-1 or xi==sort_x[i+1]:\n",
    "            continue\n",
    "            \n",
    "        lhs_std = std_agg(lhs_cnt, lhs_sum, lhs_sum2)\n",
    "        rhs_std = std_agg(rhs_cnt, rhs_sum, rhs_sum2)\n",
    "        curr_score = lhs_std*lhs_cnt + rhs_std*rhs_cnt\n",
    "        if curr_score<self.score: \n",
    "            self.var_idx,self.score,self.split = var_idx,curr_score,xi"
   ]
  },
  {
   "cell_type": "markdown",
   "metadata": {},
   "source": [
    "##### Testing the improved loop as given above "
   ]
  },
  {
   "cell_type": "code",
   "execution_count": 29,
   "metadata": {},
   "outputs": [],
   "source": [
    "x_sub2 = x_samp[0:8]"
   ]
  },
  {
   "cell_type": "code",
   "execution_count": 30,
   "metadata": {},
   "outputs": [],
   "source": [
    "y_sub2 = y_samp[0:8]"
   ]
  },
  {
   "cell_type": "code",
   "execution_count": 31,
   "metadata": {},
   "outputs": [
    {
     "data": {
      "text/html": [
       "<div>\n",
       "<style scoped>\n",
       "    .dataframe tbody tr th:only-of-type {\n",
       "        vertical-align: middle;\n",
       "    }\n",
       "\n",
       "    .dataframe tbody tr th {\n",
       "        vertical-align: top;\n",
       "    }\n",
       "\n",
       "    .dataframe thead th {\n",
       "        text-align: right;\n",
       "    }\n",
       "</style>\n",
       "<table border=\"1\" class=\"dataframe\">\n",
       "  <thead>\n",
       "    <tr style=\"text-align: right;\">\n",
       "      <th></th>\n",
       "      <th>YearMade</th>\n",
       "      <th>MachineHoursCurrentMeter</th>\n",
       "    </tr>\n",
       "  </thead>\n",
       "  <tbody>\n",
       "    <tr>\n",
       "      <th>153832</th>\n",
       "      <td>2001</td>\n",
       "      <td>0.0</td>\n",
       "    </tr>\n",
       "    <tr>\n",
       "      <th>199920</th>\n",
       "      <td>2001</td>\n",
       "      <td>0.0</td>\n",
       "    </tr>\n",
       "    <tr>\n",
       "      <th>355950</th>\n",
       "      <td>2004</td>\n",
       "      <td>109200.0</td>\n",
       "    </tr>\n",
       "    <tr>\n",
       "      <th>147921</th>\n",
       "      <td>1997</td>\n",
       "      <td>0.0</td>\n",
       "    </tr>\n",
       "    <tr>\n",
       "      <th>275302</th>\n",
       "      <td>1994</td>\n",
       "      <td>0.0</td>\n",
       "    </tr>\n",
       "    <tr>\n",
       "      <th>369472</th>\n",
       "      <td>1986</td>\n",
       "      <td>0.0</td>\n",
       "    </tr>\n",
       "    <tr>\n",
       "      <th>339457</th>\n",
       "      <td>1998</td>\n",
       "      <td>0.0</td>\n",
       "    </tr>\n",
       "    <tr>\n",
       "      <th>198346</th>\n",
       "      <td>2000</td>\n",
       "      <td>0.0</td>\n",
       "    </tr>\n",
       "  </tbody>\n",
       "</table>\n",
       "</div>"
      ],
      "text/plain": [
       "        YearMade  MachineHoursCurrentMeter\n",
       "153832      2001                       0.0\n",
       "199920      2001                       0.0\n",
       "355950      2004                  109200.0\n",
       "147921      1997                       0.0\n",
       "275302      1994                       0.0\n",
       "369472      1986                       0.0\n",
       "339457      1998                       0.0\n",
       "198346      2000                       0.0"
      ]
     },
     "execution_count": 31,
     "metadata": {},
     "output_type": "execute_result"
    }
   ],
   "source": [
    "x_sub2 "
   ]
  },
  {
   "cell_type": "code",
   "execution_count": 32,
   "metadata": {},
   "outputs": [
    {
     "data": {
      "text/plain": [
       "array([ 9.15905, 10.5321 ,  8.88876, 10.35774, 10.34174,  9.87817,  9.79813, 10.20359])"
      ]
     },
     "execution_count": 32,
     "metadata": {},
     "output_type": "execute_result"
    }
   ],
   "source": [
    "y_sub2 "
   ]
  },
  {
   "cell_type": "code",
   "execution_count": 33,
   "metadata": {},
   "outputs": [],
   "source": [
    "x,y = x_sub2.values[:,0], y_sub2[:]"
   ]
  },
  {
   "cell_type": "code",
   "execution_count": 34,
   "metadata": {},
   "outputs": [
    {
     "data": {
      "text/plain": [
       "array([2001., 2001., 2004., 1997., 1994., 1986., 1998., 2000.])"
      ]
     },
     "execution_count": 34,
     "metadata": {},
     "output_type": "execute_result"
    }
   ],
   "source": [
    "x"
   ]
  },
  {
   "cell_type": "code",
   "execution_count": 35,
   "metadata": {},
   "outputs": [
    {
     "data": {
      "text/plain": [
       "array([ 9.15905, 10.5321 ,  8.88876, 10.35774, 10.34174,  9.87817,  9.79813, 10.20359])"
      ]
     },
     "execution_count": 35,
     "metadata": {},
     "output_type": "execute_result"
    }
   ],
   "source": [
    "y"
   ]
  },
  {
   "cell_type": "code",
   "execution_count": 36,
   "metadata": {},
   "outputs": [],
   "source": [
    "sort_idx = np.argsort(x)"
   ]
  },
  {
   "cell_type": "code",
   "execution_count": 37,
   "metadata": {},
   "outputs": [],
   "source": [
    "sort_y,sort_x = y[sort_idx], x[sort_idx]"
   ]
  },
  {
   "cell_type": "code",
   "execution_count": 38,
   "metadata": {},
   "outputs": [
    {
     "data": {
      "text/plain": [
       "array([1986., 1994., 1997., 1998., 2000., 2001., 2001., 2004.])"
      ]
     },
     "execution_count": 38,
     "metadata": {},
     "output_type": "execute_result"
    }
   ],
   "source": [
    "sort_x"
   ]
  },
  {
   "cell_type": "code",
   "execution_count": 39,
   "metadata": {},
   "outputs": [
    {
     "data": {
      "text/plain": [
       "array([ 9.87817, 10.34174, 10.35774,  9.79813, 10.20359,  9.15905, 10.5321 ,  8.88876])"
      ]
     },
     "execution_count": 39,
     "metadata": {},
     "output_type": "execute_result"
    }
   ],
   "source": [
    "sort_y"
   ]
  },
  {
   "cell_type": "code",
   "execution_count": 40,
   "metadata": {},
   "outputs": [],
   "source": [
    "rhs_cnt,rhs_sum,rhs_sum2 = len(sort_y), sort_y.sum(), (sort_y**2).sum()"
   ]
  },
  {
   "cell_type": "code",
   "execution_count": 41,
   "metadata": {},
   "outputs": [
    {
     "data": {
      "text/plain": [
       "(8, 79.15927427209347, 785.7524881234083)"
      ]
     },
     "execution_count": 41,
     "metadata": {},
     "output_type": "execute_result"
    }
   ],
   "source": [
    "rhs_cnt,rhs_sum,rhs_sum2"
   ]
  },
  {
   "cell_type": "code",
   "execution_count": 42,
   "metadata": {},
   "outputs": [],
   "source": [
    "lhs_cnt,lhs_sum,lhs_sum2,score = 0,0.,0.,100"
   ]
  },
  {
   "cell_type": "code",
   "execution_count": 43,
   "metadata": {},
   "outputs": [],
   "source": [
    "def std_agg(cnt, s1, s2): return math.sqrt(((s2/cnt) - (s1/cnt))**2)"
   ]
  },
  {
   "cell_type": "code",
   "execution_count": 44,
   "metadata": {},
   "outputs": [
    {
     "name": "stdout",
     "output_type": "stream",
     "text": [
      "xi =  1986.0 yi =  9.878169744551839\n",
      "----\n",
      "lhs_cnt = 1 rhs_cnt =  7\n",
      "----\n",
      "lhs_sum = 9.878169744551839 rhs_sum= 69.28110452754163\n",
      "----\n",
      "current score 706.5932138513147\n",
      "xi =  1994.0 yi =  10.341742483467284\n",
      "----\n",
      "lhs_cnt = 2 rhs_cnt =  6\n",
      "----\n",
      "lhs_sum = 20.219912228019123 rhs_sum= 58.93936204407434\n",
      "----\n",
      "current score 706.5932138513148\n",
      "xi =  1997.0 yi =  10.357742824813725\n",
      "----\n",
      "lhs_cnt = 3 rhs_cnt =  5\n",
      "----\n",
      "lhs_sum = 30.577655052832846 rhs_sum= 48.58161921926062\n",
      "----\n",
      "current score 706.5932138513147\n",
      "xi =  1998.0 yi =  9.798127036878302\n",
      "----\n",
      "lhs_cnt = 4 rhs_cnt =  4\n",
      "----\n",
      "lhs_sum = 40.37578208971115 rhs_sum= 38.78349218238232\n",
      "----\n",
      "current score 706.5932138513148\n",
      "xi =  2000.0 yi =  10.203592144986466\n",
      "----\n",
      "lhs_cnt = 5 rhs_cnt =  3\n",
      "----\n",
      "lhs_sum = 50.57937423469762 rhs_sum= 28.579900037395852\n",
      "----\n",
      "current score 706.5932138513147\n",
      "xi =  2001.0 yi =  9.159047077588632\n",
      "----\n",
      "lhs_cnt = 6 rhs_cnt =  2\n",
      "----\n",
      "lhs_sum = 59.73842131228625 rhs_sum= 19.42085295980722\n",
      "----\n",
      "continue\n",
      "xi =  2001.0 yi =  10.532096211958502\n",
      "----\n",
      "lhs_cnt = 7 rhs_cnt =  1\n",
      "----\n",
      "lhs_sum = 70.27051752424475 rhs_sum= 8.888756747848719\n",
      "----\n",
      "current score 706.5932138513148\n"
     ]
    }
   ],
   "source": [
    "for i in range(0,7):\n",
    "        xi,yi = sort_x[i],sort_y[i]\n",
    "        print(\"xi = \",xi,\"yi = \",yi)\n",
    "        print(\"----\")\n",
    "        lhs_cnt += 1; rhs_cnt -= 1\n",
    "        print(\"lhs_cnt =\", lhs_cnt,\"rhs_cnt = \",rhs_cnt)\n",
    "        print(\"----\")\n",
    "        lhs_sum += yi; rhs_sum -= yi\n",
    "        print(\"lhs_sum =\",lhs_sum,\"rhs_sum=\",rhs_sum)\n",
    "        print(\"----\")\n",
    "        lhs_sum2 += yi**2; rhs_sum2 -= yi**2\n",
    "       \n",
    "        if xi==sort_x[i+1]:\n",
    "            print(\"continue\")\n",
    "            continue\n",
    "            \n",
    "        lhs_std = std_agg(lhs_cnt, lhs_sum, lhs_sum2)\n",
    "        rhs_std = std_agg(rhs_cnt, rhs_sum, rhs_sum2)\n",
    "        curr_score = lhs_std*lhs_cnt + rhs_std*rhs_cnt\n",
    "        print(\"current score\",curr_score)\n",
    "        if curr_score<score:\n",
    "            print(\"better score\")\n",
    "            var_idx,score,split = i,curr_score,xi\n",
    "            print(\"i =\",i)"
   ]
  },
  {
   "cell_type": "markdown",
   "metadata": {},
   "source": [
    "### Speeding things up - - continued. "
   ]
  },
  {
   "cell_type": "code",
   "execution_count": 45,
   "metadata": {},
   "outputs": [],
   "source": [
    "def std_agg(cnt, s1, s2): return math.sqrt(((s2/cnt) - (s1/cnt))**2)\n",
    "\n",
    "def find_better_split(self, var_idx):\n",
    "    x,y = self.x.values[self.idxs,var_idx], self.y[self.idxs]\n",
    "    \n",
    "    sort_idx = np.argsort(x)\n",
    "    sort_y,sort_x = y[sort_idx], x[sort_idx]\n",
    "    rhs_cnt,rhs_sum,rhs_sum2 = self.n, sort_y.sum(), (sort_y**2).sum()\n",
    "    lhs_cnt,lhs_sum,lhs_sum2 = 0,0.,0.\n",
    "\n",
    "    for i in range(0,self.n-self.min_leaf):\n",
    "        xi,yi = sort_x[i],sort_y[i]\n",
    "        lhs_cnt += 1; rhs_cnt -= 1\n",
    "        lhs_sum += yi; rhs_sum -= yi\n",
    "        lhs_sum2 += yi**2; rhs_sum2 -= yi**2\n",
    "        if i<self.min_leaf-1 or xi==sort_x[i+1]:\n",
    "            continue\n",
    "            \n",
    "        lhs_std = std_agg(lhs_cnt, lhs_sum, lhs_sum2)\n",
    "        rhs_std = std_agg(rhs_cnt, rhs_sum, rhs_sum2)\n",
    "        curr_score = lhs_std*lhs_cnt + rhs_std*rhs_cnt\n",
    "        if curr_score<self.score: \n",
    "            self.var_idx,self.score,self.split = var_idx,curr_score,xi"
   ]
  },
  {
   "cell_type": "code",
   "execution_count": 46,
   "metadata": {},
   "outputs": [
    {
     "name": "stdout",
     "output_type": "stream",
     "text": [
      "2.74 ms ± 36.2 µs per loop (mean ± std. dev. of 7 runs, 100 loops each)\n"
     ]
    },
    {
     "data": {
      "text/plain": [
       "n: 1000; val:10.079014121552744; score:91978.3039160182; split:0.0; var:MachineHoursCurrentMeter"
      ]
     },
     "execution_count": 46,
     "metadata": {},
     "output_type": "execute_result"
    }
   ],
   "source": [
    "%timeit find_better_split(tree,1)\n",
    "tree"
   ]
  },
  {
   "cell_type": "code",
   "execution_count": 47,
   "metadata": {},
   "outputs": [
    {
     "data": {
      "text/plain": [
       "n: 1000; val:10.079014121552744; score:91978.30391601802; split:1985.0; var:YearMade"
      ]
     },
     "execution_count": 47,
     "metadata": {},
     "output_type": "execute_result"
    }
   ],
   "source": [
    "find_better_split(tree,0); tree"
   ]
  },
  {
   "cell_type": "code",
   "execution_count": 48,
   "metadata": {},
   "outputs": [],
   "source": [
    "DecisionTree.find_better_split = find_better_split"
   ]
  },
  {
   "cell_type": "code",
   "execution_count": 49,
   "metadata": {},
   "outputs": [
    {
     "data": {
      "text/plain": [
       "n: 1000; val:10.079014121552744; score:91978.30391601802; split:1985.0; var:YearMade"
      ]
     },
     "execution_count": 49,
     "metadata": {},
     "output_type": "execute_result"
    }
   ],
   "source": [
    "tree = TreeEnsemble(x_sub, y_train, n_trees=1, sample_sz=1000).trees[0]; tree"
   ]
  },
  {
   "cell_type": "markdown",
   "metadata": {},
   "source": [
    "## Full single tree"
   ]
  },
  {
   "cell_type": "code",
   "execution_count": 50,
   "metadata": {},
   "outputs": [
    {
     "data": {
      "image/svg+xml": [
       "<?xml version=\"1.0\" encoding=\"UTF-8\" standalone=\"no\"?>\n",
       "<!DOCTYPE svg PUBLIC \"-//W3C//DTD SVG 1.1//EN\"\n",
       " \"http://www.w3.org/Graphics/SVG/1.1/DTD/svg11.dtd\">\n",
       "<!-- Generated by graphviz version 2.42.3 (20191010.1750)\n",
       " -->\n",
       "<!-- Title: Tree Pages: 1 -->\n",
       "<svg width=\"602pt\" height=\"364pt\"\n",
       " viewBox=\"0.00 0.00 602.00 364.40\" xmlns=\"http://www.w3.org/2000/svg\" xmlns:xlink=\"http://www.w3.org/1999/xlink\">\n",
       "<g id=\"graph0\" class=\"graph\" transform=\"scale(1 1) rotate(0) translate(4 360.4)\">\n",
       "<title>Tree</title>\n",
       "<polygon fill=\"white\" stroke=\"transparent\" points=\"-4,4 -4,-360.4 598,-360.4 598,4 -4,4\"/>\n",
       "<!-- 0 -->\n",
       "<g id=\"node1\" class=\"node\">\n",
       "<title>0</title>\n",
       "<polygon fill=\"#f4c8a8\" stroke=\"black\" points=\"144,-213.98 0,-213.98 0,-145.98 144,-145.98 144,-213.98\"/>\n",
       "<text text-anchor=\"start\" x=\"8\" y=\"-198.78\" font-family=\"Times,serif\" font-size=\"14.00\">YearMade ≤ 1974.5</text>\n",
       "<text text-anchor=\"start\" x=\"34\" y=\"-183.78\" font-family=\"Times,serif\" font-size=\"14.00\">mse = 0.47</text>\n",
       "<text text-anchor=\"start\" x=\"19\" y=\"-168.78\" font-family=\"Times,serif\" font-size=\"14.00\">samples = 1000</text>\n",
       "<text text-anchor=\"start\" x=\"23\" y=\"-153.78\" font-family=\"Times,serif\" font-size=\"14.00\">value = 10.08</text>\n",
       "</g>\n",
       "<!-- 1 -->\n",
       "<g id=\"node2\" class=\"node\">\n",
       "<title>1</title>\n",
       "<polygon fill=\"#fefaf7\" stroke=\"black\" points=\"444,-270.98 180,-270.98 180,-202.98 444,-202.98 444,-270.98\"/>\n",
       "<text text-anchor=\"start\" x=\"188\" y=\"-255.78\" font-family=\"Times,serif\" font-size=\"14.00\">MachineHoursCurrentMeter ≤ 2956.5</text>\n",
       "<text text-anchor=\"start\" x=\"274\" y=\"-240.78\" font-family=\"Times,serif\" font-size=\"14.00\">mse = 0.26</text>\n",
       "<text text-anchor=\"start\" x=\"263\" y=\"-225.78\" font-family=\"Times,serif\" font-size=\"14.00\">samples = 159</text>\n",
       "<text text-anchor=\"start\" x=\"266.5\" y=\"-210.78\" font-family=\"Times,serif\" font-size=\"14.00\">value = 9.66</text>\n",
       "</g>\n",
       "<!-- 0&#45;&gt;1 -->\n",
       "<g id=\"edge1\" class=\"edge\">\n",
       "<title>0&#45;&gt;1</title>\n",
       "<path fill=\"none\" stroke=\"black\" d=\"M144.09,-197C152.35,-198.98 160.98,-201.05 169.77,-203.16\"/>\n",
       "<polygon fill=\"black\" stroke=\"black\" points=\"169.23,-206.62 179.77,-205.55 170.86,-199.82 169.23,-206.62\"/>\n",
       "<text text-anchor=\"middle\" x=\"158.46\" y=\"-214.92\" font-family=\"Times,serif\" font-size=\"14.00\">True</text>\n",
       "</g>\n",
       "<!-- 4 -->\n",
       "<g id=\"node5\" class=\"node\">\n",
       "<title>4</title>\n",
       "<polygon fill=\"#f2be99\" stroke=\"black\" points=\"384,-156.98 240,-156.98 240,-88.98 384,-88.98 384,-156.98\"/>\n",
       "<text text-anchor=\"start\" x=\"248\" y=\"-141.78\" font-family=\"Times,serif\" font-size=\"14.00\">YearMade ≤ 2005.5</text>\n",
       "<text text-anchor=\"start\" x=\"274\" y=\"-126.78\" font-family=\"Times,serif\" font-size=\"14.00\">mse = 0.47</text>\n",
       "<text text-anchor=\"start\" x=\"263\" y=\"-111.78\" font-family=\"Times,serif\" font-size=\"14.00\">samples = 841</text>\n",
       "<text text-anchor=\"start\" x=\"263\" y=\"-96.78\" font-family=\"Times,serif\" font-size=\"14.00\">value = 10.16</text>\n",
       "</g>\n",
       "<!-- 0&#45;&gt;4 -->\n",
       "<g id=\"edge4\" class=\"edge\">\n",
       "<title>0&#45;&gt;4</title>\n",
       "<path fill=\"none\" stroke=\"black\" d=\"M144.09,-162.96C171.16,-156.47 202.22,-149.03 230.14,-142.35\"/>\n",
       "<polygon fill=\"black\" stroke=\"black\" points=\"230.96,-145.75 239.87,-140.02 229.33,-138.94 230.96,-145.75\"/>\n",
       "<text text-anchor=\"middle\" x=\"218.56\" y=\"-123.24\" font-family=\"Times,serif\" font-size=\"14.00\">False</text>\n",
       "</g>\n",
       "<!-- 2 -->\n",
       "<g id=\"node3\" class=\"node\">\n",
       "<title>2</title>\n",
       "<polygon fill=\"#ffffff\" stroke=\"black\" points=\"594,-347.48 480,-347.48 480,-294.48 594,-294.48 594,-347.48\"/>\n",
       "<text text-anchor=\"start\" x=\"499\" y=\"-332.28\" font-family=\"Times,serif\" font-size=\"14.00\">mse = 0.23</text>\n",
       "<text text-anchor=\"start\" x=\"488\" y=\"-317.28\" font-family=\"Times,serif\" font-size=\"14.00\">samples = 150</text>\n",
       "<text text-anchor=\"start\" x=\"491.5\" y=\"-302.28\" font-family=\"Times,serif\" font-size=\"14.00\">value = 9.62</text>\n",
       "</g>\n",
       "<!-- 1&#45;&gt;2 -->\n",
       "<g id=\"edge2\" class=\"edge\">\n",
       "<title>1&#45;&gt;2</title>\n",
       "<path fill=\"none\" stroke=\"black\" d=\"M403.38,-271.02C425.79,-279.46 449.37,-288.35 470.34,-296.25\"/>\n",
       "<polygon fill=\"black\" stroke=\"black\" points=\"469.18,-299.55 479.78,-299.8 471.65,-293 469.18,-299.55\"/>\n",
       "</g>\n",
       "<!-- 3 -->\n",
       "<g id=\"node4\" class=\"node\">\n",
       "<title>3</title>\n",
       "<polygon fill=\"#eda774\" stroke=\"black\" points=\"594,-254.48 480,-254.48 480,-201.48 594,-201.48 594,-254.48\"/>\n",
       "<text text-anchor=\"start\" x=\"499\" y=\"-239.28\" font-family=\"Times,serif\" font-size=\"14.00\">mse = 0.23</text>\n",
       "<text text-anchor=\"start\" x=\"495.5\" y=\"-224.28\" font-family=\"Times,serif\" font-size=\"14.00\">samples = 9</text>\n",
       "<text text-anchor=\"start\" x=\"488\" y=\"-209.28\" font-family=\"Times,serif\" font-size=\"14.00\">value = 10.35</text>\n",
       "</g>\n",
       "<!-- 1&#45;&gt;3 -->\n",
       "<g id=\"edge3\" class=\"edge\">\n",
       "<title>1&#45;&gt;3</title>\n",
       "<path fill=\"none\" stroke=\"black\" d=\"M444.01,-231.69C452.81,-231.34 461.44,-230.99 469.68,-230.66\"/>\n",
       "<polygon fill=\"black\" stroke=\"black\" points=\"470.03,-234.15 479.88,-230.24 469.75,-227.15 470.03,-234.15\"/>\n",
       "</g>\n",
       "<!-- 5 -->\n",
       "<g id=\"node6\" class=\"node\">\n",
       "<title>5</title>\n",
       "<polygon fill=\"#f2c09d\" stroke=\"black\" points=\"594,-155.48 480,-155.48 480,-102.48 594,-102.48 594,-155.48\"/>\n",
       "<text text-anchor=\"start\" x=\"499\" y=\"-140.28\" font-family=\"Times,serif\" font-size=\"14.00\">mse = 0.46</text>\n",
       "<text text-anchor=\"start\" x=\"488\" y=\"-125.28\" font-family=\"Times,serif\" font-size=\"14.00\">samples = 813</text>\n",
       "<text text-anchor=\"start\" x=\"488\" y=\"-110.28\" font-family=\"Times,serif\" font-size=\"14.00\">value = 10.14</text>\n",
       "</g>\n",
       "<!-- 4&#45;&gt;5 -->\n",
       "<g id=\"edge5\" class=\"edge\">\n",
       "<title>4&#45;&gt;5</title>\n",
       "<path fill=\"none\" stroke=\"black\" d=\"M384.17,-124.89C411.64,-125.63 442.88,-126.47 469.85,-127.2\"/>\n",
       "<polygon fill=\"black\" stroke=\"black\" points=\"469.87,-130.7 479.96,-127.47 470.06,-123.7 469.87,-130.7\"/>\n",
       "</g>\n",
       "<!-- 6 -->\n",
       "<g id=\"node7\" class=\"node\">\n",
       "<title>6</title>\n",
       "<polygon fill=\"#e58139\" stroke=\"black\" points=\"594,-61.48 480,-61.48 480,-8.48 594,-8.48 594,-61.48\"/>\n",
       "<text text-anchor=\"start\" x=\"499\" y=\"-46.28\" font-family=\"Times,serif\" font-size=\"14.00\">mse = 0.38</text>\n",
       "<text text-anchor=\"start\" x=\"491.5\" y=\"-31.28\" font-family=\"Times,serif\" font-size=\"14.00\">samples = 28</text>\n",
       "<text text-anchor=\"start\" x=\"488\" y=\"-16.28\" font-family=\"Times,serif\" font-size=\"14.00\">value = 10.67</text>\n",
       "</g>\n",
       "<!-- 4&#45;&gt;6 -->\n",
       "<g id=\"edge6\" class=\"edge\">\n",
       "<title>4&#45;&gt;6</title>\n",
       "<path fill=\"none\" stroke=\"black\" d=\"M384.17,-94.89C411.88,-83.96 443.43,-71.51 470.56,-60.8\"/>\n",
       "<polygon fill=\"black\" stroke=\"black\" points=\"471.94,-64.02 479.96,-57.1 469.37,-57.51 471.94,-64.02\"/>\n",
       "</g>\n",
       "</g>\n",
       "</svg>\n"
      ],
      "text/plain": [
       "<graphviz.files.Source at 0x7f9aed22c390>"
      ]
     },
     "metadata": {},
     "output_type": "display_data"
    }
   ],
   "source": [
    "m = RandomForestRegressor(n_estimators=1, max_depth=2, bootstrap=False)\n",
    "m.fit(x_samp, y_samp)\n",
    "draw_tree(m.estimators_[0], x_samp, precision=2)"
   ]
  },
  {
   "cell_type": "code",
   "execution_count": 51,
   "metadata": {},
   "outputs": [],
   "source": [
    "def find_varsplit(self):\n",
    "    for i in range(self.c): self.find_better_split(i)\n",
    "    if self.is_leaf: return\n",
    "    x = self.split_col\n",
    "    lhs = np.nonzero(x<=self.split)[0]\n",
    "    rhs = np.nonzero(x>self.split)[0]\n",
    "    self.lhs = DecisionTree(self.x, self.y, self.idxs[lhs])\n",
    "    self.rhs = DecisionTree(self.x, self.y, self.idxs[rhs])"
   ]
  },
  {
   "cell_type": "code",
   "execution_count": 52,
   "metadata": {},
   "outputs": [],
   "source": [
    "DecisionTree.find_varsplit = find_varsplit"
   ]
  },
  {
   "cell_type": "code",
   "execution_count": 53,
   "metadata": {},
   "outputs": [
    {
     "data": {
      "text/plain": [
       "n: 1000; val:10.079014121552744; score:91978.30391601802; split:1985.0; var:YearMade"
      ]
     },
     "execution_count": 53,
     "metadata": {},
     "output_type": "execute_result"
    }
   ],
   "source": [
    "tree = TreeEnsemble(x_sub, y_train, 1, 1000).trees[0]; tree"
   ]
  },
  {
   "cell_type": "code",
   "execution_count": 54,
   "metadata": {},
   "outputs": [
    {
     "data": {
      "text/plain": [
       "n: 301; val:9.867803605760528; score:26455.707322289985; split:1000.0; var:YearMade"
      ]
     },
     "execution_count": 54,
     "metadata": {},
     "output_type": "execute_result"
    }
   ],
   "source": [
    "tree.lhs"
   ]
  },
  {
   "cell_type": "code",
   "execution_count": 55,
   "metadata": {},
   "outputs": [
    {
     "data": {
      "text/plain": [
       "n: 699; val:10.16996457255912; score:65522.59659372821; split:2004.0; var:YearMade"
      ]
     },
     "execution_count": 55,
     "metadata": {},
     "output_type": "execute_result"
    }
   ],
   "source": [
    "tree.rhs"
   ]
  },
  {
   "cell_type": "code",
   "execution_count": 56,
   "metadata": {},
   "outputs": [
    {
     "data": {
      "text/plain": [
       "n: 113; val:9.683827269146073; score:9538.831414577206; split:2273.0; var:MachineHoursCurrentMeter"
      ]
     },
     "execution_count": 56,
     "metadata": {},
     "output_type": "execute_result"
    }
   ],
   "source": [
    "tree.lhs.lhs"
   ]
  },
  {
   "cell_type": "code",
   "execution_count": 57,
   "metadata": {},
   "outputs": [
    {
     "data": {
      "text/plain": [
       "n: 188; val:9.978385127236239; score:16916.875907712794; split:0.0; var:MachineHoursCurrentMeter"
      ]
     },
     "execution_count": 57,
     "metadata": {},
     "output_type": "execute_result"
    }
   ],
   "source": [
    "tree.lhs.rhs"
   ]
  },
  {
   "cell_type": "markdown",
   "metadata": {},
   "source": [
    "## Predictions"
   ]
  },
  {
   "cell_type": "code",
   "execution_count": 98,
   "metadata": {},
   "outputs": [],
   "source": [
    "cols = ['MachineID', 'YearMade', 'MachineHoursCurrentMeter', 'ProductSize', 'Enclosure',\n",
    "        'Coupler_System', 'saleYear']"
   ]
  },
  {
   "cell_type": "code",
   "execution_count": 109,
   "metadata": {},
   "outputs": [
    {
     "name": "stdout",
     "output_type": "stream",
     "text": [
      "CPU times: user 539 ms, sys: 16.1 ms, total: 555 ms\n",
      "Wall time: 553 ms\n"
     ]
    }
   ],
   "source": [
    "%time tree = TreeEnsemble(X_train[cols], y_train, 1, 1000).trees[0]\n",
    "x_samp,y_samp = tree.x, tree.y"
   ]
  },
  {
   "cell_type": "code",
   "execution_count": 110,
   "metadata": {},
   "outputs": [
    {
     "data": {
      "text/plain": [
       "1000"
      ]
     },
     "execution_count": 110,
     "metadata": {},
     "output_type": "execute_result"
    }
   ],
   "source": [
    "len(y_samp)"
   ]
  },
  {
   "cell_type": "code",
   "execution_count": 113,
   "metadata": {},
   "outputs": [
    {
     "data": {
      "image/svg+xml": [
       "<?xml version=\"1.0\" encoding=\"UTF-8\" standalone=\"no\"?>\n",
       "<!DOCTYPE svg PUBLIC \"-//W3C//DTD SVG 1.1//EN\"\n",
       " \"http://www.w3.org/Graphics/SVG/1.1/DTD/svg11.dtd\">\n",
       "<!-- Generated by graphviz version 2.42.3 (20191010.1750)\n",
       " -->\n",
       "<!-- Title: Tree Pages: 1 -->\n",
       "<svg width=\"685pt\" height=\"617pt\"\n",
       " viewBox=\"0.00 0.00 685.00 617.30\" xmlns=\"http://www.w3.org/2000/svg\" xmlns:xlink=\"http://www.w3.org/1999/xlink\">\n",
       "<g id=\"graph0\" class=\"graph\" transform=\"scale(1 1) rotate(0) translate(4 613.3)\">\n",
       "<title>Tree</title>\n",
       "<polygon fill=\"white\" stroke=\"transparent\" points=\"-4,4 -4,-613.3 681,-613.3 681,4 -4,4\"/>\n",
       "<!-- 0 -->\n",
       "<g id=\"node1\" class=\"node\">\n",
       "<title>0</title>\n",
       "<polygon fill=\"#eca36f\" stroke=\"black\" points=\"166.5,-369.36 -0.5,-369.36 -0.5,-301.36 166.5,-301.36 166.5,-369.36\"/>\n",
       "<text text-anchor=\"start\" x=\"7.5\" y=\"-354.16\" font-family=\"Times,serif\" font-size=\"14.00\">Coupler_System ≤ 0.5</text>\n",
       "<text text-anchor=\"start\" x=\"45\" y=\"-339.16\" font-family=\"Times,serif\" font-size=\"14.00\">mse = 0.47</text>\n",
       "<text text-anchor=\"start\" x=\"30\" y=\"-324.16\" font-family=\"Times,serif\" font-size=\"14.00\">samples = 1000</text>\n",
       "<text text-anchor=\"start\" x=\"34\" y=\"-309.16\" font-family=\"Times,serif\" font-size=\"14.00\">value = 10.08</text>\n",
       "</g>\n",
       "<!-- 1 -->\n",
       "<g id=\"node2\" class=\"node\">\n",
       "<title>1</title>\n",
       "<polygon fill=\"#ea9b61\" stroke=\"black\" points=\"347,-409.36 203,-409.36 203,-341.36 347,-341.36 347,-409.36\"/>\n",
       "<text text-anchor=\"start\" x=\"211\" y=\"-394.16\" font-family=\"Times,serif\" font-size=\"14.00\">YearMade ≤ 1980.5</text>\n",
       "<text text-anchor=\"start\" x=\"237\" y=\"-379.16\" font-family=\"Times,serif\" font-size=\"14.00\">mse = 0.41</text>\n",
       "<text text-anchor=\"start\" x=\"226\" y=\"-364.16\" font-family=\"Times,serif\" font-size=\"14.00\">samples = 898</text>\n",
       "<text text-anchor=\"start\" x=\"226\" y=\"-349.16\" font-family=\"Times,serif\" font-size=\"14.00\">value = 10.18</text>\n",
       "</g>\n",
       "<!-- 0&#45;&gt;1 -->\n",
       "<g id=\"edge1\" class=\"edge\">\n",
       "<title>0&#45;&gt;1</title>\n",
       "<path fill=\"none\" stroke=\"black\" d=\"M166.51,-352.73C175.31,-354.58 184.26,-356.47 193.05,-358.31\"/>\n",
       "<polygon fill=\"black\" stroke=\"black\" points=\"192.38,-361.75 202.88,-360.38 193.82,-354.9 192.38,-361.75\"/>\n",
       "<text text-anchor=\"middle\" x=\"181.94\" y=\"-370.34\" font-family=\"Times,serif\" font-size=\"14.00\">True</text>\n",
       "</g>\n",
       "<!-- 8 -->\n",
       "<g id=\"node9\" class=\"node\">\n",
       "<title>8</title>\n",
       "<polygon fill=\"#fcefe5\" stroke=\"black\" points=\"347,-268.36 203,-268.36 203,-200.36 347,-200.36 347,-268.36\"/>\n",
       "<text text-anchor=\"start\" x=\"211\" y=\"-253.16\" font-family=\"Times,serif\" font-size=\"14.00\">YearMade ≤ 1998.5</text>\n",
       "<text text-anchor=\"start\" x=\"237\" y=\"-238.16\" font-family=\"Times,serif\" font-size=\"14.00\">mse = 0.12</text>\n",
       "<text text-anchor=\"start\" x=\"226\" y=\"-223.16\" font-family=\"Times,serif\" font-size=\"14.00\">samples = 102</text>\n",
       "<text text-anchor=\"start\" x=\"229.5\" y=\"-208.16\" font-family=\"Times,serif\" font-size=\"14.00\">value = 9.17</text>\n",
       "</g>\n",
       "<!-- 0&#45;&gt;8 -->\n",
       "<g id=\"edge8\" class=\"edge\">\n",
       "<title>0&#45;&gt;8</title>\n",
       "<path fill=\"none\" stroke=\"black\" d=\"M148.06,-301.3C165.03,-292.28 183.48,-282.47 200.9,-273.22\"/>\n",
       "<polygon fill=\"black\" stroke=\"black\" points=\"202.71,-276.22 209.89,-268.43 199.42,-270.04 202.71,-276.22\"/>\n",
       "<text text-anchor=\"middle\" x=\"185.99\" y=\"-257.42\" font-family=\"Times,serif\" font-size=\"14.00\">False</text>\n",
       "</g>\n",
       "<!-- 2 -->\n",
       "<g id=\"node3\" class=\"node\">\n",
       "<title>2</title>\n",
       "<polygon fill=\"#f0b88f\" stroke=\"black\" points=\"527,-535.36 383,-535.36 383,-467.36 527,-467.36 527,-535.36\"/>\n",
       "<text text-anchor=\"start\" x=\"391\" y=\"-520.16\" font-family=\"Times,serif\" font-size=\"14.00\">YearMade ≤ 1974.5</text>\n",
       "<text text-anchor=\"start\" x=\"417\" y=\"-505.16\" font-family=\"Times,serif\" font-size=\"14.00\">mse = 0.28</text>\n",
       "<text text-anchor=\"start\" x=\"406\" y=\"-490.16\" font-family=\"Times,serif\" font-size=\"14.00\">samples = 226</text>\n",
       "<text text-anchor=\"start\" x=\"409.5\" y=\"-475.16\" font-family=\"Times,serif\" font-size=\"14.00\">value = 9.83</text>\n",
       "</g>\n",
       "<!-- 1&#45;&gt;2 -->\n",
       "<g id=\"edge2\" class=\"edge\">\n",
       "<title>1&#45;&gt;2</title>\n",
       "<path fill=\"none\" stroke=\"black\" d=\"M324.17,-409.45C346.83,-425.49 373.99,-444.72 397.6,-461.43\"/>\n",
       "<polygon fill=\"black\" stroke=\"black\" points=\"395.61,-464.31 405.79,-467.23 399.65,-458.6 395.61,-464.31\"/>\n",
       "</g>\n",
       "<!-- 5 -->\n",
       "<g id=\"node6\" class=\"node\">\n",
       "<title>5</title>\n",
       "<polygon fill=\"#e89152\" stroke=\"black\" points=\"527,-409.36 383,-409.36 383,-341.36 527,-341.36 527,-409.36\"/>\n",
       "<text text-anchor=\"start\" x=\"391\" y=\"-394.16\" font-family=\"Times,serif\" font-size=\"14.00\">ProductSize ≤ 1.5</text>\n",
       "<text text-anchor=\"start\" x=\"417\" y=\"-379.16\" font-family=\"Times,serif\" font-size=\"14.00\">mse = 0.39</text>\n",
       "<text text-anchor=\"start\" x=\"406\" y=\"-364.16\" font-family=\"Times,serif\" font-size=\"14.00\">samples = 672</text>\n",
       "<text text-anchor=\"start\" x=\"409.5\" y=\"-349.16\" font-family=\"Times,serif\" font-size=\"14.00\">value = 10.3</text>\n",
       "</g>\n",
       "<!-- 1&#45;&gt;5 -->\n",
       "<g id=\"edge5\" class=\"edge\">\n",
       "<title>1&#45;&gt;5</title>\n",
       "<path fill=\"none\" stroke=\"black\" d=\"M347.12,-375.36C355.61,-375.36 364.33,-375.36 372.94,-375.36\"/>\n",
       "<polygon fill=\"black\" stroke=\"black\" points=\"373,-378.86 383,-375.36 373,-371.86 373,-378.86\"/>\n",
       "</g>\n",
       "<!-- 3 -->\n",
       "<g id=\"node4\" class=\"node\">\n",
       "<title>3</title>\n",
       "<polygon fill=\"#f2c19e\" stroke=\"black\" points=\"677,-606.86 563,-606.86 563,-553.86 677,-553.86 677,-606.86\"/>\n",
       "<text text-anchor=\"start\" x=\"582\" y=\"-591.66\" font-family=\"Times,serif\" font-size=\"14.00\">mse = 0.25</text>\n",
       "<text text-anchor=\"start\" x=\"571\" y=\"-576.66\" font-family=\"Times,serif\" font-size=\"14.00\">samples = 143</text>\n",
       "<text text-anchor=\"start\" x=\"574.5\" y=\"-561.66\" font-family=\"Times,serif\" font-size=\"14.00\">value = 9.72</text>\n",
       "</g>\n",
       "<!-- 2&#45;&gt;3 -->\n",
       "<g id=\"edge3\" class=\"edge\">\n",
       "<title>2&#45;&gt;3</title>\n",
       "<path fill=\"none\" stroke=\"black\" d=\"M526.55,-535.55C535.97,-540.11 545.59,-544.78 554.89,-549.29\"/>\n",
       "<polygon fill=\"black\" stroke=\"black\" points=\"553.54,-552.52 564.07,-553.73 556.6,-546.22 553.54,-552.52\"/>\n",
       "</g>\n",
       "<!-- 4 -->\n",
       "<g id=\"node5\" class=\"node\">\n",
       "<title>4</title>\n",
       "<polygon fill=\"#eda775\" stroke=\"black\" points=\"677,-527.86 563,-527.86 563,-474.86 677,-474.86 677,-527.86\"/>\n",
       "<text text-anchor=\"start\" x=\"582\" y=\"-512.66\" font-family=\"Times,serif\" font-size=\"14.00\">mse = 0.29</text>\n",
       "<text text-anchor=\"start\" x=\"574.5\" y=\"-497.66\" font-family=\"Times,serif\" font-size=\"14.00\">samples = 83</text>\n",
       "<text text-anchor=\"start\" x=\"571\" y=\"-482.66\" font-family=\"Times,serif\" font-size=\"14.00\">value = 10.03</text>\n",
       "</g>\n",
       "<!-- 2&#45;&gt;4 -->\n",
       "<g id=\"edge4\" class=\"edge\">\n",
       "<title>2&#45;&gt;4</title>\n",
       "<path fill=\"none\" stroke=\"black\" d=\"M527.02,-501.36C535.56,-501.36 544.25,-501.36 552.72,-501.36\"/>\n",
       "<polygon fill=\"black\" stroke=\"black\" points=\"552.91,-504.86 562.91,-501.36 552.91,-497.86 552.91,-504.86\"/>\n",
       "</g>\n",
       "<!-- 6 -->\n",
       "<g id=\"node7\" class=\"node\">\n",
       "<title>6</title>\n",
       "<polygon fill=\"#eba06a\" stroke=\"black\" points=\"677,-448.86 563,-448.86 563,-395.86 677,-395.86 677,-448.86\"/>\n",
       "<text text-anchor=\"start\" x=\"582\" y=\"-433.66\" font-family=\"Times,serif\" font-size=\"14.00\">mse = 0.29</text>\n",
       "<text text-anchor=\"start\" x=\"571\" y=\"-418.66\" font-family=\"Times,serif\" font-size=\"14.00\">samples = 341</text>\n",
       "<text text-anchor=\"start\" x=\"571\" y=\"-403.66\" font-family=\"Times,serif\" font-size=\"14.00\">value = 10.11</text>\n",
       "</g>\n",
       "<!-- 5&#45;&gt;6 -->\n",
       "<g id=\"edge6\" class=\"edge\">\n",
       "<title>5&#45;&gt;6</title>\n",
       "<path fill=\"none\" stroke=\"black\" d=\"M527.02,-395.84C535.75,-398.35 544.64,-400.91 553.28,-403.41\"/>\n",
       "<polygon fill=\"black\" stroke=\"black\" points=\"552.33,-406.78 562.91,-406.18 554.27,-400.05 552.33,-406.78\"/>\n",
       "</g>\n",
       "<!-- 7 -->\n",
       "<g id=\"node8\" class=\"node\">\n",
       "<title>7</title>\n",
       "<polygon fill=\"#e58139\" stroke=\"black\" points=\"677,-370.86 563,-370.86 563,-317.86 677,-317.86 677,-370.86\"/>\n",
       "<text text-anchor=\"start\" x=\"582\" y=\"-355.66\" font-family=\"Times,serif\" font-size=\"14.00\">mse = 0.43</text>\n",
       "<text text-anchor=\"start\" x=\"571\" y=\"-340.66\" font-family=\"Times,serif\" font-size=\"14.00\">samples = 331</text>\n",
       "<text text-anchor=\"start\" x=\"571\" y=\"-325.66\" font-family=\"Times,serif\" font-size=\"14.00\">value = 10.49</text>\n",
       "</g>\n",
       "<!-- 5&#45;&gt;7 -->\n",
       "<g id=\"edge7\" class=\"edge\">\n",
       "<title>5&#45;&gt;7</title>\n",
       "<path fill=\"none\" stroke=\"black\" d=\"M527.02,-361.85C535.65,-360.21 544.45,-358.54 553,-356.91\"/>\n",
       "<polygon fill=\"black\" stroke=\"black\" points=\"553.74,-360.33 562.91,-355.02 552.43,-353.45 553.74,-360.33\"/>\n",
       "</g>\n",
       "<!-- 9 -->\n",
       "<g id=\"node10\" class=\"node\">\n",
       "<title>9</title>\n",
       "<polygon fill=\"#fefbf9\" stroke=\"black\" points=\"527,-268.36 383,-268.36 383,-200.36 527,-200.36 527,-268.36\"/>\n",
       "<text text-anchor=\"start\" x=\"391\" y=\"-253.16\" font-family=\"Times,serif\" font-size=\"14.00\">saleYear ≤ 1995.5</text>\n",
       "<text text-anchor=\"start\" x=\"421\" y=\"-238.16\" font-family=\"Times,serif\" font-size=\"14.00\">mse = 0.1</text>\n",
       "<text text-anchor=\"start\" x=\"409.5\" y=\"-223.16\" font-family=\"Times,serif\" font-size=\"14.00\">samples = 49</text>\n",
       "<text text-anchor=\"start\" x=\"409.5\" y=\"-208.16\" font-family=\"Times,serif\" font-size=\"14.00\">value = 9.02</text>\n",
       "</g>\n",
       "<!-- 8&#45;&gt;9 -->\n",
       "<g id=\"edge9\" class=\"edge\">\n",
       "<title>8&#45;&gt;9</title>\n",
       "<path fill=\"none\" stroke=\"black\" d=\"M347.12,-234.36C355.61,-234.36 364.33,-234.36 372.94,-234.36\"/>\n",
       "<polygon fill=\"black\" stroke=\"black\" points=\"373,-237.86 383,-234.36 373,-230.86 373,-237.86\"/>\n",
       "</g>\n",
       "<!-- 12 -->\n",
       "<g id=\"node13\" class=\"node\">\n",
       "<title>12</title>\n",
       "<polygon fill=\"#f9e3d3\" stroke=\"black\" points=\"527,-142.36 383,-142.36 383,-74.36 527,-74.36 527,-142.36\"/>\n",
       "<text text-anchor=\"start\" x=\"391\" y=\"-127.16\" font-family=\"Times,serif\" font-size=\"14.00\">saleYear ≤ 2007.5</text>\n",
       "<text text-anchor=\"start\" x=\"421\" y=\"-112.16\" font-family=\"Times,serif\" font-size=\"14.00\">mse = 0.1</text>\n",
       "<text text-anchor=\"start\" x=\"409.5\" y=\"-97.16\" font-family=\"Times,serif\" font-size=\"14.00\">samples = 53</text>\n",
       "<text text-anchor=\"start\" x=\"409.5\" y=\"-82.16\" font-family=\"Times,serif\" font-size=\"14.00\">value = 9.31</text>\n",
       "</g>\n",
       "<!-- 8&#45;&gt;12 -->\n",
       "<g id=\"edge12\" class=\"edge\">\n",
       "<title>8&#45;&gt;12</title>\n",
       "<path fill=\"none\" stroke=\"black\" d=\"M324.17,-200.26C346.83,-184.22 373.99,-164.99 397.6,-148.28\"/>\n",
       "<polygon fill=\"black\" stroke=\"black\" points=\"399.65,-151.12 405.79,-142.48 395.61,-145.4 399.65,-151.12\"/>\n",
       "</g>\n",
       "<!-- 10 -->\n",
       "<g id=\"node11\" class=\"node\">\n",
       "<title>10</title>\n",
       "<polygon fill=\"#f7d7c0\" stroke=\"black\" points=\"673.5,-291.86 566.5,-291.86 566.5,-238.86 673.5,-238.86 673.5,-291.86\"/>\n",
       "<text text-anchor=\"start\" x=\"582\" y=\"-276.66\" font-family=\"Times,serif\" font-size=\"14.00\">mse = 0.03</text>\n",
       "<text text-anchor=\"start\" x=\"578.5\" y=\"-261.66\" font-family=\"Times,serif\" font-size=\"14.00\">samples = 5</text>\n",
       "<text text-anchor=\"start\" x=\"574.5\" y=\"-246.66\" font-family=\"Times,serif\" font-size=\"14.00\">value = 9.46</text>\n",
       "</g>\n",
       "<!-- 9&#45;&gt;10 -->\n",
       "<g id=\"edge10\" class=\"edge\">\n",
       "<title>9&#45;&gt;10</title>\n",
       "<path fill=\"none\" stroke=\"black\" d=\"M527.02,-247.86C536.83,-249.73 546.84,-251.63 556.47,-253.47\"/>\n",
       "<polygon fill=\"black\" stroke=\"black\" points=\"555.88,-256.92 566.36,-255.35 557.19,-250.04 555.88,-256.92\"/>\n",
       "</g>\n",
       "<!-- 11 -->\n",
       "<g id=\"node12\" class=\"node\">\n",
       "<title>11</title>\n",
       "<polygon fill=\"#ffffff\" stroke=\"black\" points=\"673.5,-212.86 566.5,-212.86 566.5,-159.86 673.5,-159.86 673.5,-212.86\"/>\n",
       "<text text-anchor=\"start\" x=\"582\" y=\"-197.66\" font-family=\"Times,serif\" font-size=\"14.00\">mse = 0.08</text>\n",
       "<text text-anchor=\"start\" x=\"574.5\" y=\"-182.66\" font-family=\"Times,serif\" font-size=\"14.00\">samples = 44</text>\n",
       "<text text-anchor=\"start\" x=\"574.5\" y=\"-167.66\" font-family=\"Times,serif\" font-size=\"14.00\">value = 8.97</text>\n",
       "</g>\n",
       "<!-- 9&#45;&gt;11 -->\n",
       "<g id=\"edge11\" class=\"edge\">\n",
       "<title>9&#45;&gt;11</title>\n",
       "<path fill=\"none\" stroke=\"black\" d=\"M527.02,-213.44C536.83,-210.56 546.84,-207.61 556.47,-204.77\"/>\n",
       "<polygon fill=\"black\" stroke=\"black\" points=\"557.75,-208.04 566.36,-201.86 555.77,-201.33 557.75,-208.04\"/>\n",
       "</g>\n",
       "<!-- 13 -->\n",
       "<g id=\"node14\" class=\"node\">\n",
       "<title>13</title>\n",
       "<polygon fill=\"#f6d5bd\" stroke=\"black\" points=\"673.5,-134.86 566.5,-134.86 566.5,-81.86 673.5,-81.86 673.5,-134.86\"/>\n",
       "<text text-anchor=\"start\" x=\"582\" y=\"-119.66\" font-family=\"Times,serif\" font-size=\"14.00\">mse = 0.08</text>\n",
       "<text text-anchor=\"start\" x=\"574.5\" y=\"-104.66\" font-family=\"Times,serif\" font-size=\"14.00\">samples = 22</text>\n",
       "<text text-anchor=\"start\" x=\"574.5\" y=\"-89.66\" font-family=\"Times,serif\" font-size=\"14.00\">value = 9.48</text>\n",
       "</g>\n",
       "<!-- 12&#45;&gt;13 -->\n",
       "<g id=\"edge13\" class=\"edge\">\n",
       "<title>12&#45;&gt;13</title>\n",
       "<path fill=\"none\" stroke=\"black\" d=\"M527.02,-108.36C536.72,-108.36 546.63,-108.36 556.17,-108.36\"/>\n",
       "<polygon fill=\"black\" stroke=\"black\" points=\"556.36,-111.86 566.36,-108.36 556.36,-104.86 556.36,-111.86\"/>\n",
       "</g>\n",
       "<!-- 14 -->\n",
       "<g id=\"node15\" class=\"node\">\n",
       "<title>14</title>\n",
       "<polygon fill=\"#fbede3\" stroke=\"black\" points=\"673.5,-55.86 566.5,-55.86 566.5,-2.86 673.5,-2.86 673.5,-55.86\"/>\n",
       "<text text-anchor=\"start\" x=\"582\" y=\"-40.66\" font-family=\"Times,serif\" font-size=\"14.00\">mse = 0.08</text>\n",
       "<text text-anchor=\"start\" x=\"574.5\" y=\"-25.66\" font-family=\"Times,serif\" font-size=\"14.00\">samples = 31</text>\n",
       "<text text-anchor=\"start\" x=\"574.5\" y=\"-10.66\" font-family=\"Times,serif\" font-size=\"14.00\">value = 9.19</text>\n",
       "</g>\n",
       "<!-- 12&#45;&gt;14 -->\n",
       "<g id=\"edge14\" class=\"edge\">\n",
       "<title>12&#45;&gt;14</title>\n",
       "<path fill=\"none\" stroke=\"black\" d=\"M526.55,-74.17C536.69,-69.25 547.07,-64.22 557.03,-59.39\"/>\n",
       "<polygon fill=\"black\" stroke=\"black\" points=\"558.57,-62.54 566.04,-55.02 555.52,-56.24 558.57,-62.54\"/>\n",
       "</g>\n",
       "</g>\n",
       "</svg>\n"
      ],
      "text/plain": [
       "<graphviz.files.Source at 0x7f9ad3332a58>"
      ]
     },
     "metadata": {},
     "output_type": "display_data"
    }
   ],
   "source": [
    "m = RandomForestRegressor(n_estimators=1, max_depth=3, bootstrap=False)\n",
    "m.fit(x_samp, y_samp)\n",
    "preds = m.predict(X_valid[cols].values)\n",
    "draw_tree(m.estimators_[0], x_samp, precision=2, ratio=0.9, size=20)"
   ]
  },
  {
   "cell_type": "code",
   "execution_count": 114,
   "metadata": {},
   "outputs": [
    {
     "data": {
      "text/plain": [
       "-0.36210295459613473"
      ]
     },
     "execution_count": 114,
     "metadata": {},
     "output_type": "execute_result"
    }
   ],
   "source": [
    "metrics.r2_score(preds, y_valid)"
   ]
  },
  {
   "cell_type": "code",
   "execution_count": 61,
   "metadata": {},
   "outputs": [],
   "source": [
    "def predict(self, x): return np.array([self.predict_row(xi) for xi in x])\n",
    "DecisionTree.predict = predict"
   ]
  },
  {
   "cell_type": "markdown",
   "metadata": {},
   "source": [
    "if something:\n",
    "    x= do1()\n",
    "else:\n",
    "    x= do2()"
   ]
  },
  {
   "cell_type": "markdown",
   "metadata": {},
   "source": [
    "x = do1() if something else do2()"
   ]
  },
  {
   "cell_type": "markdown",
   "metadata": {},
   "source": [
    "x = something ? do1() : do2()"
   ]
  },
  {
   "cell_type": "code",
   "execution_count": null,
   "metadata": {},
   "outputs": [],
   "source": []
  },
  {
   "cell_type": "code",
   "execution_count": 118,
   "metadata": {},
   "outputs": [],
   "source": [
    "def predict_row(self, xi):\n",
    "    if self.is_leaf: return self.val\n",
    "    t = self.lhs if xi[self.var_idx]<=self.split else self.rhs\n",
    "    return t.predict_row(xi)\n",
    "\n",
    "DecisionTree.predict_row = predict_row"
   ]
  },
  {
   "cell_type": "code",
   "execution_count": 119,
   "metadata": {},
   "outputs": [
    {
     "name": "stdout",
     "output_type": "stream",
     "text": [
      "CPU times: user 87.4 ms, sys: 60 µs, total: 87.4 ms\n",
      "Wall time: 86.4 ms\n"
     ]
    }
   ],
   "source": [
    "%time preds = tree.predict(X_valid[cols].values)"
   ]
  },
  {
   "cell_type": "code",
   "execution_count": 120,
   "metadata": {},
   "outputs": [
    {
     "data": {
      "text/plain": [
       "<matplotlib.collections.PathCollection at 0x7f9a803d3240>"
      ]
     },
     "execution_count": 120,
     "metadata": {},
     "output_type": "execute_result"
    },
    {
     "data": {
      "image/png": "[encoded data removed]",
      "text/plain": [
       "<Figure size 432x288 with 1 Axes>"
      ]
     },
     "metadata": {
      "needs_background": "light"
     },
     "output_type": "display_data"
    }
   ],
   "source": [
    "plt.scatter(preds, y_valid, alpha=0.05)"
   ]
  },
  {
   "cell_type": "markdown",
   "metadata": {},
   "source": [
    "Predictions of our tree"
   ]
  },
  {
   "cell_type": "code",
   "execution_count": 121,
   "metadata": {},
   "outputs": [
    {
     "data": {
      "text/plain": [
       "0.4840854669925271"
      ]
     },
     "execution_count": 121,
     "metadata": {},
     "output_type": "execute_result"
    }
   ],
   "source": [
    "metrics.r2_score(preds, y_valid)"
   ]
  },
  {
   "cell_type": "code",
   "execution_count": 122,
   "metadata": {},
   "outputs": [
    {
     "name": "stdout",
     "output_type": "stream",
     "text": [
      "CPU times: user 23.3 ms, sys: 0 ns, total: 23.3 ms\n",
      "Wall time: 21.9 ms\n"
     ]
    },
    {
     "data": {
      "text/plain": [
       "<matplotlib.collections.PathCollection at 0x7f9a80507588>"
      ]
     },
     "execution_count": 122,
     "metadata": {},
     "output_type": "execute_result"
    },
    {
     "data": {
      "image/png": "[encoded data removed]",
      "text/plain": [
       "<Figure size 432x288 with 1 Axes>"
      ]
     },
     "metadata": {
      "needs_background": "light"
     },
     "output_type": "display_data"
    }
   ],
   "source": [
    "m = RandomForestRegressor(n_estimators=5, min_samples_leaf=5, bootstrap=False)\n",
    "%time m.fit(x_samp, y_samp)\n",
    "preds = m.predict(X_valid[cols].values)\n",
    "plt.scatter(preds, y_valid, alpha=0.05,  s=6)"
   ]
  },
  {
   "cell_type": "markdown",
   "metadata": {},
   "source": [
    "Predictions of sklearn RandomForestRegressor compare with value above."
   ]
  },
  {
   "cell_type": "code",
   "execution_count": 123,
   "metadata": {},
   "outputs": [
    {
     "data": {
      "text/plain": [
       "0.4754105310069473"
      ]
     },
     "execution_count": 123,
     "metadata": {},
     "output_type": "execute_result"
    }
   ],
   "source": [
    "metrics.r2_score(preds, y_valid)"
   ]
  },
  {
   "cell_type": "markdown",
   "metadata": {},
   "source": [
    "# Putting it together"
   ]
  },
  {
   "cell_type": "code",
   "execution_count": 70,
   "metadata": {},
   "outputs": [],
   "source": [
    "class TreeEnsemble():\n",
    "    def __init__(self, x, y, n_trees, sample_sz, min_leaf=5):\n",
    "        np.random.seed(42)\n",
    "        self.x,self.y,self.sample_sz,self.min_leaf = x,y,sample_sz,min_leaf\n",
    "        self.trees = [self.create_tree() for i in range(n_trees)]\n",
    "\n",
    "    def create_tree(self):\n",
    "        idxs = np.random.permutation(len(self.y))[:self.sample_sz]\n",
    "        return DecisionTree(self.x.iloc[idxs], self.y[idxs], \n",
    "                    idxs=np.array(range(self.sample_sz)), min_leaf=self.min_leaf)\n",
    "        \n",
    "    def predict(self, x):\n",
    "        return np.mean([t.predict(x) for t in self.trees], axis=0)\n",
    "\n",
    "def std_agg(cnt, s1, s2): return math.sqrt((s2/cnt) - (s1/cnt)**2)"
   ]
  },
  {
   "cell_type": "code",
   "execution_count": 71,
   "metadata": {},
   "outputs": [],
   "source": [
    "class DecisionTree():\n",
    "    def __init__(self, x, y, idxs, min_leaf=5):\n",
    "        self.x,self.y,self.idxs,self.min_leaf = x,y,idxs,min_leaf\n",
    "        self.n,self.c = len(idxs), x.shape[1]\n",
    "        self.val = np.mean(y[idxs])\n",
    "        self.score = float('inf')\n",
    "        self.find_varsplit()\n",
    "        \n",
    "    def find_varsplit(self):\n",
    "        for i in range(self.c): self.find_better_split(i)\n",
    "        if self.score == float('inf'): return\n",
    "        x = self.split_col\n",
    "        lhs = np.nonzero(x<=self.split)[0]\n",
    "        rhs = np.nonzero(x>self.split)[0]\n",
    "        self.lhs = DecisionTree(self.x, self.y, self.idxs[lhs])\n",
    "        self.rhs = DecisionTree(self.x, self.y, self.idxs[rhs])\n",
    "\n",
    "    def find_better_split(self, var_idx):\n",
    "        x,y = self.x.values[self.idxs,var_idx], self.y[self.idxs]\n",
    "        sort_idx = np.argsort(x)\n",
    "        sort_y,sort_x = y[sort_idx], x[sort_idx]\n",
    "        rhs_cnt,rhs_sum,rhs_sum2 = self.n, sort_y.sum(), (sort_y**2).sum()\n",
    "        lhs_cnt,lhs_sum,lhs_sum2 = 0,0.,0.\n",
    "\n",
    "        for i in range(0,self.n-self.min_leaf):\n",
    "            xi,yi = sort_x[i],sort_y[i]\n",
    "            lhs_cnt += 1; rhs_cnt -= 1\n",
    "            lhs_sum += yi; rhs_sum -= yi\n",
    "            lhs_sum2 += yi**2; rhs_sum2 -= yi**2\n",
    "            if i<self.min_leaf-1 or xi==sort_x[i+1]:\n",
    "                continue\n",
    "\n",
    "            lhs_std = std_agg(lhs_cnt, lhs_sum, lhs_sum2)\n",
    "            rhs_std = std_agg(rhs_cnt, rhs_sum, rhs_sum2)\n",
    "            curr_score = lhs_std*lhs_cnt + rhs_std*rhs_cnt\n",
    "            if curr_score<self.score: \n",
    "                self.var_idx,self.score,self.split = var_idx,curr_score,xi\n",
    "\n",
    "    @property\n",
    "    def split_name(self): return self.x.columns[self.var_idx]\n",
    "    \n",
    "    @property\n",
    "    def split_col(self): return self.x.values[self.idxs,self.var_idx]\n",
    "\n",
    "    @property\n",
    "    def is_leaf(self): return self.score == float('inf')\n",
    "    \n",
    "    def __repr__(self):\n",
    "        s = f'n: {self.n}; val:{self.val}'\n",
    "        if not self.is_leaf:\n",
    "            s += f'; score:{self.score}; split:{self.split}; var:{self.split_name}'\n",
    "        return s\n",
    "\n",
    "    def predict(self, x):\n",
    "        return np.array([self.predict_row(xi) for xi in x])\n",
    "\n",
    "    def predict_row(self, xi):\n",
    "        if self.is_leaf: return self.val\n",
    "        t = self.lhs if xi[self.var_idx]<=self.split else self.rhs\n",
    "        return t.predict_row(xi)"
   ]
  },
  {
   "cell_type": "code",
   "execution_count": 86,
   "metadata": {},
   "outputs": [],
   "source": [
    "ens = TreeEnsemble(X_train[cols], y_train, 5, 1000)"
   ]
  },
  {
   "cell_type": "code",
   "execution_count": 87,
   "metadata": {},
   "outputs": [],
   "source": [
    "preds = ens.predict(X_valid[cols].values)"
   ]
  },
  {
   "cell_type": "code",
   "execution_count": 88,
   "metadata": {},
   "outputs": [
    {
     "data": {
      "image/png": "[encoded data removed]",
      "text/plain": [
       "<Figure size 432x288 with 1 Axes>"
      ]
     },
     "metadata": {
      "needs_background": "light"
     },
     "output_type": "display_data"
    }
   ],
   "source": [
    "plt.scatter(y_valid, preds, alpha=0.1, s=6);"
   ]
  },
  {
   "cell_type": "code",
   "execution_count": 89,
   "metadata": {},
   "outputs": [
    {
     "data": {
      "text/plain": [
       "12000"
      ]
     },
     "execution_count": 89,
     "metadata": {},
     "output_type": "execute_result"
    }
   ],
   "source": [
    "len(preds)"
   ]
  },
  {
   "cell_type": "code",
   "execution_count": 82,
   "metadata": {},
   "outputs": [
    {
     "data": {
      "text/plain": [
       "0.7407868914873381"
      ]
     },
     "execution_count": 82,
     "metadata": {},
     "output_type": "execute_result"
    }
   ],
   "source": [
    "metrics.r2_score(y_valid, preds)"
   ]
  },
  {
   "cell_type": "code",
   "execution_count": null,
   "metadata": {},
   "outputs": [],
   "source": [
    "%load_ext Cython"
   ]
  },
  {
   "cell_type": "code",
   "execution_count": null,
   "metadata": {},
   "outputs": [],
   "source": [
    "def fib1(n):\n",
    "    a, b = 0, 1\n",
    "    while b < n:\n",
    "        a, b = b, a + b"
   ]
  },
  {
   "cell_type": "code",
   "execution_count": null,
   "metadata": {},
   "outputs": [],
   "source": [
    "%%cython\n",
    "def fib2(n):\n",
    "    a, b = 0, 1\n",
    "    while b < n:\n",
    "        a, b = b, a + b"
   ]
  },
  {
   "cell_type": "code",
   "execution_count": null,
   "metadata": {},
   "outputs": [],
   "source": [
    "%%cython\n",
    "def fib3(int n):\n",
    "    cdef int b = 1\n",
    "    cdef int a = 0\n",
    "    cdef int t = 0\n",
    "    while b < n:\n",
    "        t = a\n",
    "        a = b\n",
    "        b = t + b"
   ]
  },
  {
   "cell_type": "code",
   "execution_count": null,
   "metadata": {},
   "outputs": [],
   "source": [
    "%timeit fib1(50)"
   ]
  },
  {
   "cell_type": "code",
   "execution_count": null,
   "metadata": {},
   "outputs": [],
   "source": [
    "%timeit fib2(50)"
   ]
  },
  {
   "cell_type": "code",
   "execution_count": null,
   "metadata": {},
   "outputs": [],
   "source": [
    "%timeit fib3(50)"
   ]
  },
  {
   "cell_type": "code",
   "execution_count": null,
   "metadata": {},
   "outputs": [],
   "source": []
  },
  {
   "cell_type": "code",
   "execution_count": null,
   "metadata": {},
   "outputs": [],
   "source": []
  }
 ],
 "metadata": {
  "kernelspec": {
   "display_name": "Python 3",
   "language": "python",
   "name": "python3"
  },
  "language_info": {
   "codemirror_mode": {
    "name": "ipython",
    "version": 3
   },
   "file_extension": ".py",
   "mimetype": "text/x-python",
   "name": "python",
   "nbconvert_exporter": "python",
   "pygments_lexer": "ipython3",
   "version": "3.6.10"
  }
 },
 "nbformat": 4,
 "nbformat_minor": 2
}
